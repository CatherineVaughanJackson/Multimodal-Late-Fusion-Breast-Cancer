{
 "cells": [
  {
   "cell_type": "markdown",
   "id": "2dfa5286",
   "metadata": {},
   "source": [
    "# Late Fusion Model for Prediction of Recurrence "
   ]
  },
  {
   "cell_type": "code",
   "execution_count": null,
   "id": "923292a7",
   "metadata": {
    "colab": {
     "base_uri": "https://localhost:8080/"
    },
    "id": "923292a7",
    "outputId": "40fe2c0c-ac3c-4060-fcc9-af80440f0778"
   },
   "outputs": [
    {
     "name": "stdout",
     "output_type": "stream",
     "text": [
      "Looking in indexes: https://pypi.org/simple, https://us-python.pkg.dev/colab-wheels/public/simple/\n",
      "Collecting keras_tuner\n",
      "  Downloading keras_tuner-1.1.3-py3-none-any.whl (135 kB)\n",
      "\u001b[K     |████████████████████████████████| 135 kB 15.3 MB/s \n",
      "\u001b[?25hRequirement already satisfied: packaging in /usr/local/lib/python3.7/dist-packages (from keras_tuner) (21.3)\n",
      "Requirement already satisfied: ipython in /usr/local/lib/python3.7/dist-packages (from keras_tuner) (5.5.0)\n",
      "Requirement already satisfied: numpy in /usr/local/lib/python3.7/dist-packages (from keras_tuner) (1.21.6)\n",
      "Requirement already satisfied: tensorboard in /usr/local/lib/python3.7/dist-packages (from keras_tuner) (2.8.0)\n",
      "Collecting kt-legacy\n",
      "  Downloading kt_legacy-1.0.4-py3-none-any.whl (9.6 kB)\n",
      "Requirement already satisfied: requests in /usr/local/lib/python3.7/dist-packages (from keras_tuner) (2.23.0)\n",
      "Requirement already satisfied: simplegeneric>0.8 in /usr/local/lib/python3.7/dist-packages (from ipython->keras_tuner) (0.8.1)\n",
      "Requirement already satisfied: setuptools>=18.5 in /usr/local/lib/python3.7/dist-packages (from ipython->keras_tuner) (57.4.0)\n",
      "Requirement already satisfied: pickleshare in /usr/local/lib/python3.7/dist-packages (from ipython->keras_tuner) (0.7.5)\n",
      "Requirement already satisfied: pexpect in /usr/local/lib/python3.7/dist-packages (from ipython->keras_tuner) (4.8.0)\n",
      "Requirement already satisfied: prompt-toolkit<2.0.0,>=1.0.4 in /usr/local/lib/python3.7/dist-packages (from ipython->keras_tuner) (1.0.18)\n",
      "Requirement already satisfied: traitlets>=4.2 in /usr/local/lib/python3.7/dist-packages (from ipython->keras_tuner) (5.1.1)\n",
      "Requirement already satisfied: decorator in /usr/local/lib/python3.7/dist-packages (from ipython->keras_tuner) (4.4.2)\n",
      "Requirement already satisfied: pygments in /usr/local/lib/python3.7/dist-packages (from ipython->keras_tuner) (2.6.1)\n",
      "Requirement already satisfied: wcwidth in /usr/local/lib/python3.7/dist-packages (from prompt-toolkit<2.0.0,>=1.0.4->ipython->keras_tuner) (0.2.5)\n",
      "Requirement already satisfied: six>=1.9.0 in /usr/local/lib/python3.7/dist-packages (from prompt-toolkit<2.0.0,>=1.0.4->ipython->keras_tuner) (1.15.0)\n",
      "Requirement already satisfied: pyparsing!=3.0.5,>=2.0.2 in /usr/local/lib/python3.7/dist-packages (from packaging->keras_tuner) (3.0.9)\n",
      "Requirement already satisfied: ptyprocess>=0.5 in /usr/local/lib/python3.7/dist-packages (from pexpect->ipython->keras_tuner) (0.7.0)\n",
      "Requirement already satisfied: idna<3,>=2.5 in /usr/local/lib/python3.7/dist-packages (from requests->keras_tuner) (2.10)\n",
      "Requirement already satisfied: chardet<4,>=3.0.2 in /usr/local/lib/python3.7/dist-packages (from requests->keras_tuner) (3.0.4)\n",
      "Requirement already satisfied: urllib3!=1.25.0,!=1.25.1,<1.26,>=1.21.1 in /usr/local/lib/python3.7/dist-packages (from requests->keras_tuner) (1.24.3)\n",
      "Requirement already satisfied: certifi>=2017.4.17 in /usr/local/lib/python3.7/dist-packages (from requests->keras_tuner) (2022.6.15)\n",
      "Requirement already satisfied: tensorboard-data-server<0.7.0,>=0.6.0 in /usr/local/lib/python3.7/dist-packages (from tensorboard->keras_tuner) (0.6.1)\n",
      "Requirement already satisfied: grpcio>=1.24.3 in /usr/local/lib/python3.7/dist-packages (from tensorboard->keras_tuner) (1.47.0)\n",
      "Requirement already satisfied: wheel>=0.26 in /usr/local/lib/python3.7/dist-packages (from tensorboard->keras_tuner) (0.37.1)\n",
      "Requirement already satisfied: google-auth-oauthlib<0.5,>=0.4.1 in /usr/local/lib/python3.7/dist-packages (from tensorboard->keras_tuner) (0.4.6)\n",
      "Requirement already satisfied: markdown>=2.6.8 in /usr/local/lib/python3.7/dist-packages (from tensorboard->keras_tuner) (3.4.1)\n",
      "Requirement already satisfied: protobuf>=3.6.0 in /usr/local/lib/python3.7/dist-packages (from tensorboard->keras_tuner) (3.17.3)\n",
      "Requirement already satisfied: google-auth<3,>=1.6.3 in /usr/local/lib/python3.7/dist-packages (from tensorboard->keras_tuner) (1.35.0)\n",
      "Requirement already satisfied: absl-py>=0.4 in /usr/local/lib/python3.7/dist-packages (from tensorboard->keras_tuner) (1.2.0)\n",
      "Requirement already satisfied: werkzeug>=0.11.15 in /usr/local/lib/python3.7/dist-packages (from tensorboard->keras_tuner) (1.0.1)\n",
      "Requirement already satisfied: tensorboard-plugin-wit>=1.6.0 in /usr/local/lib/python3.7/dist-packages (from tensorboard->keras_tuner) (1.8.1)\n",
      "Requirement already satisfied: pyasn1-modules>=0.2.1 in /usr/local/lib/python3.7/dist-packages (from google-auth<3,>=1.6.3->tensorboard->keras_tuner) (0.2.8)\n",
      "Requirement already satisfied: cachetools<5.0,>=2.0.0 in /usr/local/lib/python3.7/dist-packages (from google-auth<3,>=1.6.3->tensorboard->keras_tuner) (4.2.4)\n",
      "Requirement already satisfied: rsa<5,>=3.1.4 in /usr/local/lib/python3.7/dist-packages (from google-auth<3,>=1.6.3->tensorboard->keras_tuner) (4.9)\n",
      "Requirement already satisfied: requests-oauthlib>=0.7.0 in /usr/local/lib/python3.7/dist-packages (from google-auth-oauthlib<0.5,>=0.4.1->tensorboard->keras_tuner) (1.3.1)\n",
      "Requirement already satisfied: importlib-metadata>=4.4 in /usr/local/lib/python3.7/dist-packages (from markdown>=2.6.8->tensorboard->keras_tuner) (4.12.0)\n",
      "Requirement already satisfied: typing-extensions>=3.6.4 in /usr/local/lib/python3.7/dist-packages (from importlib-metadata>=4.4->markdown>=2.6.8->tensorboard->keras_tuner) (4.1.1)\n",
      "Requirement already satisfied: zipp>=0.5 in /usr/local/lib/python3.7/dist-packages (from importlib-metadata>=4.4->markdown>=2.6.8->tensorboard->keras_tuner) (3.8.1)\n",
      "Requirement already satisfied: pyasn1<0.5.0,>=0.4.6 in /usr/local/lib/python3.7/dist-packages (from pyasn1-modules>=0.2.1->google-auth<3,>=1.6.3->tensorboard->keras_tuner) (0.4.8)\n",
      "Requirement already satisfied: oauthlib>=3.0.0 in /usr/local/lib/python3.7/dist-packages (from requests-oauthlib>=0.7.0->google-auth-oauthlib<0.5,>=0.4.1->tensorboard->keras_tuner) (3.2.0)\n",
      "Installing collected packages: kt-legacy, keras-tuner\n",
      "Successfully installed keras-tuner-1.1.3 kt-legacy-1.0.4\n"
     ]
    }
   ],
   "source": [
    "pip install keras_tuner"
   ]
  },
  {
   "cell_type": "code",
   "execution_count": null,
   "id": "xJQ2pHPUw7tn",
   "metadata": {
    "colab": {
     "base_uri": "https://localhost:8080/"
    },
    "id": "xJQ2pHPUw7tn",
    "outputId": "d5166bc7-82e2-41ef-d76e-0d2f0adc1829"
   },
   "outputs": [
    {
     "name": "stdout",
     "output_type": "stream",
     "text": [
      "Mounted at /content/drive\n"
     ]
    }
   ],
   "source": [
    "from google.colab import drive\n",
    "drive.mount('/content/drive')"
   ]
  },
  {
   "cell_type": "code",
   "execution_count": null,
   "id": "d62df94b",
   "metadata": {
    "id": "d62df94b"
   },
   "outputs": [],
   "source": [
    "#pip install pydicom\n",
    "#pip install pydot\n",
    "#pip install pydotplus\n",
    "#pip install graphviz"
   ]
  },
  {
   "cell_type": "code",
   "execution_count": null,
   "id": "40805fdb",
   "metadata": {
    "id": "40805fdb"
   },
   "outputs": [],
   "source": [
    "import tensorflow as tf\n",
    "from tensorflow import keras\n",
    "from tensorflow.keras.layers import Dense, Input, Flatten, Conv2D, Dropout, MaxPooling2D, BatchNormalization,GlobalAveragePooling2D\n",
    "from tensorflow.keras.models import Model\n",
    "from keras.utils.vis_utils import plot_model\n",
    "import keras_tuner as kt\n",
    "from keras_tuner.engine.hyperparameters import HyperParameters\n",
    "import tensorflow_hub as hub\n",
    "from tensorflow.keras import backend as K\n",
    "from sklearn import preprocessing\n",
    "\n",
    "from sklearn.model_selection import train_test_split"
   ]
  },
  {
   "cell_type": "code",
   "execution_count": null,
   "id": "555bb79e",
   "metadata": {
    "id": "555bb79e"
   },
   "outputs": [],
   "source": [
    "import pandas as pd\n",
    "import numpy as np\n",
    "import collections\n",
    "from collections import Counter\n",
    "import random\n",
    "import datetime\n",
    "import os\n",
    "\n",
    "import matplotlib.pyplot as plt\n",
    "from matplotlib import cm\n",
    "import seaborn as sns\n",
    "\n",
    "from sklearn.metrics import confusion_matrix\n",
    "from sklearn.metrics import roc_curve\n",
    "from sklearn.metrics import roc_auc_score\n",
    "\n",
    "\n",
    "pd.set_option('display.max_columns', None)"
   ]
  },
  {
   "cell_type": "code",
   "execution_count": null,
   "id": "ae20680f",
   "metadata": {
    "id": "ae20680f"
   },
   "outputs": [],
   "source": [
    "METRICS = [\n",
    "      keras.metrics.TruePositives(name='tp'),\n",
    "      keras.metrics.FalsePositives(name='fp'),\n",
    "      keras.metrics.TrueNegatives(name='tn'),\n",
    "      keras.metrics.FalseNegatives(name='fn'), \n",
    "      keras.metrics.BinaryAccuracy(name='accuracy'),\n",
    "      keras.metrics.Precision(name='precision'),\n",
    "      keras.metrics.Recall(name='recall'),\n",
    "      keras.metrics.AUC(name='auc'),\n",
    "      keras.metrics.AUC(name='prc', curve='PR')\n",
    "]"
   ]
  },
  {
   "cell_type": "markdown",
   "id": "ed719424",
   "metadata": {
    "id": "ed719424"
   },
   "source": [
    "# Building Neural Network"
   ]
  },
  {
   "cell_type": "markdown",
   "id": "f0883c6c",
   "metadata": {
    "id": "f0883c6c"
   },
   "source": [
    "### Validation and Training Sets for both data"
   ]
  },
  {
   "cell_type": "code",
   "execution_count": null,
   "id": "784ffb66",
   "metadata": {
    "id": "784ffb66"
   },
   "outputs": [],
   "source": [
    "image_dataset = np.load(r\"C:\\Users\\Catherine\\Documents\\University MSc\\Computing Masters\\DUKE_Breast_cancer\\Datasets\\2D\\Breast_dataset-2D-256-Recurrence with identifier.npy\", allow_pickle=True)\n",
    "clinical_dataset = pd.read_csv(r\"C:\\Users\\Catherine\\Documents\\University MSc\\Computing Masters\\DUKE_Breast_cancer\\Models\\Joint Models\\Recurrence_clean_clinical.csv\")\n",
    "clinical_dataset = clinical_dataset.drop(\"Unnamed: 0\", axis = 1)"
   ]
  },
  {
   "cell_type": "code",
   "execution_count": null,
   "id": "sgJjwG5qxJYd",
   "metadata": {
    "id": "sgJjwG5qxJYd"
   },
   "outputs": [],
   "source": [
    "#google drive version\n",
    "image_dataset = np.load(\"/content/drive/MyDrive/Datasets/Breast_dataset-2D-256-Recurrence with identifier.npy\", allow_pickle=True)\n",
    "clinical_dataset = pd.read_csv(\"/content/drive/MyDrive/Datasets/Recurrence_clean_clinical.csv\")\n",
    "clinical_dataset = clinical_dataset.drop(\"Unnamed: 0\", axis = 1)"
   ]
  },
  {
   "cell_type": "code",
   "execution_count": null,
   "id": "b5dcbd4d",
   "metadata": {
    "colab": {
     "base_uri": "https://localhost:8080/"
    },
    "id": "b5dcbd4d",
    "outputId": "47850fae-1d34-4f5a-e7e6-244f0bbbbbcc"
   },
   "outputs": [
    {
     "name": "stdout",
     "output_type": "stream",
     "text": [
      "(848, 3)\n",
      "857\n"
     ]
    }
   ],
   "source": [
    "print(image_dataset.shape)\n",
    "print(len(clinical_dataset))\n",
    "#clinical_dataset.columns"
   ]
  },
  {
   "cell_type": "code",
   "execution_count": null,
   "id": "2361ae8a",
   "metadata": {
    "colab": {
     "base_uri": "https://localhost:8080/",
     "height": 206
    },
    "id": "2361ae8a",
    "outputId": "4403fcdc-c643-4256-e50e-f883c9873bed"
   },
   "outputs": [
    {
     "data": {
      "text/html": [
       "\n",
       "  <div id=\"df-02a14b51-0347-463e-9a6f-3df40c531a0f\">\n",
       "    <div class=\"colab-df-container\">\n",
       "      <div>\n",
       "<style scoped>\n",
       "    .dataframe tbody tr th:only-of-type {\n",
       "        vertical-align: middle;\n",
       "    }\n",
       "\n",
       "    .dataframe tbody tr th {\n",
       "        vertical-align: top;\n",
       "    }\n",
       "\n",
       "    .dataframe thead th {\n",
       "        text-align: right;\n",
       "    }\n",
       "</style>\n",
       "<table border=\"1\" class=\"dataframe\">\n",
       "  <thead>\n",
       "    <tr style=\"text-align: right;\">\n",
       "      <th></th>\n",
       "      <th>image</th>\n",
       "      <th>Recurrence</th>\n",
       "      <th>Patient ID</th>\n",
       "    </tr>\n",
       "  </thead>\n",
       "  <tbody>\n",
       "    <tr>\n",
       "      <th>0</th>\n",
       "      <td>[[0, 0, 0, 0, 0, 0, 0, 0, 0, 0, 0, 0, 0, 0, 0,...</td>\n",
       "      <td>0</td>\n",
       "      <td>Breast_MRI_001</td>\n",
       "    </tr>\n",
       "    <tr>\n",
       "      <th>1</th>\n",
       "      <td>[[0, 0, 0, 0, 0, 0, 0, 0, 0, 0, 0, 0, 0, 0, 0,...</td>\n",
       "      <td>0</td>\n",
       "      <td>Breast_MRI_002</td>\n",
       "    </tr>\n",
       "    <tr>\n",
       "      <th>2</th>\n",
       "      <td>[[0, 0, 0, 0, 0, 0, 0, 0, 0, 0, 0, 0, 0, 0, 0,...</td>\n",
       "      <td>0</td>\n",
       "      <td>Breast_MRI_003</td>\n",
       "    </tr>\n",
       "    <tr>\n",
       "      <th>3</th>\n",
       "      <td>[[0, 0, 0, 0, 0, 0, 0, 0, 0, 0, 0, 0, 0, 0, 0,...</td>\n",
       "      <td>0</td>\n",
       "      <td>Breast_MRI_004</td>\n",
       "    </tr>\n",
       "    <tr>\n",
       "      <th>4</th>\n",
       "      <td>[[0, 0, 0, 0, 0, 0, 0, 0, 0, 0, 0, 0, 0, 0, 0,...</td>\n",
       "      <td>0</td>\n",
       "      <td>Breast_MRI_005</td>\n",
       "    </tr>\n",
       "  </tbody>\n",
       "</table>\n",
       "</div>\n",
       "      <button class=\"colab-df-convert\" onclick=\"convertToInteractive('df-02a14b51-0347-463e-9a6f-3df40c531a0f')\"\n",
       "              title=\"Convert this dataframe to an interactive table.\"\n",
       "              style=\"display:none;\">\n",
       "        \n",
       "  <svg xmlns=\"http://www.w3.org/2000/svg\" height=\"24px\"viewBox=\"0 0 24 24\"\n",
       "       width=\"24px\">\n",
       "    <path d=\"M0 0h24v24H0V0z\" fill=\"none\"/>\n",
       "    <path d=\"M18.56 5.44l.94 2.06.94-2.06 2.06-.94-2.06-.94-.94-2.06-.94 2.06-2.06.94zm-11 1L8.5 8.5l.94-2.06 2.06-.94-2.06-.94L8.5 2.5l-.94 2.06-2.06.94zm10 10l.94 2.06.94-2.06 2.06-.94-2.06-.94-.94-2.06-.94 2.06-2.06.94z\"/><path d=\"M17.41 7.96l-1.37-1.37c-.4-.4-.92-.59-1.43-.59-.52 0-1.04.2-1.43.59L10.3 9.45l-7.72 7.72c-.78.78-.78 2.05 0 2.83L4 21.41c.39.39.9.59 1.41.59.51 0 1.02-.2 1.41-.59l7.78-7.78 2.81-2.81c.8-.78.8-2.07 0-2.86zM5.41 20L4 18.59l7.72-7.72 1.47 1.35L5.41 20z\"/>\n",
       "  </svg>\n",
       "      </button>\n",
       "      \n",
       "  <style>\n",
       "    .colab-df-container {\n",
       "      display:flex;\n",
       "      flex-wrap:wrap;\n",
       "      gap: 12px;\n",
       "    }\n",
       "\n",
       "    .colab-df-convert {\n",
       "      background-color: #E8F0FE;\n",
       "      border: none;\n",
       "      border-radius: 50%;\n",
       "      cursor: pointer;\n",
       "      display: none;\n",
       "      fill: #1967D2;\n",
       "      height: 32px;\n",
       "      padding: 0 0 0 0;\n",
       "      width: 32px;\n",
       "    }\n",
       "\n",
       "    .colab-df-convert:hover {\n",
       "      background-color: #E2EBFA;\n",
       "      box-shadow: 0px 1px 2px rgba(60, 64, 67, 0.3), 0px 1px 3px 1px rgba(60, 64, 67, 0.15);\n",
       "      fill: #174EA6;\n",
       "    }\n",
       "\n",
       "    [theme=dark] .colab-df-convert {\n",
       "      background-color: #3B4455;\n",
       "      fill: #D2E3FC;\n",
       "    }\n",
       "\n",
       "    [theme=dark] .colab-df-convert:hover {\n",
       "      background-color: #434B5C;\n",
       "      box-shadow: 0px 1px 3px 1px rgba(0, 0, 0, 0.15);\n",
       "      filter: drop-shadow(0px 1px 2px rgba(0, 0, 0, 0.3));\n",
       "      fill: #FFFFFF;\n",
       "    }\n",
       "  </style>\n",
       "\n",
       "      <script>\n",
       "        const buttonEl =\n",
       "          document.querySelector('#df-02a14b51-0347-463e-9a6f-3df40c531a0f button.colab-df-convert');\n",
       "        buttonEl.style.display =\n",
       "          google.colab.kernel.accessAllowed ? 'block' : 'none';\n",
       "\n",
       "        async function convertToInteractive(key) {\n",
       "          const element = document.querySelector('#df-02a14b51-0347-463e-9a6f-3df40c531a0f');\n",
       "          const dataTable =\n",
       "            await google.colab.kernel.invokeFunction('convertToInteractive',\n",
       "                                                     [key], {});\n",
       "          if (!dataTable) return;\n",
       "\n",
       "          const docLinkHtml = 'Like what you see? Visit the ' +\n",
       "            '<a target=\"_blank\" href=https://colab.research.google.com/notebooks/data_table.ipynb>data table notebook</a>'\n",
       "            + ' to learn more about interactive tables.';\n",
       "          element.innerHTML = '';\n",
       "          dataTable['output_type'] = 'display_data';\n",
       "          await google.colab.output.renderOutput(dataTable, element);\n",
       "          const docLink = document.createElement('div');\n",
       "          docLink.innerHTML = docLinkHtml;\n",
       "          element.appendChild(docLink);\n",
       "        }\n",
       "      </script>\n",
       "    </div>\n",
       "  </div>\n",
       "  "
      ],
      "text/plain": [
       "                                               image Recurrence  \\\n",
       "0  [[0, 0, 0, 0, 0, 0, 0, 0, 0, 0, 0, 0, 0, 0, 0,...          0   \n",
       "1  [[0, 0, 0, 0, 0, 0, 0, 0, 0, 0, 0, 0, 0, 0, 0,...          0   \n",
       "2  [[0, 0, 0, 0, 0, 0, 0, 0, 0, 0, 0, 0, 0, 0, 0,...          0   \n",
       "3  [[0, 0, 0, 0, 0, 0, 0, 0, 0, 0, 0, 0, 0, 0, 0,...          0   \n",
       "4  [[0, 0, 0, 0, 0, 0, 0, 0, 0, 0, 0, 0, 0, 0, 0,...          0   \n",
       "\n",
       "       Patient ID  \n",
       "0  Breast_MRI_001  \n",
       "1  Breast_MRI_002  \n",
       "2  Breast_MRI_003  \n",
       "3  Breast_MRI_004  \n",
       "4  Breast_MRI_005  "
      ]
     },
     "execution_count": 8,
     "metadata": {},
     "output_type": "execute_result"
    }
   ],
   "source": [
    "df = pd.DataFrame(image_dataset, columns =[\"image\", \"Recurrence\", \"Patient ID\"])\n",
    "df.head()"
   ]
  },
  {
   "cell_type": "code",
   "execution_count": null,
   "id": "35115ffc",
   "metadata": {
    "id": "35115ffc"
   },
   "outputs": [],
   "source": [
    "# note to self should have left patient IDs the same in original csv file rather than convert to numeric"
   ]
  },
  {
   "cell_type": "code",
   "execution_count": null,
   "id": "64a09388",
   "metadata": {
    "colab": {
     "base_uri": "https://localhost:8080/",
     "height": 268
    },
    "id": "64a09388",
    "outputId": "dbfe362c-923e-4f35-e57d-c76bda1df7ad",
    "scrolled": true
   },
   "outputs": [
    {
     "data": {
      "text/html": [
       "\n",
       "  <div id=\"df-ffed3fe7-807f-4fa0-a734-8d1e32118588\">\n",
       "    <div class=\"colab-df-container\">\n",
       "      <div>\n",
       "<style scoped>\n",
       "    .dataframe tbody tr th:only-of-type {\n",
       "        vertical-align: middle;\n",
       "    }\n",
       "\n",
       "    .dataframe tbody tr th {\n",
       "        vertical-align: top;\n",
       "    }\n",
       "\n",
       "    .dataframe thead th {\n",
       "        text-align: right;\n",
       "    }\n",
       "</style>\n",
       "<table border=\"1\" class=\"dataframe\">\n",
       "  <thead>\n",
       "    <tr style=\"text-align: right;\">\n",
       "      <th></th>\n",
       "      <th>Recurrence event(s)</th>\n",
       "      <th>Date of Birth (Days)</th>\n",
       "      <th>Menopause (at diagnosis)</th>\n",
       "      <th>Staging(Tumor Size)</th>\n",
       "      <th>Staging(Nodes)</th>\n",
       "      <th>PR</th>\n",
       "      <th>HER2</th>\n",
       "      <th>Tumor Grade Tubule</th>\n",
       "      <th>Tumor Grade Mitotic</th>\n",
       "      <th>Tumor Grade Nuclear</th>\n",
       "      <th>Mol Subtype_Triple Negative</th>\n",
       "      <th>Race and Ethnicity_Hispanic</th>\n",
       "      <th>Race and Ethnicity_Asian</th>\n",
       "      <th>Patient ID</th>\n",
       "    </tr>\n",
       "  </thead>\n",
       "  <tbody>\n",
       "    <tr>\n",
       "      <th>0</th>\n",
       "      <td>0</td>\n",
       "      <td>15209</td>\n",
       "      <td>0</td>\n",
       "      <td>2.0</td>\n",
       "      <td>1.0</td>\n",
       "      <td>0</td>\n",
       "      <td>1</td>\n",
       "      <td>3</td>\n",
       "      <td>1</td>\n",
       "      <td>2</td>\n",
       "      <td>0</td>\n",
       "      <td>0</td>\n",
       "      <td>0</td>\n",
       "      <td>Breast_MRI_001</td>\n",
       "    </tr>\n",
       "    <tr>\n",
       "      <th>1</th>\n",
       "      <td>0</td>\n",
       "      <td>14061</td>\n",
       "      <td>0</td>\n",
       "      <td>2.0</td>\n",
       "      <td>0.0</td>\n",
       "      <td>0</td>\n",
       "      <td>0</td>\n",
       "      <td>3</td>\n",
       "      <td>3</td>\n",
       "      <td>3</td>\n",
       "      <td>1</td>\n",
       "      <td>0</td>\n",
       "      <td>0</td>\n",
       "      <td>Breast_MRI_002</td>\n",
       "    </tr>\n",
       "    <tr>\n",
       "      <th>2</th>\n",
       "      <td>0</td>\n",
       "      <td>22685</td>\n",
       "      <td>1</td>\n",
       "      <td>2.0</td>\n",
       "      <td>1.0</td>\n",
       "      <td>1</td>\n",
       "      <td>0</td>\n",
       "      <td>3</td>\n",
       "      <td>1</td>\n",
       "      <td>2</td>\n",
       "      <td>0</td>\n",
       "      <td>0</td>\n",
       "      <td>0</td>\n",
       "      <td>Breast_MRI_003</td>\n",
       "    </tr>\n",
       "    <tr>\n",
       "      <th>3</th>\n",
       "      <td>0</td>\n",
       "      <td>21479</td>\n",
       "      <td>1</td>\n",
       "      <td>1.0</td>\n",
       "      <td>0.0</td>\n",
       "      <td>1</td>\n",
       "      <td>0</td>\n",
       "      <td>3</td>\n",
       "      <td>1</td>\n",
       "      <td>2</td>\n",
       "      <td>0</td>\n",
       "      <td>0</td>\n",
       "      <td>0</td>\n",
       "      <td>Breast_MRI_004</td>\n",
       "    </tr>\n",
       "    <tr>\n",
       "      <th>4</th>\n",
       "      <td>0</td>\n",
       "      <td>13932</td>\n",
       "      <td>0</td>\n",
       "      <td>2.0</td>\n",
       "      <td>1.0</td>\n",
       "      <td>0</td>\n",
       "      <td>1</td>\n",
       "      <td>3</td>\n",
       "      <td>3</td>\n",
       "      <td>3</td>\n",
       "      <td>0</td>\n",
       "      <td>1</td>\n",
       "      <td>0</td>\n",
       "      <td>Breast_MRI_005</td>\n",
       "    </tr>\n",
       "  </tbody>\n",
       "</table>\n",
       "</div>\n",
       "      <button class=\"colab-df-convert\" onclick=\"convertToInteractive('df-ffed3fe7-807f-4fa0-a734-8d1e32118588')\"\n",
       "              title=\"Convert this dataframe to an interactive table.\"\n",
       "              style=\"display:none;\">\n",
       "        \n",
       "  <svg xmlns=\"http://www.w3.org/2000/svg\" height=\"24px\"viewBox=\"0 0 24 24\"\n",
       "       width=\"24px\">\n",
       "    <path d=\"M0 0h24v24H0V0z\" fill=\"none\"/>\n",
       "    <path d=\"M18.56 5.44l.94 2.06.94-2.06 2.06-.94-2.06-.94-.94-2.06-.94 2.06-2.06.94zm-11 1L8.5 8.5l.94-2.06 2.06-.94-2.06-.94L8.5 2.5l-.94 2.06-2.06.94zm10 10l.94 2.06.94-2.06 2.06-.94-2.06-.94-.94-2.06-.94 2.06-2.06.94z\"/><path d=\"M17.41 7.96l-1.37-1.37c-.4-.4-.92-.59-1.43-.59-.52 0-1.04.2-1.43.59L10.3 9.45l-7.72 7.72c-.78.78-.78 2.05 0 2.83L4 21.41c.39.39.9.59 1.41.59.51 0 1.02-.2 1.41-.59l7.78-7.78 2.81-2.81c.8-.78.8-2.07 0-2.86zM5.41 20L4 18.59l7.72-7.72 1.47 1.35L5.41 20z\"/>\n",
       "  </svg>\n",
       "      </button>\n",
       "      \n",
       "  <style>\n",
       "    .colab-df-container {\n",
       "      display:flex;\n",
       "      flex-wrap:wrap;\n",
       "      gap: 12px;\n",
       "    }\n",
       "\n",
       "    .colab-df-convert {\n",
       "      background-color: #E8F0FE;\n",
       "      border: none;\n",
       "      border-radius: 50%;\n",
       "      cursor: pointer;\n",
       "      display: none;\n",
       "      fill: #1967D2;\n",
       "      height: 32px;\n",
       "      padding: 0 0 0 0;\n",
       "      width: 32px;\n",
       "    }\n",
       "\n",
       "    .colab-df-convert:hover {\n",
       "      background-color: #E2EBFA;\n",
       "      box-shadow: 0px 1px 2px rgba(60, 64, 67, 0.3), 0px 1px 3px 1px rgba(60, 64, 67, 0.15);\n",
       "      fill: #174EA6;\n",
       "    }\n",
       "\n",
       "    [theme=dark] .colab-df-convert {\n",
       "      background-color: #3B4455;\n",
       "      fill: #D2E3FC;\n",
       "    }\n",
       "\n",
       "    [theme=dark] .colab-df-convert:hover {\n",
       "      background-color: #434B5C;\n",
       "      box-shadow: 0px 1px 3px 1px rgba(0, 0, 0, 0.15);\n",
       "      filter: drop-shadow(0px 1px 2px rgba(0, 0, 0, 0.3));\n",
       "      fill: #FFFFFF;\n",
       "    }\n",
       "  </style>\n",
       "\n",
       "      <script>\n",
       "        const buttonEl =\n",
       "          document.querySelector('#df-ffed3fe7-807f-4fa0-a734-8d1e32118588 button.colab-df-convert');\n",
       "        buttonEl.style.display =\n",
       "          google.colab.kernel.accessAllowed ? 'block' : 'none';\n",
       "\n",
       "        async function convertToInteractive(key) {\n",
       "          const element = document.querySelector('#df-ffed3fe7-807f-4fa0-a734-8d1e32118588');\n",
       "          const dataTable =\n",
       "            await google.colab.kernel.invokeFunction('convertToInteractive',\n",
       "                                                     [key], {});\n",
       "          if (!dataTable) return;\n",
       "\n",
       "          const docLinkHtml = 'Like what you see? Visit the ' +\n",
       "            '<a target=\"_blank\" href=https://colab.research.google.com/notebooks/data_table.ipynb>data table notebook</a>'\n",
       "            + ' to learn more about interactive tables.';\n",
       "          element.innerHTML = '';\n",
       "          dataTable['output_type'] = 'display_data';\n",
       "          await google.colab.output.renderOutput(dataTable, element);\n",
       "          const docLink = document.createElement('div');\n",
       "          docLink.innerHTML = docLinkHtml;\n",
       "          element.appendChild(docLink);\n",
       "        }\n",
       "      </script>\n",
       "    </div>\n",
       "  </div>\n",
       "  "
      ],
      "text/plain": [
       "   Recurrence event(s)  Date of Birth (Days)  Menopause (at diagnosis)  \\\n",
       "0                    0                 15209                         0   \n",
       "1                    0                 14061                         0   \n",
       "2                    0                 22685                         1   \n",
       "3                    0                 21479                         1   \n",
       "4                    0                 13932                         0   \n",
       "\n",
       "   Staging(Tumor Size)  Staging(Nodes)  PR  HER2  Tumor Grade Tubule  \\\n",
       "0                  2.0             1.0   0     1                   3   \n",
       "1                  2.0             0.0   0     0                   3   \n",
       "2                  2.0             1.0   1     0                   3   \n",
       "3                  1.0             0.0   1     0                   3   \n",
       "4                  2.0             1.0   0     1                   3   \n",
       "\n",
       "   Tumor Grade Mitotic  Tumor Grade Nuclear  Mol Subtype_Triple Negative  \\\n",
       "0                    1                    2                            0   \n",
       "1                    3                    3                            1   \n",
       "2                    1                    2                            0   \n",
       "3                    1                    2                            0   \n",
       "4                    3                    3                            0   \n",
       "\n",
       "   Race and Ethnicity_Hispanic  Race and Ethnicity_Asian      Patient ID  \n",
       "0                            0                         0  Breast_MRI_001  \n",
       "1                            0                         0  Breast_MRI_002  \n",
       "2                            0                         0  Breast_MRI_003  \n",
       "3                            0                         0  Breast_MRI_004  \n",
       "4                            1                         0  Breast_MRI_005  "
      ]
     },
     "execution_count": 9,
     "metadata": {},
     "output_type": "execute_result"
    }
   ],
   "source": [
    "def file_name_edit(ID):\n",
    "    ID = int(ID)\n",
    "    num = str(ID).zfill(3)\n",
    "    new_string= \"Breast_MRI_\"+str(num)\n",
    "    return new_string\n",
    "\n",
    "clinical_dataset[\"PatientID\"] = clinical_dataset.apply(lambda row: file_name_edit(row[\"Patient ID\"]), axis = 1)\n",
    "clinical_dataset =clinical_dataset.drop([\"Patient ID\"], axis = 1)\n",
    "clinical_dataset= clinical_dataset.rename(columns ={\"PatientID\" : \"Patient ID\"})\n",
    "clinical_dataset.head()"
   ]
  },
  {
   "cell_type": "code",
   "execution_count": null,
   "id": "34338f7e",
   "metadata": {
    "colab": {
     "base_uri": "https://localhost:8080/"
    },
    "id": "34338f7e",
    "outputId": "4eff9b43-e2b1-446b-e8cb-68450a4863ae"
   },
   "outputs": [
    {
     "data": {
      "text/plain": [
       "1    463\n",
       "0    382\n",
       "2     12\n",
       "Name: Menopause (at diagnosis), dtype: int64"
      ]
     },
     "execution_count": 10,
     "metadata": {},
     "output_type": "execute_result"
    }
   ],
   "source": [
    "clinical_dataset[\"Menopause (at diagnosis)\"].value_counts()"
   ]
  },
  {
   "cell_type": "code",
   "execution_count": null,
   "id": "2055d4e1",
   "metadata": {
    "colab": {
     "base_uri": "https://localhost:8080/"
    },
    "id": "2055d4e1",
    "outputId": "f03ddeea-c44a-439c-d218-5ee1a7b07181"
   },
   "outputs": [
    {
     "name": "stdout",
     "output_type": "stream",
     "text": [
      "857\n"
     ]
    }
   ],
   "source": [
    "print(len(clinical_dataset))"
   ]
  },
  {
   "cell_type": "code",
   "execution_count": null,
   "id": "983f3871",
   "metadata": {
    "id": "983f3871"
   },
   "outputs": [],
   "source": [
    "#noticed this hadn't passed through correctly\n",
    "clinical_dataset = clinical_dataset.loc[clinical_dataset[\"Menopause (at diagnosis)\"] != 2]"
   ]
  },
  {
   "cell_type": "code",
   "execution_count": null,
   "id": "cd9dcbd7",
   "metadata": {
    "colab": {
     "base_uri": "https://localhost:8080/"
    },
    "id": "cd9dcbd7",
    "outputId": "8ebcb342-081b-430d-d69a-1f859358bf53"
   },
   "outputs": [
    {
     "name": "stdout",
     "output_type": "stream",
     "text": [
      "837\n"
     ]
    }
   ],
   "source": [
    "joint_df = pd.merge(df, clinical_dataset, on = [\"Patient ID\"] )\n",
    "print(len(joint_df))"
   ]
  },
  {
   "cell_type": "markdown",
   "id": "e5d43803",
   "metadata": {
    "id": "e5d43803"
   },
   "source": [
    "### this is just a unit test to make sure that the dataframes aligned correctly "
   ]
  },
  {
   "cell_type": "code",
   "execution_count": null,
   "id": "f908afac",
   "metadata": {
    "colab": {
     "base_uri": "https://localhost:8080/"
    },
    "id": "f908afac",
    "outputId": "038fc775-c0ad-4a45-99ad-947fbb2b8b33"
   },
   "outputs": [
    {
     "data": {
      "text/plain": [
       "1    837\n",
       "Name: match, dtype: int64"
      ]
     },
     "execution_count": 14,
     "metadata": {},
     "output_type": "execute_result"
    }
   ],
   "source": [
    "def match(column1, column2):\n",
    "    if column1 == column2:\n",
    "        return 1\n",
    "    else:\n",
    "        return 0\n",
    "\n",
    "joint_df['match'] = joint_df.apply(lambda row: match(row['Recurrence'], row['Recurrence event(s)']), axis=1)\n",
    "joint_df['match'].value_counts()"
   ]
  },
  {
   "cell_type": "code",
   "execution_count": null,
   "id": "5089258b",
   "metadata": {
    "id": "5089258b"
   },
   "outputs": [],
   "source": [
    "train_df, test_df = train_test_split(joint_df, test_size=0.3, random_state=42)"
   ]
  },
  {
   "cell_type": "code",
   "execution_count": null,
   "id": "5ccb5d51",
   "metadata": {
    "id": "5ccb5d51"
   },
   "outputs": [],
   "source": [
    "train_image= train_df['image'].tolist()\n",
    "test_image=test_df['image'].tolist()\n",
    "\n",
    "train_label= train_df['Recurrence'].tolist()\n",
    "test_label=test_df['Recurrence'].tolist()"
   ]
  },
  {
   "cell_type": "markdown",
   "id": "61cecb35",
   "metadata": {
    "id": "61cecb35"
   },
   "source": [
    "## 2D Convolutional Neural Network"
   ]
  },
  {
   "cell_type": "code",
   "execution_count": null,
   "id": "7103e1fa",
   "metadata": {
    "id": "7103e1fa"
   },
   "outputs": [],
   "source": [
    "IMG_SIZE = 256\n",
    "BATCH_SIZE = 4"
   ]
  },
  {
   "cell_type": "code",
   "execution_count": null,
   "id": "9b6fc7ce",
   "metadata": {
    "id": "9b6fc7ce"
   },
   "outputs": [],
   "source": [
    "X_train_image = np.asarray(train_image).astype(np.float32)\n",
    "y_train_image = np.asarray(train_label).astype(np.float32)\n",
    "X_test_image = np.asarray(test_image).astype(np.float32)\n",
    "y_test_image = np.asarray(test_label).astype(np.float32)"
   ]
  },
  {
   "cell_type": "code",
   "execution_count": null,
   "id": "c3e2bc5e",
   "metadata": {
    "colab": {
     "base_uri": "https://localhost:8080/"
    },
    "id": "c3e2bc5e",
    "outputId": "2ba38ecc-5e99-4390-9f41-587bc577988e"
   },
   "outputs": [
    {
     "data": {
      "text/plain": [
       "(585, 256, 256)"
      ]
     },
     "execution_count": 19,
     "metadata": {},
     "output_type": "execute_result"
    }
   ],
   "source": [
    "X_train_image.shape"
   ]
  },
  {
   "cell_type": "code",
   "execution_count": null,
   "id": "03b0b390",
   "metadata": {
    "colab": {
     "base_uri": "https://localhost:8080/"
    },
    "id": "03b0b390",
    "outputId": "66250816-9490-493d-cd03-f38098934d3e"
   },
   "outputs": [
    {
     "data": {
      "text/plain": [
       "(585,)"
      ]
     },
     "execution_count": 19,
     "metadata": {},
     "output_type": "execute_result"
    }
   ],
   "source": [
    "y_train_image.shape"
   ]
  },
  {
   "cell_type": "code",
   "execution_count": null,
   "id": "9587f12e",
   "metadata": {
    "id": "9587f12e"
   },
   "outputs": [],
   "source": [
    "train_loader = tf.data.Dataset.from_tensor_slices((X_train_image, y_train_image))\n",
    "test_loader = tf.data.Dataset.from_tensor_slices((X_test_image, y_test_image))"
   ]
  },
  {
   "cell_type": "markdown",
   "id": "d9b396f1",
   "metadata": {
    "id": "d9b396f1"
   },
   "source": [
    "rotate function doesn't work yet , note to self do I need to standardize the image .255 if there is no colour"
   ]
  },
  {
   "cell_type": "code",
   "execution_count": null,
   "id": "c827a73e",
   "metadata": {
    "id": "c827a73e"
   },
   "outputs": [],
   "source": [
    "def train_preprocessing(images, labels):\n",
    "    \n",
    "    #images - tf.resize(images, [128,128])\n",
    "    images = tf.expand_dims(images, axis =3)\n",
    "    images = tf.image.random_flip_left_right(images)\n",
    "    images = tf.image.random_flip_up_down(images)\n",
    "    images = tf.cast(images, tf.float32) /255.\n",
    "    \n",
    "    return (images, labels)\n",
    "\n",
    "\n",
    "def validation_preprocessing(images, labels):\n",
    "        \n",
    "    images = tf.expand_dims(images, axis =3)\n",
    "    images = tf.cast(images, tf.float32) /255.\n",
    "    \n",
    "    return (images, labels)"
   ]
  },
  {
   "cell_type": "code",
   "execution_count": null,
   "id": "aed94fe3",
   "metadata": {
    "id": "aed94fe3"
   },
   "outputs": [],
   "source": [
    "train_dataset = (\n",
    "    train_loader\n",
    "    .batch(BATCH_SIZE)\n",
    "    .map(train_preprocessing)\n",
    "    .prefetch(tf.data.AUTOTUNE)\n",
    ")\n",
    "\n",
    "validation_dataset =(\n",
    "    test_loader\n",
    "    .batch(BATCH_SIZE)\n",
    "    .map(validation_preprocessing)\n",
    "    .prefetch(tf.data.AUTOTUNE)\n",
    ")"
   ]
  },
  {
   "cell_type": "code",
   "execution_count": null,
   "id": "695fb28c",
   "metadata": {
    "colab": {
     "base_uri": "https://localhost:8080/",
     "height": 321
    },
    "id": "695fb28c",
    "outputId": "9224a066-0326-4ff7-b9ff-a2a7dbfa88fe"
   },
   "outputs": [
    {
     "name": "stdout",
     "output_type": "stream",
     "text": [
      "0.0\n",
      "Dimension of the MRI scan is: (256, 256, 1)\n"
     ]
    },
    {
     "data": {
      "text/plain": [
       "<matplotlib.image.AxesImage at 0x7f9f06705c90>"
      ]
     },
     "execution_count": 23,
     "metadata": {},
     "output_type": "execute_result"
    },
    {
     "data": {
      "image/png": "[encoded data removed]",
      "text/plain": [
       "<Figure size 432x288 with 1 Axes>"
      ]
     },
     "metadata": {
      "needs_background": "light"
     },
     "output_type": "display_data"
    }
   ],
   "source": [
    "data = train_dataset.take(1)\n",
    "images, labels = list(data)[0]\n",
    "images = images.numpy()\n",
    "image = images[0]\n",
    "print(labels.numpy()[0])\n",
    "print(\"Dimension of the MRI scan is:\", image.shape)\n",
    "plt.imshow(image.squeeze(), cmap=\"gray\")"
   ]
  },
  {
   "cell_type": "markdown",
   "id": "a276a6cc",
   "metadata": {
    "id": "a276a6cc"
   },
   "source": [
    "### Define the Model "
   ]
  },
  {
   "cell_type": "code",
   "execution_count": null,
   "id": "3c0092cd",
   "metadata": {
    "id": "3c0092cd"
   },
   "outputs": [],
   "source": [
    "def create_image_model():\n",
    "    tensor_shape = (IMG_SIZE, IMG_SIZE, 1)\n",
    "\n",
    "    img_input = Input(shape=(tensor_shape))\n",
    "\n",
    "    x = Conv2D(32, (3,3), activation=\"relu\")(img_input)\n",
    "    x = MaxPooling2D(pool_size=2)(x)\n",
    "    x = BatchNormalization()(x)\n",
    "\n",
    "    x = Conv2D(64, (3,3), activation=\"relu\")(x)\n",
    "    #x = MaxPooling2D(pool_size=2)(x)\n",
    "    x = BatchNormalization()(x)\n",
    "\n",
    "    x = Conv2D(256, (3,3), activation=\"relu\")(x)\n",
    "    #x = MaxPooling2D(pool_size=2)(x)\n",
    "    x = BatchNormalization()(x)\n",
    "\n",
    "\n",
    "    x = Conv2D(256, (3,3), activation=\"relu\")(x)\n",
    "\n",
    "    x =GlobalAveragePooling2D()(x)\n",
    "    x = Dense(units=129, activation=\"relu\")(x)\n",
    "    x = Dropout(0.2)(x)\n",
    "\n",
    "    predictions = Dense(1, activation = \"sigmoid\")(x)\n",
    "\n",
    "    model_image = Model(inputs = img_input, outputs = predictions)\n",
    "    # Compile model.\n",
    "\n",
    "    initial_learning_rate = 0.0001\n",
    "    lr_schedule = tf.keras.optimizers.schedules.ExponentialDecay(\n",
    "      initial_learning_rate, decay_steps=100000, decay_rate=0.96, staircase=True\n",
    "    )\n",
    "\n",
    "    model_image.compile(optimizer=tf.optimizers.Adam(learning_rate = lr_schedule),\n",
    "              loss='binary_crossentropy',\n",
    "              metrics= METRICS)\n",
    "    return model_image"
   ]
  },
  {
   "cell_type": "code",
   "execution_count": null,
   "id": "3c41d3f6",
   "metadata": {
    "id": "3c41d3f6"
   },
   "outputs": [],
   "source": [
    "model_image = create_image_model()"
   ]
  },
  {
   "cell_type": "code",
   "execution_count": null,
   "id": "0dabab43",
   "metadata": {
    "id": "0dabab43"
   },
   "outputs": [],
   "source": [
    "checkpoint_cb = keras.callbacks.ModelCheckpoint(\n",
    "    \"2d_image_recurrence.h5\", save_best_only=True\n",
    ")\n",
    "\n",
    "#early_stopping_cb = keras.callbacks.EarlyStopping(monitor=\"val_loss\", patience=15)\n",
    "early_stopping_cb  = tf.keras.callbacks.EarlyStopping(monitor='val_auc', patience = 10, restore_best_weights = True)"
   ]
  },
  {
   "cell_type": "markdown",
   "id": "205e2719",
   "metadata": {
    "id": "205e2719"
   },
   "source": [
    "## Rebalancing Class Weights"
   ]
  },
  {
   "cell_type": "code",
   "execution_count": null,
   "id": "724d8175",
   "metadata": {
    "colab": {
     "base_uri": "https://localhost:8080/"
    },
    "id": "724d8175",
    "outputId": "ec95877b-dd81-4bff-df76-2b1e7f725e32"
   },
   "outputs": [
    {
     "name": "stdout",
     "output_type": "stream",
     "text": [
      "{0: 526, 1: 59}\n",
      "{0: 1.1121673003802282, 1: 9.915254237288135}\n"
     ]
    }
   ],
   "source": [
    "\n",
    "num0 = np.count_nonzero(y_train_image == np.array(0))\n",
    "num1 = np.count_nonzero(y_train_image == np.array(1))\n",
    "org_size = {0 : num0 , 1 : num1}\n",
    "\n",
    "n_classes= 2 \n",
    "n_sample0= int(org_size.get(0))\n",
    "n_sample1= int(org_size.get(1))\n",
    "n_samples= n_sample0 + n_sample1\n",
    "    \n",
    "\n",
    "#Weights for class 0 (no reccurence):\n",
    "w0=  n_samples/(n_classes*n_sample0) \n",
    "\n",
    "#Weights for class 1 (cancer recurence):\n",
    "w1= n_samples/(n_classes*n_sample1)\n",
    "\n",
    "class_weights = {0:w0*2, 1: w1*2}\n",
    "print(org_size)\n",
    "print(class_weights)"
   ]
  },
  {
   "cell_type": "markdown",
   "id": "19787ade",
   "metadata": {
    "id": "19787ade"
   },
   "source": [
    "## Run the Model"
   ]
  },
  {
   "cell_type": "code",
   "execution_count": null,
   "id": "ff48d42f",
   "metadata": {
    "colab": {
     "base_uri": "https://localhost:8080/"
    },
    "id": "ff48d42f",
    "outputId": "2f477957-c7a3-4d38-d3e1-5f001bc52a6c"
   },
   "outputs": [
    {
     "name": "stdout",
     "output_type": "stream",
     "text": [
      "Epoch 1/50\n",
      "147/147 - 7s - loss: 1.5120 - tp: 27.0000 - fp: 262.0000 - tn: 264.0000 - fn: 32.0000 - accuracy: 0.4974 - precision: 0.0934 - recall: 0.4576 - auc: 0.4860 - prc: 0.1106 - val_loss: 0.5585 - val_tp: 1.0000 - val_fp: 10.0000 - val_tn: 218.0000 - val_fn: 23.0000 - val_accuracy: 0.8690 - val_precision: 0.0909 - val_recall: 0.0417 - val_auc: 0.4293 - val_prc: 0.0842 - 7s/epoch - 47ms/step\n",
      "Epoch 2/50\n",
      "147/147 - 7s - loss: 1.4621 - tp: 28.0000 - fp: 268.0000 - tn: 258.0000 - fn: 31.0000 - accuracy: 0.4889 - precision: 0.0946 - recall: 0.4746 - auc: 0.4908 - prc: 0.1105 - val_loss: 0.6305 - val_tp: 4.0000 - val_fp: 42.0000 - val_tn: 186.0000 - val_fn: 20.0000 - val_accuracy: 0.7540 - val_precision: 0.0870 - val_recall: 0.1667 - val_auc: 0.4551 - val_prc: 0.0896 - 7s/epoch - 45ms/step\n",
      "Epoch 3/50\n",
      "147/147 - 7s - loss: 1.4431 - tp: 25.0000 - fp: 259.0000 - tn: 267.0000 - fn: 34.0000 - accuracy: 0.4991 - precision: 0.0880 - recall: 0.4237 - auc: 0.4426 - prc: 0.1037 - val_loss: 0.6340 - val_tp: 6.0000 - val_fp: 68.0000 - val_tn: 160.0000 - val_fn: 18.0000 - val_accuracy: 0.6587 - val_precision: 0.0811 - val_recall: 0.2500 - val_auc: 0.4274 - val_prc: 0.0884 - 7s/epoch - 45ms/step\n",
      "Epoch 4/50\n",
      "147/147 - 7s - loss: 1.4109 - tp: 31.0000 - fp: 269.0000 - tn: 257.0000 - fn: 28.0000 - accuracy: 0.4923 - precision: 0.1033 - recall: 0.5254 - auc: 0.4987 - prc: 0.1138 - val_loss: 0.7444 - val_tp: 7.0000 - val_fp: 85.0000 - val_tn: 143.0000 - val_fn: 17.0000 - val_accuracy: 0.5952 - val_precision: 0.0761 - val_recall: 0.2917 - val_auc: 0.4041 - val_prc: 0.0852 - 7s/epoch - 46ms/step\n",
      "Epoch 5/50\n",
      "147/147 - 7s - loss: 1.4139 - tp: 28.0000 - fp: 214.0000 - tn: 312.0000 - fn: 31.0000 - accuracy: 0.5812 - precision: 0.1157 - recall: 0.4746 - auc: 0.5148 - prc: 0.1186 - val_loss: 0.7081 - val_tp: 7.0000 - val_fp: 76.0000 - val_tn: 152.0000 - val_fn: 17.0000 - val_accuracy: 0.6310 - val_precision: 0.0843 - val_recall: 0.2917 - val_auc: 0.4084 - val_prc: 0.0839 - 7s/epoch - 48ms/step\n",
      "Epoch 6/50\n",
      "147/147 - 7s - loss: 1.3969 - tp: 33.0000 - fp: 249.0000 - tn: 277.0000 - fn: 26.0000 - accuracy: 0.5299 - precision: 0.1170 - recall: 0.5593 - auc: 0.5356 - prc: 0.1258 - val_loss: 0.6471 - val_tp: 6.0000 - val_fp: 70.0000 - val_tn: 158.0000 - val_fn: 18.0000 - val_accuracy: 0.6508 - val_precision: 0.0789 - val_recall: 0.2500 - val_auc: 0.4182 - val_prc: 0.0854 - 7s/epoch - 45ms/step\n",
      "Epoch 7/50\n",
      "147/147 - 6s - loss: 1.4358 - tp: 25.0000 - fp: 252.0000 - tn: 274.0000 - fn: 34.0000 - accuracy: 0.5111 - precision: 0.0903 - recall: 0.4237 - auc: 0.4654 - prc: 0.1027 - val_loss: 0.7314 - val_tp: 7.0000 - val_fp: 85.0000 - val_tn: 143.0000 - val_fn: 17.0000 - val_accuracy: 0.5952 - val_precision: 0.0761 - val_recall: 0.2917 - val_auc: 0.4103 - val_prc: 0.0853 - 6s/epoch - 38ms/step\n",
      "Epoch 8/50\n",
      "147/147 - 6s - loss: 1.4276 - tp: 21.0000 - fp: 233.0000 - tn: 293.0000 - fn: 38.0000 - accuracy: 0.5368 - precision: 0.0827 - recall: 0.3559 - auc: 0.4807 - prc: 0.0981 - val_loss: 0.6763 - val_tp: 7.0000 - val_fp: 73.0000 - val_tn: 155.0000 - val_fn: 17.0000 - val_accuracy: 0.6429 - val_precision: 0.0875 - val_recall: 0.2917 - val_auc: 0.4284 - val_prc: 0.0852 - 6s/epoch - 43ms/step\n",
      "Epoch 9/50\n",
      "147/147 - 6s - loss: 1.4095 - tp: 28.0000 - fp: 245.0000 - tn: 281.0000 - fn: 31.0000 - accuracy: 0.5282 - precision: 0.1026 - recall: 0.4746 - auc: 0.5089 - prc: 0.1035 - val_loss: 0.6934 - val_tp: 7.0000 - val_fp: 77.0000 - val_tn: 151.0000 - val_fn: 17.0000 - val_accuracy: 0.6270 - val_precision: 0.0833 - val_recall: 0.2917 - val_auc: 0.4147 - val_prc: 0.0825 - 6s/epoch - 43ms/step\n",
      "Epoch 10/50\n",
      "147/147 - 6s - loss: 1.4054 - tp: 25.0000 - fp: 213.0000 - tn: 313.0000 - fn: 34.0000 - accuracy: 0.5778 - precision: 0.1050 - recall: 0.4237 - auc: 0.5165 - prc: 0.1078 - val_loss: 0.7034 - val_tp: 7.0000 - val_fp: 73.0000 - val_tn: 155.0000 - val_fn: 17.0000 - val_accuracy: 0.6429 - val_precision: 0.0875 - val_recall: 0.2917 - val_auc: 0.4234 - val_prc: 0.0842 - 6s/epoch - 44ms/step\n",
      "Epoch 11/50\n",
      "147/147 - 7s - loss: 1.4150 - tp: 28.0000 - fp: 228.0000 - tn: 298.0000 - fn: 31.0000 - accuracy: 0.5573 - precision: 0.1094 - recall: 0.4746 - auc: 0.5095 - prc: 0.1014 - val_loss: 0.7227 - val_tp: 7.0000 - val_fp: 77.0000 - val_tn: 151.0000 - val_fn: 17.0000 - val_accuracy: 0.6270 - val_precision: 0.0833 - val_recall: 0.2917 - val_auc: 0.4111 - val_prc: 0.0816 - 7s/epoch - 47ms/step\n",
      "Epoch 12/50\n",
      "147/147 - 6s - loss: 1.4006 - tp: 27.0000 - fp: 221.0000 - tn: 305.0000 - fn: 32.0000 - accuracy: 0.5675 - precision: 0.1089 - recall: 0.4576 - auc: 0.5286 - prc: 0.1153 - val_loss: 0.6489 - val_tp: 7.0000 - val_fp: 69.0000 - val_tn: 159.0000 - val_fn: 17.0000 - val_accuracy: 0.6587 - val_precision: 0.0921 - val_recall: 0.2917 - val_auc: 0.4161 - val_prc: 0.0813 - 6s/epoch - 38ms/step\n",
      "Epoch 13/50\n",
      "147/147 - 6s - loss: 1.4258 - tp: 24.0000 - fp: 224.0000 - tn: 302.0000 - fn: 35.0000 - accuracy: 0.5573 - precision: 0.0968 - recall: 0.4068 - auc: 0.4926 - prc: 0.0975 - val_loss: 0.6875 - val_tp: 7.0000 - val_fp: 76.0000 - val_tn: 152.0000 - val_fn: 17.0000 - val_accuracy: 0.6310 - val_precision: 0.0843 - val_recall: 0.2917 - val_auc: 0.4096 - val_prc: 0.0850 - 6s/epoch - 38ms/step\n",
      "Epoch 14/50\n",
      "147/147 - 6s - loss: 1.3887 - tp: 31.0000 - fp: 240.0000 - tn: 286.0000 - fn: 28.0000 - accuracy: 0.5419 - precision: 0.1144 - recall: 0.5254 - auc: 0.5456 - prc: 0.1193 - val_loss: 0.7401 - val_tp: 7.0000 - val_fp: 81.0000 - val_tn: 147.0000 - val_fn: 17.0000 - val_accuracy: 0.6111 - val_precision: 0.0795 - val_recall: 0.2917 - val_auc: 0.4117 - val_prc: 0.0827 - 6s/epoch - 38ms/step\n",
      "Epoch 15/50\n",
      "147/147 - 6s - loss: 1.3917 - tp: 30.0000 - fp: 226.0000 - tn: 300.0000 - fn: 29.0000 - accuracy: 0.5641 - precision: 0.1172 - recall: 0.5085 - auc: 0.5540 - prc: 0.1197 - val_loss: 0.6732 - val_tp: 7.0000 - val_fp: 74.0000 - val_tn: 154.0000 - val_fn: 17.0000 - val_accuracy: 0.6389 - val_precision: 0.0864 - val_recall: 0.2917 - val_auc: 0.4313 - val_prc: 0.0832 - 6s/epoch - 38ms/step\n",
      "Epoch 16/50\n",
      "147/147 - 6s - loss: 1.4313 - tp: 22.0000 - fp: 240.0000 - tn: 286.0000 - fn: 37.0000 - accuracy: 0.5265 - precision: 0.0840 - recall: 0.3729 - auc: 0.4766 - prc: 0.1034 - val_loss: 0.7593 - val_tp: 9.0000 - val_fp: 94.0000 - val_tn: 134.0000 - val_fn: 15.0000 - val_accuracy: 0.5675 - val_precision: 0.0874 - val_recall: 0.3750 - val_auc: 0.4317 - val_prc: 0.0844 - 6s/epoch - 38ms/step\n",
      "Epoch 17/50\n",
      "147/147 - 6s - loss: 1.4131 - tp: 26.0000 - fp: 209.0000 - tn: 317.0000 - fn: 33.0000 - accuracy: 0.5863 - precision: 0.1106 - recall: 0.4407 - auc: 0.5127 - prc: 0.1107 - val_loss: 0.6887 - val_tp: 6.0000 - val_fp: 72.0000 - val_tn: 156.0000 - val_fn: 18.0000 - val_accuracy: 0.6429 - val_precision: 0.0769 - val_recall: 0.2500 - val_auc: 0.4231 - val_prc: 0.0851 - 6s/epoch - 38ms/step\n",
      "Epoch 18/50\n",
      "147/147 - 6s - loss: 1.4037 - tp: 25.0000 - fp: 228.0000 - tn: 298.0000 - fn: 34.0000 - accuracy: 0.5521 - precision: 0.0988 - recall: 0.4237 - auc: 0.5108 - prc: 0.1164 - val_loss: 0.6394 - val_tp: 7.0000 - val_fp: 67.0000 - val_tn: 161.0000 - val_fn: 17.0000 - val_accuracy: 0.6667 - val_precision: 0.0946 - val_recall: 0.2917 - val_auc: 0.4277 - val_prc: 0.0829 - 6s/epoch - 38ms/step\n",
      "Epoch 19/50\n",
      "147/147 - 6s - loss: 1.4100 - tp: 28.0000 - fp: 239.0000 - tn: 287.0000 - fn: 31.0000 - accuracy: 0.5385 - precision: 0.1049 - recall: 0.4746 - auc: 0.5155 - prc: 0.1110 - val_loss: 0.6715 - val_tp: 7.0000 - val_fp: 77.0000 - val_tn: 151.0000 - val_fn: 17.0000 - val_accuracy: 0.6270 - val_precision: 0.0833 - val_recall: 0.2917 - val_auc: 0.4279 - val_prc: 0.0833 - 6s/epoch - 38ms/step\n",
      "Epoch 20/50\n",
      "147/147 - 6s - loss: 1.4168 - tp: 29.0000 - fp: 276.0000 - tn: 250.0000 - fn: 30.0000 - accuracy: 0.4769 - precision: 0.0951 - recall: 0.4915 - auc: 0.4901 - prc: 0.1026 - val_loss: 0.7166 - val_tp: 7.0000 - val_fp: 84.0000 - val_tn: 144.0000 - val_fn: 17.0000 - val_accuracy: 0.5992 - val_precision: 0.0769 - val_recall: 0.2917 - val_auc: 0.4171 - val_prc: 0.0829 - 6s/epoch - 38ms/step\n",
      "Epoch 21/50\n",
      "147/147 - 6s - loss: 1.3908 - tp: 27.0000 - fp: 238.0000 - tn: 288.0000 - fn: 32.0000 - accuracy: 0.5385 - precision: 0.1019 - recall: 0.4576 - auc: 0.5311 - prc: 0.1155 - val_loss: 0.6510 - val_tp: 6.0000 - val_fp: 64.0000 - val_tn: 164.0000 - val_fn: 18.0000 - val_accuracy: 0.6746 - val_precision: 0.0857 - val_recall: 0.2500 - val_auc: 0.4229 - val_prc: 0.0812 - 6s/epoch - 39ms/step\n",
      "Epoch 22/50\n",
      "147/147 - 6s - loss: 1.3922 - tp: 26.0000 - fp: 218.0000 - tn: 308.0000 - fn: 33.0000 - accuracy: 0.5709 - precision: 0.1066 - recall: 0.4407 - auc: 0.5332 - prc: 0.1195 - val_loss: 0.7319 - val_tp: 7.0000 - val_fp: 80.0000 - val_tn: 148.0000 - val_fn: 17.0000 - val_accuracy: 0.6151 - val_precision: 0.0805 - val_recall: 0.2917 - val_auc: 0.4172 - val_prc: 0.0813 - 6s/epoch - 38ms/step\n",
      "Epoch 23/50\n",
      "147/147 - 6s - loss: 1.3942 - tp: 27.0000 - fp: 222.0000 - tn: 304.0000 - fn: 32.0000 - accuracy: 0.5658 - precision: 0.1084 - recall: 0.4576 - auc: 0.5218 - prc: 0.1148 - val_loss: 0.6142 - val_tp: 6.0000 - val_fp: 65.0000 - val_tn: 163.0000 - val_fn: 18.0000 - val_accuracy: 0.6706 - val_precision: 0.0845 - val_recall: 0.2500 - val_auc: 0.4231 - val_prc: 0.0814 - 6s/epoch - 38ms/step\n",
      "Epoch 24/50\n",
      "147/147 - 6s - loss: 1.3861 - tp: 25.0000 - fp: 249.0000 - tn: 277.0000 - fn: 34.0000 - accuracy: 0.5162 - precision: 0.0912 - recall: 0.4237 - auc: 0.5266 - prc: 0.1283 - val_loss: 0.6891 - val_tp: 7.0000 - val_fp: 72.0000 - val_tn: 156.0000 - val_fn: 17.0000 - val_accuracy: 0.6468 - val_precision: 0.0886 - val_recall: 0.2917 - val_auc: 0.4090 - val_prc: 0.0799 - 6s/epoch - 38ms/step\n",
      "Epoch 25/50\n",
      "147/147 - 6s - loss: 1.3703 - tp: 30.0000 - fp: 210.0000 - tn: 316.0000 - fn: 29.0000 - accuracy: 0.5915 - precision: 0.1250 - recall: 0.5085 - auc: 0.5795 - prc: 0.1412 - val_loss: 0.7637 - val_tp: 7.0000 - val_fp: 85.0000 - val_tn: 143.0000 - val_fn: 17.0000 - val_accuracy: 0.5952 - val_precision: 0.0761 - val_recall: 0.2917 - val_auc: 0.4180 - val_prc: 0.0811 - 6s/epoch - 38ms/step\n",
      "Epoch 26/50\n",
      "147/147 - 6s - loss: 1.4052 - tp: 27.0000 - fp: 219.0000 - tn: 307.0000 - fn: 32.0000 - accuracy: 0.5709 - precision: 0.1098 - recall: 0.4576 - auc: 0.5227 - prc: 0.1143 - val_loss: 0.6951 - val_tp: 7.0000 - val_fp: 72.0000 - val_tn: 156.0000 - val_fn: 17.0000 - val_accuracy: 0.6468 - val_precision: 0.0886 - val_recall: 0.2917 - val_auc: 0.4490 - val_prc: 0.0838 - 6s/epoch - 40ms/step\n",
      "Epoch 27/50\n",
      "147/147 - 6s - loss: 1.4020 - tp: 26.0000 - fp: 219.0000 - tn: 307.0000 - fn: 33.0000 - accuracy: 0.5692 - precision: 0.1061 - recall: 0.4407 - auc: 0.5072 - prc: 0.1080 - val_loss: 0.7280 - val_tp: 7.0000 - val_fp: 80.0000 - val_tn: 148.0000 - val_fn: 17.0000 - val_accuracy: 0.6151 - val_precision: 0.0805 - val_recall: 0.2917 - val_auc: 0.4228 - val_prc: 0.0814 - 6s/epoch - 38ms/step\n",
      "Epoch 28/50\n",
      "147/147 - 6s - loss: 1.4005 - tp: 28.0000 - fp: 239.0000 - tn: 287.0000 - fn: 31.0000 - accuracy: 0.5385 - precision: 0.1049 - recall: 0.4746 - auc: 0.5178 - prc: 0.1054 - val_loss: 0.7498 - val_tp: 7.0000 - val_fp: 79.0000 - val_tn: 149.0000 - val_fn: 17.0000 - val_accuracy: 0.6190 - val_precision: 0.0814 - val_recall: 0.2917 - val_auc: 0.4107 - val_prc: 0.0796 - 6s/epoch - 38ms/step\n",
      "Epoch 29/50\n",
      "147/147 - 6s - loss: 1.3905 - tp: 27.0000 - fp: 259.0000 - tn: 267.0000 - fn: 32.0000 - accuracy: 0.5026 - precision: 0.0944 - recall: 0.4576 - auc: 0.5186 - prc: 0.1097 - val_loss: 0.7687 - val_tp: 8.0000 - val_fp: 87.0000 - val_tn: 141.0000 - val_fn: 16.0000 - val_accuracy: 0.5913 - val_precision: 0.0842 - val_recall: 0.3333 - val_auc: 0.4160 - val_prc: 0.0811 - 6s/epoch - 39ms/step\n",
      "Epoch 30/50\n",
      "147/147 - 6s - loss: 1.4030 - tp: 25.0000 - fp: 257.0000 - tn: 269.0000 - fn: 34.0000 - accuracy: 0.5026 - precision: 0.0887 - recall: 0.4237 - auc: 0.5053 - prc: 0.1067 - val_loss: 0.7397 - val_tp: 7.0000 - val_fp: 76.0000 - val_tn: 152.0000 - val_fn: 17.0000 - val_accuracy: 0.6310 - val_precision: 0.0843 - val_recall: 0.2917 - val_auc: 0.4219 - val_prc: 0.0812 - 6s/epoch - 38ms/step\n",
      "Epoch 31/50\n",
      "147/147 - 6s - loss: 1.3817 - tp: 27.0000 - fp: 218.0000 - tn: 308.0000 - fn: 32.0000 - accuracy: 0.5726 - precision: 0.1102 - recall: 0.4576 - auc: 0.5431 - prc: 0.1160 - val_loss: 0.8185 - val_tp: 9.0000 - val_fp: 94.0000 - val_tn: 134.0000 - val_fn: 15.0000 - val_accuracy: 0.5675 - val_precision: 0.0874 - val_recall: 0.3750 - val_auc: 0.4473 - val_prc: 0.0832 - 6s/epoch - 38ms/step\n",
      "Epoch 32/50\n",
      "147/147 - 6s - loss: 1.3858 - tp: 26.0000 - fp: 237.0000 - tn: 289.0000 - fn: 33.0000 - accuracy: 0.5385 - precision: 0.0989 - recall: 0.4407 - auc: 0.5315 - prc: 0.1344 - val_loss: 0.7693 - val_tp: 8.0000 - val_fp: 89.0000 - val_tn: 139.0000 - val_fn: 16.0000 - val_accuracy: 0.5833 - val_precision: 0.0825 - val_recall: 0.3333 - val_auc: 0.4162 - val_prc: 0.0796 - 6s/epoch - 38ms/step\n",
      "Epoch 33/50\n",
      "147/147 - 6s - loss: 1.3840 - tp: 31.0000 - fp: 218.0000 - tn: 308.0000 - fn: 28.0000 - accuracy: 0.5795 - precision: 0.1245 - recall: 0.5254 - auc: 0.5537 - prc: 0.1155 - val_loss: 0.6879 - val_tp: 6.0000 - val_fp: 71.0000 - val_tn: 157.0000 - val_fn: 18.0000 - val_accuracy: 0.6468 - val_precision: 0.0779 - val_recall: 0.2500 - val_auc: 0.4204 - val_prc: 0.0815 - 6s/epoch - 39ms/step\n",
      "Epoch 34/50\n",
      "147/147 - 7s - loss: 1.3768 - tp: 27.0000 - fp: 196.0000 - tn: 330.0000 - fn: 32.0000 - accuracy: 0.6103 - precision: 0.1211 - recall: 0.4576 - auc: 0.5521 - prc: 0.1342 - val_loss: 0.7175 - val_tp: 7.0000 - val_fp: 75.0000 - val_tn: 153.0000 - val_fn: 17.0000 - val_accuracy: 0.6349 - val_precision: 0.0854 - val_recall: 0.2917 - val_auc: 0.4152 - val_prc: 0.0816 - 7s/epoch - 46ms/step\n",
      "Epoch 35/50\n",
      "147/147 - 7s - loss: 1.3744 - tp: 35.0000 - fp: 241.0000 - tn: 285.0000 - fn: 24.0000 - accuracy: 0.5470 - precision: 0.1268 - recall: 0.5932 - auc: 0.5692 - prc: 0.1389 - val_loss: 0.6989 - val_tp: 7.0000 - val_fp: 77.0000 - val_tn: 151.0000 - val_fn: 17.0000 - val_accuracy: 0.6270 - val_precision: 0.0833 - val_recall: 0.2917 - val_auc: 0.4169 - val_prc: 0.0805 - 7s/epoch - 45ms/step\n",
      "Epoch 36/50\n",
      "147/147 - 6s - loss: 1.3555 - tp: 32.0000 - fp: 203.0000 - tn: 323.0000 - fn: 27.0000 - accuracy: 0.6068 - precision: 0.1362 - recall: 0.5424 - auc: 0.5967 - prc: 0.1439 - val_loss: 0.7189 - val_tp: 7.0000 - val_fp: 75.0000 - val_tn: 153.0000 - val_fn: 17.0000 - val_accuracy: 0.6349 - val_precision: 0.0854 - val_recall: 0.2917 - val_auc: 0.4135 - val_prc: 0.0800 - 6s/epoch - 42ms/step\n",
      "Epoch 37/50\n",
      "147/147 - 6s - loss: 1.3901 - tp: 31.0000 - fp: 266.0000 - tn: 260.0000 - fn: 28.0000 - accuracy: 0.4974 - precision: 0.1044 - recall: 0.5254 - auc: 0.5373 - prc: 0.1133 - val_loss: 0.7319 - val_tp: 7.0000 - val_fp: 76.0000 - val_tn: 152.0000 - val_fn: 17.0000 - val_accuracy: 0.6310 - val_precision: 0.0843 - val_recall: 0.2917 - val_auc: 0.4248 - val_prc: 0.0801 - 6s/epoch - 41ms/step\n",
      "Epoch 38/50\n",
      "147/147 - 6s - loss: 1.3989 - tp: 31.0000 - fp: 260.0000 - tn: 266.0000 - fn: 28.0000 - accuracy: 0.5077 - precision: 0.1065 - recall: 0.5254 - auc: 0.5311 - prc: 0.1065 - val_loss: 0.7888 - val_tp: 8.0000 - val_fp: 82.0000 - val_tn: 146.0000 - val_fn: 16.0000 - val_accuracy: 0.6111 - val_precision: 0.0889 - val_recall: 0.3333 - val_auc: 0.4078 - val_prc: 0.0784 - 6s/epoch - 38ms/step\n",
      "Epoch 39/50\n",
      "147/147 - 6s - loss: 1.3861 - tp: 33.0000 - fp: 242.0000 - tn: 284.0000 - fn: 26.0000 - accuracy: 0.5419 - precision: 0.1200 - recall: 0.5593 - auc: 0.5424 - prc: 0.1173 - val_loss: 0.7227 - val_tp: 7.0000 - val_fp: 76.0000 - val_tn: 152.0000 - val_fn: 17.0000 - val_accuracy: 0.6310 - val_precision: 0.0843 - val_recall: 0.2917 - val_auc: 0.4570 - val_prc: 0.0869 - 6s/epoch - 38ms/step\n",
      "Epoch 40/50\n",
      "147/147 - 6s - loss: 1.3619 - tp: 26.0000 - fp: 199.0000 - tn: 327.0000 - fn: 33.0000 - accuracy: 0.6034 - precision: 0.1156 - recall: 0.4407 - auc: 0.5700 - prc: 0.1525 - val_loss: 0.6957 - val_tp: 7.0000 - val_fp: 71.0000 - val_tn: 157.0000 - val_fn: 17.0000 - val_accuracy: 0.6508 - val_precision: 0.0897 - val_recall: 0.2917 - val_auc: 0.4240 - val_prc: 0.0828 - 6s/epoch - 38ms/step\n",
      "Epoch 41/50\n",
      "147/147 - 6s - loss: 1.3634 - tp: 28.0000 - fp: 224.0000 - tn: 302.0000 - fn: 31.0000 - accuracy: 0.5641 - precision: 0.1111 - recall: 0.4746 - auc: 0.5673 - prc: 0.1693 - val_loss: 0.7905 - val_tp: 8.0000 - val_fp: 87.0000 - val_tn: 141.0000 - val_fn: 16.0000 - val_accuracy: 0.5913 - val_precision: 0.0842 - val_recall: 0.3333 - val_auc: 0.4111 - val_prc: 0.0803 - 6s/epoch - 41ms/step\n",
      "Epoch 42/50\n",
      "147/147 - 6s - loss: 1.3668 - tp: 31.0000 - fp: 200.0000 - tn: 326.0000 - fn: 28.0000 - accuracy: 0.6103 - precision: 0.1342 - recall: 0.5254 - auc: 0.5717 - prc: 0.1384 - val_loss: 0.6246 - val_tp: 7.0000 - val_fp: 72.0000 - val_tn: 156.0000 - val_fn: 17.0000 - val_accuracy: 0.6468 - val_precision: 0.0886 - val_recall: 0.2917 - val_auc: 0.4281 - val_prc: 0.0815 - 6s/epoch - 39ms/step\n",
      "Epoch 43/50\n",
      "147/147 - 6s - loss: 1.3691 - tp: 33.0000 - fp: 245.0000 - tn: 281.0000 - fn: 26.0000 - accuracy: 0.5368 - precision: 0.1187 - recall: 0.5593 - auc: 0.5733 - prc: 0.1475 - val_loss: 0.7488 - val_tp: 8.0000 - val_fp: 82.0000 - val_tn: 146.0000 - val_fn: 16.0000 - val_accuracy: 0.6111 - val_precision: 0.0889 - val_recall: 0.3333 - val_auc: 0.4446 - val_prc: 0.0847 - 6s/epoch - 38ms/step\n",
      "Epoch 44/50\n",
      "147/147 - 6s - loss: 1.3418 - tp: 31.0000 - fp: 223.0000 - tn: 303.0000 - fn: 28.0000 - accuracy: 0.5709 - precision: 0.1220 - recall: 0.5254 - auc: 0.6050 - prc: 0.1543 - val_loss: 0.7926 - val_tp: 9.0000 - val_fp: 104.0000 - val_tn: 124.0000 - val_fn: 15.0000 - val_accuracy: 0.5278 - val_precision: 0.0796 - val_recall: 0.3750 - val_auc: 0.4096 - val_prc: 0.0818 - 6s/epoch - 38ms/step\n",
      "Epoch 45/50\n",
      "147/147 - 6s - loss: 1.3607 - tp: 33.0000 - fp: 210.0000 - tn: 316.0000 - fn: 26.0000 - accuracy: 0.5966 - precision: 0.1358 - recall: 0.5593 - auc: 0.5895 - prc: 0.1564 - val_loss: 0.7312 - val_tp: 7.0000 - val_fp: 77.0000 - val_tn: 151.0000 - val_fn: 17.0000 - val_accuracy: 0.6270 - val_precision: 0.0833 - val_recall: 0.2917 - val_auc: 0.4195 - val_prc: 0.0819 - 6s/epoch - 40ms/step\n",
      "Epoch 46/50\n",
      "147/147 - 6s - loss: 1.3599 - tp: 31.0000 - fp: 192.0000 - tn: 334.0000 - fn: 28.0000 - accuracy: 0.6239 - precision: 0.1390 - recall: 0.5254 - auc: 0.5898 - prc: 0.1411 - val_loss: 0.7143 - val_tp: 7.0000 - val_fp: 72.0000 - val_tn: 156.0000 - val_fn: 17.0000 - val_accuracy: 0.6468 - val_precision: 0.0886 - val_recall: 0.2917 - val_auc: 0.4250 - val_prc: 0.0826 - 6s/epoch - 38ms/step\n",
      "Epoch 47/50\n",
      "147/147 - 6s - loss: 1.3339 - tp: 33.0000 - fp: 212.0000 - tn: 314.0000 - fn: 26.0000 - accuracy: 0.5932 - precision: 0.1347 - recall: 0.5593 - auc: 0.6150 - prc: 0.1436 - val_loss: 0.6229 - val_tp: 5.0000 - val_fp: 63.0000 - val_tn: 165.0000 - val_fn: 19.0000 - val_accuracy: 0.6746 - val_precision: 0.0735 - val_recall: 0.2083 - val_auc: 0.4299 - val_prc: 0.0817 - 6s/epoch - 38ms/step\n",
      "Epoch 48/50\n",
      "147/147 - 6s - loss: 1.3532 - tp: 31.0000 - fp: 235.0000 - tn: 291.0000 - fn: 28.0000 - accuracy: 0.5504 - precision: 0.1165 - recall: 0.5254 - auc: 0.5789 - prc: 0.1424 - val_loss: 0.7578 - val_tp: 8.0000 - val_fp: 77.0000 - val_tn: 151.0000 - val_fn: 16.0000 - val_accuracy: 0.6310 - val_precision: 0.0941 - val_recall: 0.3333 - val_auc: 0.4355 - val_prc: 0.0824 - 6s/epoch - 38ms/step\n",
      "Epoch 49/50\n",
      "147/147 - 6s - loss: 1.3683 - tp: 29.0000 - fp: 225.0000 - tn: 301.0000 - fn: 30.0000 - accuracy: 0.5641 - precision: 0.1142 - recall: 0.4915 - auc: 0.5660 - prc: 0.1390 - val_loss: 0.7960 - val_tp: 13.0000 - val_fp: 153.0000 - val_tn: 75.0000 - val_fn: 11.0000 - val_accuracy: 0.3492 - val_precision: 0.0783 - val_recall: 0.5417 - val_auc: 0.4177 - val_prc: 0.0819 - 6s/epoch - 38ms/step\n",
      "Epoch 50/50\n",
      "147/147 - 6s - loss: 1.3678 - tp: 28.0000 - fp: 207.0000 - tn: 319.0000 - fn: 31.0000 - accuracy: 0.5932 - precision: 0.1191 - recall: 0.4746 - auc: 0.5921 - prc: 0.1304 - val_loss: 0.7830 - val_tp: 10.0000 - val_fp: 97.0000 - val_tn: 131.0000 - val_fn: 14.0000 - val_accuracy: 0.5595 - val_precision: 0.0935 - val_recall: 0.4167 - val_auc: 0.4305 - val_prc: 0.0838 - 6s/epoch - 38ms/step\n"
     ]
    }
   ],
   "source": [
    "image_history = model_image.fit(train_dataset,   \n",
    "                    class_weight =class_weights,\n",
    "                    validation_data = validation_dataset,\n",
    "                    callbacks=[checkpoint_cb],\n",
    "                    batch_size = BATCH_SIZE,\n",
    "                    verbose = 2,\n",
    "                    epochs=50)"
   ]
  },
  {
   "cell_type": "markdown",
   "id": "JXaRPooQI1gm",
   "metadata": {
    "id": "JXaRPooQI1gm"
   },
   "source": [
    "# Transfer Learning Mobilenet_v2 Model"
   ]
  },
  {
   "cell_type": "code",
   "execution_count": null,
   "id": "-AjEziVvkIp4",
   "metadata": {
    "id": "-AjEziVvkIp4"
   },
   "outputs": [],
   "source": [
    "feature_extractor = \"https://tfhub.dev/google/tf2-preview/mobilenet_v2/feature_vector/4\""
   ]
  },
  {
   "cell_type": "code",
   "execution_count": null,
   "id": "f0sXPbdCvZ2-",
   "metadata": {
    "id": "f0sXPbdCvZ2-"
   },
   "outputs": [],
   "source": [
    "feature_extractor_layer = hub.KerasLayer(feature_extractor, input_shape=(224,224,3))\n",
    "feature_extractor_layer.trainable = False"
   ]
  },
  {
   "cell_type": "code",
   "execution_count": null,
   "id": "BeWe042MkNwH",
   "metadata": {
    "id": "BeWe042MkNwH"
   },
   "outputs": [],
   "source": [
    "def mobilenet_preprocessing(images, labels):\n",
    "    images = tf.expand_dims(images, -1)\n",
    "    images = tf.image.resize(images,[224,224])\n",
    "    images = tf.image.grayscale_to_rgb(images)\n",
    "    images = tf.keras.applications.mobilenet_v2.preprocess_input (images)\n",
    "    return (images, labels)\n",
    "\n",
    "train_dataset = (\n",
    "    train_loader\n",
    "    .batch(BATCH_SIZE)\n",
    "    .map(mobilenet_preprocessing)\n",
    "    .prefetch(tf.data.AUTOTUNE)\n",
    ")\n",
    "\n",
    "validation_dataset = (\n",
    "    test_loader\n",
    "    .batch(BATCH_SIZE)\n",
    "    .map(mobilenet_preprocessing)\n",
    "    .prefetch(tf.data.AUTOTUNE)\n",
    ")"
   ]
  },
  {
   "cell_type": "code",
   "execution_count": null,
   "id": "c-b1hGehvfLB",
   "metadata": {
    "colab": {
     "base_uri": "https://localhost:8080/",
     "height": 321
    },
    "id": "c-b1hGehvfLB",
    "outputId": "3c40e06a-7c19-48d8-9863-8437bc5cb040"
   },
   "outputs": [
    {
     "name": "stdout",
     "output_type": "stream",
     "text": [
      "0.0\n",
      "Dimension of the MRI scan is: (224, 224, 3)\n"
     ]
    },
    {
     "data": {
      "text/plain": [
       "<matplotlib.image.AxesImage at 0x7f9d32aac290>"
      ]
     },
     "execution_count": 101,
     "metadata": {},
     "output_type": "execute_result"
    },
    {
     "data": {
      "image/png": "[encoded data removed]",
      "text/plain": [
       "<Figure size 432x288 with 1 Axes>"
      ]
     },
     "metadata": {
      "needs_background": "light"
     },
     "output_type": "display_data"
    }
   ],
   "source": [
    "data = train_dataset.take(1)\n",
    "images, labels = list(data)[0]\n",
    "images = images.numpy()\n",
    "image = images[0]\n",
    "print(labels.numpy()[0])\n",
    "print(\"Dimension of the MRI scan is:\", image.shape)\n",
    "plt.imshow((image * 255).astype(np.uint8))"
   ]
  },
  {
   "cell_type": "code",
   "execution_count": null,
   "id": "IxeTGAYfviCL",
   "metadata": {
    "colab": {
     "base_uri": "https://localhost:8080/"
    },
    "id": "IxeTGAYfviCL",
    "outputId": "935cf56e-41d1-453e-d2e7-57feb5d9bf8c"
   },
   "outputs": [
    {
     "name": "stdout",
     "output_type": "stream",
     "text": [
      "Model: \"model_4\"\n",
      "__________________________________________________________________________________________________\n",
      " Layer (type)                   Output Shape         Param #     Connected to                     \n",
      "==================================================================================================\n",
      " input_9 (InputLayer)           [(None, 224, 224, 3  0           []                               \n",
      "                                )]                                                                \n",
      "                                                                                                  \n",
      " Conv1 (Conv2D)                 (None, 112, 112, 32  864         ['input_9[0][0]']                \n",
      "                                )                                                                 \n",
      "                                                                                                  \n",
      " bn_Conv1 (BatchNormalization)  (None, 112, 112, 32  128         ['Conv1[0][0]']                  \n",
      "                                )                                                                 \n",
      "                                                                                                  \n",
      " Conv1_relu (ReLU)              (None, 112, 112, 32  0           ['bn_Conv1[0][0]']               \n",
      "                                )                                                                 \n",
      "                                                                                                  \n",
      " expanded_conv_depthwise (Depth  (None, 112, 112, 32  288        ['Conv1_relu[0][0]']             \n",
      " wiseConv2D)                    )                                                                 \n",
      "                                                                                                  \n",
      " expanded_conv_depthwise_BN (Ba  (None, 112, 112, 32  128        ['expanded_conv_depthwise[0][0]']\n",
      " tchNormalization)              )                                                                 \n",
      "                                                                                                  \n",
      " expanded_conv_depthwise_relu (  (None, 112, 112, 32  0          ['expanded_conv_depthwise_BN[0][0\n",
      " ReLU)                          )                                ]']                              \n",
      "                                                                                                  \n",
      " expanded_conv_project (Conv2D)  (None, 112, 112, 16  512        ['expanded_conv_depthwise_relu[0]\n",
      "                                )                                [0]']                            \n",
      "                                                                                                  \n",
      " expanded_conv_project_BN (Batc  (None, 112, 112, 16  64         ['expanded_conv_project[0][0]']  \n",
      " hNormalization)                )                                                                 \n",
      "                                                                                                  \n",
      " block_1_expand (Conv2D)        (None, 112, 112, 96  1536        ['expanded_conv_project_BN[0][0]'\n",
      "                                )                                ]                                \n",
      "                                                                                                  \n",
      " block_1_expand_BN (BatchNormal  (None, 112, 112, 96  384        ['block_1_expand[0][0]']         \n",
      " ization)                       )                                                                 \n",
      "                                                                                                  \n",
      " block_1_expand_relu (ReLU)     (None, 112, 112, 96  0           ['block_1_expand_BN[0][0]']      \n",
      "                                )                                                                 \n",
      "                                                                                                  \n",
      " block_1_pad (ZeroPadding2D)    (None, 113, 113, 96  0           ['block_1_expand_relu[0][0]']    \n",
      "                                )                                                                 \n",
      "                                                                                                  \n",
      " block_1_depthwise (DepthwiseCo  (None, 56, 56, 96)  864         ['block_1_pad[0][0]']            \n",
      " nv2D)                                                                                            \n",
      "                                                                                                  \n",
      " block_1_depthwise_BN (BatchNor  (None, 56, 56, 96)  384         ['block_1_depthwise[0][0]']      \n",
      " malization)                                                                                      \n",
      "                                                                                                  \n",
      " block_1_depthwise_relu (ReLU)  (None, 56, 56, 96)   0           ['block_1_depthwise_BN[0][0]']   \n",
      "                                                                                                  \n",
      " block_1_project (Conv2D)       (None, 56, 56, 24)   2304        ['block_1_depthwise_relu[0][0]'] \n",
      "                                                                                                  \n",
      " block_1_project_BN (BatchNorma  (None, 56, 56, 24)  96          ['block_1_project[0][0]']        \n",
      " lization)                                                                                        \n",
      "                                                                                                  \n",
      " block_2_expand (Conv2D)        (None, 56, 56, 144)  3456        ['block_1_project_BN[0][0]']     \n",
      "                                                                                                  \n",
      " block_2_expand_BN (BatchNormal  (None, 56, 56, 144)  576        ['block_2_expand[0][0]']         \n",
      " ization)                                                                                         \n",
      "                                                                                                  \n",
      " block_2_expand_relu (ReLU)     (None, 56, 56, 144)  0           ['block_2_expand_BN[0][0]']      \n",
      "                                                                                                  \n",
      " block_2_depthwise (DepthwiseCo  (None, 56, 56, 144)  1296       ['block_2_expand_relu[0][0]']    \n",
      " nv2D)                                                                                            \n",
      "                                                                                                  \n",
      " block_2_depthwise_BN (BatchNor  (None, 56, 56, 144)  576        ['block_2_depthwise[0][0]']      \n",
      " malization)                                                                                      \n",
      "                                                                                                  \n",
      " block_2_depthwise_relu (ReLU)  (None, 56, 56, 144)  0           ['block_2_depthwise_BN[0][0]']   \n",
      "                                                                                                  \n",
      " block_2_project (Conv2D)       (None, 56, 56, 24)   3456        ['block_2_depthwise_relu[0][0]'] \n",
      "                                                                                                  \n",
      " block_2_project_BN (BatchNorma  (None, 56, 56, 24)  96          ['block_2_project[0][0]']        \n",
      " lization)                                                                                        \n",
      "                                                                                                  \n",
      " block_2_add (Add)              (None, 56, 56, 24)   0           ['block_1_project_BN[0][0]',     \n",
      "                                                                  'block_2_project_BN[0][0]']     \n",
      "                                                                                                  \n",
      " block_3_expand (Conv2D)        (None, 56, 56, 144)  3456        ['block_2_add[0][0]']            \n",
      "                                                                                                  \n",
      " block_3_expand_BN (BatchNormal  (None, 56, 56, 144)  576        ['block_3_expand[0][0]']         \n",
      " ization)                                                                                         \n",
      "                                                                                                  \n",
      " block_3_expand_relu (ReLU)     (None, 56, 56, 144)  0           ['block_3_expand_BN[0][0]']      \n",
      "                                                                                                  \n",
      " block_3_pad (ZeroPadding2D)    (None, 57, 57, 144)  0           ['block_3_expand_relu[0][0]']    \n",
      "                                                                                                  \n",
      " block_3_depthwise (DepthwiseCo  (None, 28, 28, 144)  1296       ['block_3_pad[0][0]']            \n",
      " nv2D)                                                                                            \n",
      "                                                                                                  \n",
      " block_3_depthwise_BN (BatchNor  (None, 28, 28, 144)  576        ['block_3_depthwise[0][0]']      \n",
      " malization)                                                                                      \n",
      "                                                                                                  \n",
      " block_3_depthwise_relu (ReLU)  (None, 28, 28, 144)  0           ['block_3_depthwise_BN[0][0]']   \n",
      "                                                                                                  \n",
      " block_3_project (Conv2D)       (None, 28, 28, 32)   4608        ['block_3_depthwise_relu[0][0]'] \n",
      "                                                                                                  \n",
      " block_3_project_BN (BatchNorma  (None, 28, 28, 32)  128         ['block_3_project[0][0]']        \n",
      " lization)                                                                                        \n",
      "                                                                                                  \n",
      " block_4_expand (Conv2D)        (None, 28, 28, 192)  6144        ['block_3_project_BN[0][0]']     \n",
      "                                                                                                  \n",
      " block_4_expand_BN (BatchNormal  (None, 28, 28, 192)  768        ['block_4_expand[0][0]']         \n",
      " ization)                                                                                         \n",
      "                                                                                                  \n",
      " block_4_expand_relu (ReLU)     (None, 28, 28, 192)  0           ['block_4_expand_BN[0][0]']      \n",
      "                                                                                                  \n",
      " block_4_depthwise (DepthwiseCo  (None, 28, 28, 192)  1728       ['block_4_expand_relu[0][0]']    \n",
      " nv2D)                                                                                            \n",
      "                                                                                                  \n",
      " block_4_depthwise_BN (BatchNor  (None, 28, 28, 192)  768        ['block_4_depthwise[0][0]']      \n",
      " malization)                                                                                      \n",
      "                                                                                                  \n",
      " block_4_depthwise_relu (ReLU)  (None, 28, 28, 192)  0           ['block_4_depthwise_BN[0][0]']   \n",
      "                                                                                                  \n",
      " block_4_project (Conv2D)       (None, 28, 28, 32)   6144        ['block_4_depthwise_relu[0][0]'] \n",
      "                                                                                                  \n",
      " block_4_project_BN (BatchNorma  (None, 28, 28, 32)  128         ['block_4_project[0][0]']        \n",
      " lization)                                                                                        \n",
      "                                                                                                  \n",
      " block_4_add (Add)              (None, 28, 28, 32)   0           ['block_3_project_BN[0][0]',     \n",
      "                                                                  'block_4_project_BN[0][0]']     \n",
      "                                                                                                  \n",
      " block_5_expand (Conv2D)        (None, 28, 28, 192)  6144        ['block_4_add[0][0]']            \n",
      "                                                                                                  \n",
      " block_5_expand_BN (BatchNormal  (None, 28, 28, 192)  768        ['block_5_expand[0][0]']         \n",
      " ization)                                                                                         \n",
      "                                                                                                  \n",
      " block_5_expand_relu (ReLU)     (None, 28, 28, 192)  0           ['block_5_expand_BN[0][0]']      \n",
      "                                                                                                  \n",
      " block_5_depthwise (DepthwiseCo  (None, 28, 28, 192)  1728       ['block_5_expand_relu[0][0]']    \n",
      " nv2D)                                                                                            \n",
      "                                                                                                  \n",
      " block_5_depthwise_BN (BatchNor  (None, 28, 28, 192)  768        ['block_5_depthwise[0][0]']      \n",
      " malization)                                                                                      \n",
      "                                                                                                  \n",
      " block_5_depthwise_relu (ReLU)  (None, 28, 28, 192)  0           ['block_5_depthwise_BN[0][0]']   \n",
      "                                                                                                  \n",
      " block_5_project (Conv2D)       (None, 28, 28, 32)   6144        ['block_5_depthwise_relu[0][0]'] \n",
      "                                                                                                  \n",
      " block_5_project_BN (BatchNorma  (None, 28, 28, 32)  128         ['block_5_project[0][0]']        \n",
      " lization)                                                                                        \n",
      "                                                                                                  \n",
      " block_5_add (Add)              (None, 28, 28, 32)   0           ['block_4_add[0][0]',            \n",
      "                                                                  'block_5_project_BN[0][0]']     \n",
      "                                                                                                  \n",
      " block_6_expand (Conv2D)        (None, 28, 28, 192)  6144        ['block_5_add[0][0]']            \n",
      "                                                                                                  \n",
      " block_6_expand_BN (BatchNormal  (None, 28, 28, 192)  768        ['block_6_expand[0][0]']         \n",
      " ization)                                                                                         \n",
      "                                                                                                  \n",
      " block_6_expand_relu (ReLU)     (None, 28, 28, 192)  0           ['block_6_expand_BN[0][0]']      \n",
      "                                                                                                  \n",
      " block_6_pad (ZeroPadding2D)    (None, 29, 29, 192)  0           ['block_6_expand_relu[0][0]']    \n",
      "                                                                                                  \n",
      " block_6_depthwise (DepthwiseCo  (None, 14, 14, 192)  1728       ['block_6_pad[0][0]']            \n",
      " nv2D)                                                                                            \n",
      "                                                                                                  \n",
      " block_6_depthwise_BN (BatchNor  (None, 14, 14, 192)  768        ['block_6_depthwise[0][0]']      \n",
      " malization)                                                                                      \n",
      "                                                                                                  \n",
      " block_6_depthwise_relu (ReLU)  (None, 14, 14, 192)  0           ['block_6_depthwise_BN[0][0]']   \n",
      "                                                                                                  \n",
      " block_6_project (Conv2D)       (None, 14, 14, 64)   12288       ['block_6_depthwise_relu[0][0]'] \n",
      "                                                                                                  \n",
      " block_6_project_BN (BatchNorma  (None, 14, 14, 64)  256         ['block_6_project[0][0]']        \n",
      " lization)                                                                                        \n",
      "                                                                                                  \n",
      " block_7_expand (Conv2D)        (None, 14, 14, 384)  24576       ['block_6_project_BN[0][0]']     \n",
      "                                                                                                  \n",
      " block_7_expand_BN (BatchNormal  (None, 14, 14, 384)  1536       ['block_7_expand[0][0]']         \n",
      " ization)                                                                                         \n",
      "                                                                                                  \n",
      " block_7_expand_relu (ReLU)     (None, 14, 14, 384)  0           ['block_7_expand_BN[0][0]']      \n",
      "                                                                                                  \n",
      " block_7_depthwise (DepthwiseCo  (None, 14, 14, 384)  3456       ['block_7_expand_relu[0][0]']    \n",
      " nv2D)                                                                                            \n",
      "                                                                                                  \n",
      " block_7_depthwise_BN (BatchNor  (None, 14, 14, 384)  1536       ['block_7_depthwise[0][0]']      \n",
      " malization)                                                                                      \n",
      "                                                                                                  \n",
      " block_7_depthwise_relu (ReLU)  (None, 14, 14, 384)  0           ['block_7_depthwise_BN[0][0]']   \n",
      "                                                                                                  \n",
      " block_7_project (Conv2D)       (None, 14, 14, 64)   24576       ['block_7_depthwise_relu[0][0]'] \n",
      "                                                                                                  \n",
      " block_7_project_BN (BatchNorma  (None, 14, 14, 64)  256         ['block_7_project[0][0]']        \n",
      " lization)                                                                                        \n",
      "                                                                                                  \n",
      " block_7_add (Add)              (None, 14, 14, 64)   0           ['block_6_project_BN[0][0]',     \n",
      "                                                                  'block_7_project_BN[0][0]']     \n",
      "                                                                                                  \n",
      " block_8_expand (Conv2D)        (None, 14, 14, 384)  24576       ['block_7_add[0][0]']            \n",
      "                                                                                                  \n",
      " block_8_expand_BN (BatchNormal  (None, 14, 14, 384)  1536       ['block_8_expand[0][0]']         \n",
      " ization)                                                                                         \n",
      "                                                                                                  \n",
      " block_8_expand_relu (ReLU)     (None, 14, 14, 384)  0           ['block_8_expand_BN[0][0]']      \n",
      "                                                                                                  \n",
      " block_8_depthwise (DepthwiseCo  (None, 14, 14, 384)  3456       ['block_8_expand_relu[0][0]']    \n",
      " nv2D)                                                                                            \n",
      "                                                                                                  \n",
      " block_8_depthwise_BN (BatchNor  (None, 14, 14, 384)  1536       ['block_8_depthwise[0][0]']      \n",
      " malization)                                                                                      \n",
      "                                                                                                  \n",
      " block_8_depthwise_relu (ReLU)  (None, 14, 14, 384)  0           ['block_8_depthwise_BN[0][0]']   \n",
      "                                                                                                  \n",
      " block_8_project (Conv2D)       (None, 14, 14, 64)   24576       ['block_8_depthwise_relu[0][0]'] \n",
      "                                                                                                  \n",
      " block_8_project_BN (BatchNorma  (None, 14, 14, 64)  256         ['block_8_project[0][0]']        \n",
      " lization)                                                                                        \n",
      "                                                                                                  \n",
      " block_8_add (Add)              (None, 14, 14, 64)   0           ['block_7_add[0][0]',            \n",
      "                                                                  'block_8_project_BN[0][0]']     \n",
      "                                                                                                  \n",
      " block_9_expand (Conv2D)        (None, 14, 14, 384)  24576       ['block_8_add[0][0]']            \n",
      "                                                                                                  \n",
      " block_9_expand_BN (BatchNormal  (None, 14, 14, 384)  1536       ['block_9_expand[0][0]']         \n",
      " ization)                                                                                         \n",
      "                                                                                                  \n",
      " block_9_expand_relu (ReLU)     (None, 14, 14, 384)  0           ['block_9_expand_BN[0][0]']      \n",
      "                                                                                                  \n",
      " block_9_depthwise (DepthwiseCo  (None, 14, 14, 384)  3456       ['block_9_expand_relu[0][0]']    \n",
      " nv2D)                                                                                            \n",
      "                                                                                                  \n",
      " block_9_depthwise_BN (BatchNor  (None, 14, 14, 384)  1536       ['block_9_depthwise[0][0]']      \n",
      " malization)                                                                                      \n",
      "                                                                                                  \n",
      " block_9_depthwise_relu (ReLU)  (None, 14, 14, 384)  0           ['block_9_depthwise_BN[0][0]']   \n",
      "                                                                                                  \n",
      " block_9_project (Conv2D)       (None, 14, 14, 64)   24576       ['block_9_depthwise_relu[0][0]'] \n",
      "                                                                                                  \n",
      " block_9_project_BN (BatchNorma  (None, 14, 14, 64)  256         ['block_9_project[0][0]']        \n",
      " lization)                                                                                        \n",
      "                                                                                                  \n",
      " block_9_add (Add)              (None, 14, 14, 64)   0           ['block_8_add[0][0]',            \n",
      "                                                                  'block_9_project_BN[0][0]']     \n",
      "                                                                                                  \n",
      " block_10_expand (Conv2D)       (None, 14, 14, 384)  24576       ['block_9_add[0][0]']            \n",
      "                                                                                                  \n",
      " block_10_expand_BN (BatchNorma  (None, 14, 14, 384)  1536       ['block_10_expand[0][0]']        \n",
      " lization)                                                                                        \n",
      "                                                                                                  \n",
      " block_10_expand_relu (ReLU)    (None, 14, 14, 384)  0           ['block_10_expand_BN[0][0]']     \n",
      "                                                                                                  \n",
      " block_10_depthwise (DepthwiseC  (None, 14, 14, 384)  3456       ['block_10_expand_relu[0][0]']   \n",
      " onv2D)                                                                                           \n",
      "                                                                                                  \n",
      " block_10_depthwise_BN (BatchNo  (None, 14, 14, 384)  1536       ['block_10_depthwise[0][0]']     \n",
      " rmalization)                                                                                     \n",
      "                                                                                                  \n",
      " block_10_depthwise_relu (ReLU)  (None, 14, 14, 384)  0          ['block_10_depthwise_BN[0][0]']  \n",
      "                                                                                                  \n",
      " block_10_project (Conv2D)      (None, 14, 14, 96)   36864       ['block_10_depthwise_relu[0][0]']\n",
      "                                                                                                  \n",
      " block_10_project_BN (BatchNorm  (None, 14, 14, 96)  384         ['block_10_project[0][0]']       \n",
      " alization)                                                                                       \n",
      "                                                                                                  \n",
      " block_11_expand (Conv2D)       (None, 14, 14, 576)  55296       ['block_10_project_BN[0][0]']    \n",
      "                                                                                                  \n",
      " block_11_expand_BN (BatchNorma  (None, 14, 14, 576)  2304       ['block_11_expand[0][0]']        \n",
      " lization)                                                                                        \n",
      "                                                                                                  \n",
      " block_11_expand_relu (ReLU)    (None, 14, 14, 576)  0           ['block_11_expand_BN[0][0]']     \n",
      "                                                                                                  \n",
      " block_11_depthwise (DepthwiseC  (None, 14, 14, 576)  5184       ['block_11_expand_relu[0][0]']   \n",
      " onv2D)                                                                                           \n",
      "                                                                                                  \n",
      " block_11_depthwise_BN (BatchNo  (None, 14, 14, 576)  2304       ['block_11_depthwise[0][0]']     \n",
      " rmalization)                                                                                     \n",
      "                                                                                                  \n",
      " block_11_depthwise_relu (ReLU)  (None, 14, 14, 576)  0          ['block_11_depthwise_BN[0][0]']  \n",
      "                                                                                                  \n",
      " block_11_project (Conv2D)      (None, 14, 14, 96)   55296       ['block_11_depthwise_relu[0][0]']\n",
      "                                                                                                  \n",
      " block_11_project_BN (BatchNorm  (None, 14, 14, 96)  384         ['block_11_project[0][0]']       \n",
      " alization)                                                                                       \n",
      "                                                                                                  \n",
      " block_11_add (Add)             (None, 14, 14, 96)   0           ['block_10_project_BN[0][0]',    \n",
      "                                                                  'block_11_project_BN[0][0]']    \n",
      "                                                                                                  \n",
      " block_12_expand (Conv2D)       (None, 14, 14, 576)  55296       ['block_11_add[0][0]']           \n",
      "                                                                                                  \n",
      " block_12_expand_BN (BatchNorma  (None, 14, 14, 576)  2304       ['block_12_expand[0][0]']        \n",
      " lization)                                                                                        \n",
      "                                                                                                  \n",
      " block_12_expand_relu (ReLU)    (None, 14, 14, 576)  0           ['block_12_expand_BN[0][0]']     \n",
      "                                                                                                  \n",
      " block_12_depthwise (DepthwiseC  (None, 14, 14, 576)  5184       ['block_12_expand_relu[0][0]']   \n",
      " onv2D)                                                                                           \n",
      "                                                                                                  \n",
      " block_12_depthwise_BN (BatchNo  (None, 14, 14, 576)  2304       ['block_12_depthwise[0][0]']     \n",
      " rmalization)                                                                                     \n",
      "                                                                                                  \n",
      " block_12_depthwise_relu (ReLU)  (None, 14, 14, 576)  0          ['block_12_depthwise_BN[0][0]']  \n",
      "                                                                                                  \n",
      " block_12_project (Conv2D)      (None, 14, 14, 96)   55296       ['block_12_depthwise_relu[0][0]']\n",
      "                                                                                                  \n",
      " block_12_project_BN (BatchNorm  (None, 14, 14, 96)  384         ['block_12_project[0][0]']       \n",
      " alization)                                                                                       \n",
      "                                                                                                  \n",
      " block_12_add (Add)             (None, 14, 14, 96)   0           ['block_11_add[0][0]',           \n",
      "                                                                  'block_12_project_BN[0][0]']    \n",
      "                                                                                                  \n",
      " block_13_expand (Conv2D)       (None, 14, 14, 576)  55296       ['block_12_add[0][0]']           \n",
      "                                                                                                  \n",
      " block_13_expand_BN (BatchNorma  (None, 14, 14, 576)  2304       ['block_13_expand[0][0]']        \n",
      " lization)                                                                                        \n",
      "                                                                                                  \n",
      " block_13_expand_relu (ReLU)    (None, 14, 14, 576)  0           ['block_13_expand_BN[0][0]']     \n",
      "                                                                                                  \n",
      " block_13_pad (ZeroPadding2D)   (None, 15, 15, 576)  0           ['block_13_expand_relu[0][0]']   \n",
      "                                                                                                  \n",
      " block_13_depthwise (DepthwiseC  (None, 7, 7, 576)   5184        ['block_13_pad[0][0]']           \n",
      " onv2D)                                                                                           \n",
      "                                                                                                  \n",
      " block_13_depthwise_BN (BatchNo  (None, 7, 7, 576)   2304        ['block_13_depthwise[0][0]']     \n",
      " rmalization)                                                                                     \n",
      "                                                                                                  \n",
      " block_13_depthwise_relu (ReLU)  (None, 7, 7, 576)   0           ['block_13_depthwise_BN[0][0]']  \n",
      "                                                                                                  \n",
      " block_13_project (Conv2D)      (None, 7, 7, 160)    92160       ['block_13_depthwise_relu[0][0]']\n",
      "                                                                                                  \n",
      " block_13_project_BN (BatchNorm  (None, 7, 7, 160)   640         ['block_13_project[0][0]']       \n",
      " alization)                                                                                       \n",
      "                                                                                                  \n",
      " block_14_expand (Conv2D)       (None, 7, 7, 960)    153600      ['block_13_project_BN[0][0]']    \n",
      "                                                                                                  \n",
      " block_14_expand_BN (BatchNorma  (None, 7, 7, 960)   3840        ['block_14_expand[0][0]']        \n",
      " lization)                                                                                        \n",
      "                                                                                                  \n",
      " block_14_expand_relu (ReLU)    (None, 7, 7, 960)    0           ['block_14_expand_BN[0][0]']     \n",
      "                                                                                                  \n",
      " block_14_depthwise (DepthwiseC  (None, 7, 7, 960)   8640        ['block_14_expand_relu[0][0]']   \n",
      " onv2D)                                                                                           \n",
      "                                                                                                  \n",
      " block_14_depthwise_BN (BatchNo  (None, 7, 7, 960)   3840        ['block_14_depthwise[0][0]']     \n",
      " rmalization)                                                                                     \n",
      "                                                                                                  \n",
      " block_14_depthwise_relu (ReLU)  (None, 7, 7, 960)   0           ['block_14_depthwise_BN[0][0]']  \n",
      "                                                                                                  \n",
      " block_14_project (Conv2D)      (None, 7, 7, 160)    153600      ['block_14_depthwise_relu[0][0]']\n",
      "                                                                                                  \n",
      " block_14_project_BN (BatchNorm  (None, 7, 7, 160)   640         ['block_14_project[0][0]']       \n",
      " alization)                                                                                       \n",
      "                                                                                                  \n",
      " block_14_add (Add)             (None, 7, 7, 160)    0           ['block_13_project_BN[0][0]',    \n",
      "                                                                  'block_14_project_BN[0][0]']    \n",
      "                                                                                                  \n",
      " block_15_expand (Conv2D)       (None, 7, 7, 960)    153600      ['block_14_add[0][0]']           \n",
      "                                                                                                  \n",
      " block_15_expand_BN (BatchNorma  (None, 7, 7, 960)   3840        ['block_15_expand[0][0]']        \n",
      " lization)                                                                                        \n",
      "                                                                                                  \n",
      " block_15_expand_relu (ReLU)    (None, 7, 7, 960)    0           ['block_15_expand_BN[0][0]']     \n",
      "                                                                                                  \n",
      " block_15_depthwise (DepthwiseC  (None, 7, 7, 960)   8640        ['block_15_expand_relu[0][0]']   \n",
      " onv2D)                                                                                           \n",
      "                                                                                                  \n",
      " block_15_depthwise_BN (BatchNo  (None, 7, 7, 960)   3840        ['block_15_depthwise[0][0]']     \n",
      " rmalization)                                                                                     \n",
      "                                                                                                  \n",
      " block_15_depthwise_relu (ReLU)  (None, 7, 7, 960)   0           ['block_15_depthwise_BN[0][0]']  \n",
      "                                                                                                  \n",
      " block_15_project (Conv2D)      (None, 7, 7, 160)    153600      ['block_15_depthwise_relu[0][0]']\n",
      "                                                                                                  \n",
      " block_15_project_BN (BatchNorm  (None, 7, 7, 160)   640         ['block_15_project[0][0]']       \n",
      " alization)                                                                                       \n",
      "                                                                                                  \n",
      " block_15_add (Add)             (None, 7, 7, 160)    0           ['block_14_add[0][0]',           \n",
      "                                                                  'block_15_project_BN[0][0]']    \n",
      "                                                                                                  \n",
      " block_16_expand (Conv2D)       (None, 7, 7, 960)    153600      ['block_15_add[0][0]']           \n",
      "                                                                                                  \n",
      " block_16_expand_BN (BatchNorma  (None, 7, 7, 960)   3840        ['block_16_expand[0][0]']        \n",
      " lization)                                                                                        \n",
      "                                                                                                  \n",
      " block_16_expand_relu (ReLU)    (None, 7, 7, 960)    0           ['block_16_expand_BN[0][0]']     \n",
      "                                                                                                  \n",
      " block_16_depthwise (DepthwiseC  (None, 7, 7, 960)   8640        ['block_16_expand_relu[0][0]']   \n",
      " onv2D)                                                                                           \n",
      "                                                                                                  \n",
      " block_16_depthwise_BN (BatchNo  (None, 7, 7, 960)   3840        ['block_16_depthwise[0][0]']     \n",
      " rmalization)                                                                                     \n",
      "                                                                                                  \n",
      " block_16_depthwise_relu (ReLU)  (None, 7, 7, 960)   0           ['block_16_depthwise_BN[0][0]']  \n",
      "                                                                                                  \n",
      " block_16_project (Conv2D)      (None, 7, 7, 320)    307200      ['block_16_depthwise_relu[0][0]']\n",
      "                                                                                                  \n",
      " block_16_project_BN (BatchNorm  (None, 7, 7, 320)   1280        ['block_16_project[0][0]']       \n",
      " alization)                                                                                       \n",
      "                                                                                                  \n",
      " Conv_1 (Conv2D)                (None, 7, 7, 1280)   409600      ['block_16_project_BN[0][0]']    \n",
      "                                                                                                  \n",
      " Conv_1_bn (BatchNormalization)  (None, 7, 7, 1280)  5120        ['Conv_1[0][0]']                 \n",
      "                                                                                                  \n",
      " out_relu (ReLU)                (None, 7, 7, 1280)   0           ['Conv_1_bn[0][0]']              \n",
      "                                                                                                  \n",
      " global_average_pooling2d_4 (Gl  (None, 1280)        0           ['out_relu[0][0]']               \n",
      " obalAveragePooling2D)                                                                            \n",
      "                                                                                                  \n",
      " dense_18 (Dense)               (None, 1)            1281        ['global_average_pooling2d_4[0][0\n",
      "                                                                 ]']                              \n",
      "                                                                                                  \n",
      "==================================================================================================\n",
      "Total params: 2,259,265\n",
      "Trainable params: 1,281\n",
      "Non-trainable params: 2,257,984\n",
      "__________________________________________________________________________________________________\n"
     ]
    }
   ],
   "source": [
    "myModel = tf.keras.applications.MobileNetV2(\n",
    "    input_shape=(224,224,3),\n",
    "    alpha=1.0,\n",
    "    include_top= False,\n",
    "    weights=\"imagenet\",\n",
    "    classes=2,\n",
    "    pooling=None,\n",
    "    classifier_activation=\"sigmoid\")\n",
    "\n",
    "nn_inputs = myModel.input\n",
    "\n",
    "for layer in myModel.layers:\n",
    "        layer.trainable = False\n",
    "\n",
    "\n",
    "myModelOut = myModel.output\n",
    "myModelOut = GlobalAveragePooling2D()(myModelOut)\n",
    "myModelOut = Dense(1, activation=\"sigmoid\")(myModelOut)\n",
    "\n",
    "model_image = Model(inputs=nn_inputs, outputs=myModelOut)\n",
    "\n",
    "model_image.summary()"
   ]
  },
  {
   "cell_type": "code",
   "execution_count": null,
   "id": "Zkui-3eRvkk8",
   "metadata": {
    "id": "Zkui-3eRvkk8"
   },
   "outputs": [],
   "source": [
    "  initial_learning_rate = 0.0001\n",
    "  lr_schedule = tf.keras.optimizers.schedules.ExponentialDecay(\n",
    "      initial_learning_rate, decay_steps=100000, decay_rate=0.96, staircase=True\n",
    "  )\n",
    "model_image.compile(\n",
    "    optimizer=tf.keras.optimizers.Adam(learning_rate = lr_schedule),\n",
    "    loss = \"binary_crossentropy\",\n",
    "    metrics=METRICS)"
   ]
  },
  {
   "cell_type": "code",
   "execution_count": null,
   "id": "k18dc97okPvj",
   "metadata": {
    "colab": {
     "base_uri": "https://localhost:8080/"
    },
    "id": "k18dc97okPvj",
    "outputId": "211c873d-3f12-47e2-b566-951af01abd1d"
   },
   "outputs": [
    {
     "name": "stdout",
     "output_type": "stream",
     "text": [
      "Epoch 1/20\n",
      "147/147 [==============================] - 9s 34ms/step - loss: 1.5229 - tp: 38.0000 - fp: 304.0000 - tn: 450.0000 - fn: 45.0000 - accuracy: 0.5830 - precision: 0.1111 - recall: 0.4578 - auc: 0.5305 - prc: 0.1141 - val_loss: 0.7594 - val_tp: 9.0000 - val_fp: 115.0000 - val_tn: 113.0000 - val_fn: 15.0000 - val_accuracy: 0.4841 - val_precision: 0.0726 - val_recall: 0.3750 - val_auc: 0.4647 - val_prc: 0.1477\n",
      "Epoch 2/20\n",
      "147/147 [==============================] - 4s 24ms/step - loss: 1.4628 - tp: 32.0000 - fp: 241.0000 - tn: 285.0000 - fn: 27.0000 - accuracy: 0.5419 - precision: 0.1172 - recall: 0.5424 - auc: 0.5204 - prc: 0.0980 - val_loss: 0.7449 - val_tp: 11.0000 - val_fp: 113.0000 - val_tn: 115.0000 - val_fn: 13.0000 - val_accuracy: 0.5000 - val_precision: 0.0887 - val_recall: 0.4583 - val_auc: 0.4728 - val_prc: 0.1297\n",
      "Epoch 3/20\n",
      "147/147 [==============================] - 3s 20ms/step - loss: 1.4234 - tp: 33.0000 - fp: 225.0000 - tn: 301.0000 - fn: 26.0000 - accuracy: 0.5709 - precision: 0.1279 - recall: 0.5593 - auc: 0.5526 - prc: 0.1056 - val_loss: 0.7327 - val_tp: 11.0000 - val_fp: 108.0000 - val_tn: 120.0000 - val_fn: 13.0000 - val_accuracy: 0.5198 - val_precision: 0.0924 - val_recall: 0.4583 - val_auc: 0.4868 - val_prc: 0.1185\n",
      "Epoch 4/20\n",
      "147/147 [==============================] - 3s 20ms/step - loss: 1.3901 - tp: 33.0000 - fp: 221.0000 - tn: 305.0000 - fn: 26.0000 - accuracy: 0.5778 - precision: 0.1299 - recall: 0.5593 - auc: 0.5822 - prc: 0.1143 - val_loss: 0.7220 - val_tp: 10.0000 - val_fp: 102.0000 - val_tn: 126.0000 - val_fn: 14.0000 - val_accuracy: 0.5397 - val_precision: 0.0893 - val_recall: 0.4167 - val_auc: 0.4952 - val_prc: 0.1124\n",
      "Epoch 5/20\n",
      "147/147 [==============================] - 3s 20ms/step - loss: 1.3603 - tp: 34.0000 - fp: 213.0000 - tn: 313.0000 - fn: 25.0000 - accuracy: 0.5932 - precision: 0.1377 - recall: 0.5763 - auc: 0.6112 - prc: 0.1244 - val_loss: 0.7124 - val_tp: 10.0000 - val_fp: 99.0000 - val_tn: 129.0000 - val_fn: 14.0000 - val_accuracy: 0.5516 - val_precision: 0.0917 - val_recall: 0.4167 - val_auc: 0.5018 - val_prc: 0.1078\n",
      "Epoch 6/20\n",
      "147/147 [==============================] - 3s 20ms/step - loss: 1.3330 - tp: 35.0000 - fp: 204.0000 - tn: 322.0000 - fn: 24.0000 - accuracy: 0.6103 - precision: 0.1464 - recall: 0.5932 - auc: 0.6379 - prc: 0.1356 - val_loss: 0.7037 - val_tp: 10.0000 - val_fp: 99.0000 - val_tn: 129.0000 - val_fn: 14.0000 - val_accuracy: 0.5516 - val_precision: 0.0917 - val_recall: 0.4167 - val_auc: 0.5104 - val_prc: 0.1100\n",
      "Epoch 7/20\n",
      "147/147 [==============================] - 3s 21ms/step - loss: 1.3078 - tp: 36.0000 - fp: 199.0000 - tn: 327.0000 - fn: 23.0000 - accuracy: 0.6205 - precision: 0.1532 - recall: 0.6102 - auc: 0.6608 - prc: 0.1483 - val_loss: 0.6956 - val_tp: 9.0000 - val_fp: 95.0000 - val_tn: 133.0000 - val_fn: 15.0000 - val_accuracy: 0.5635 - val_precision: 0.0865 - val_recall: 0.3750 - val_auc: 0.5164 - val_prc: 0.1106\n",
      "Epoch 8/20\n",
      "147/147 [==============================] - 3s 22ms/step - loss: 1.2844 - tp: 35.0000 - fp: 191.0000 - tn: 335.0000 - fn: 24.0000 - accuracy: 0.6325 - precision: 0.1549 - recall: 0.5932 - auc: 0.6818 - prc: 0.1654 - val_loss: 0.6881 - val_tp: 9.0000 - val_fp: 88.0000 - val_tn: 140.0000 - val_fn: 15.0000 - val_accuracy: 0.5913 - val_precision: 0.0928 - val_recall: 0.3750 - val_auc: 0.5207 - val_prc: 0.1114\n",
      "Epoch 9/20\n",
      "147/147 [==============================] - 4s 30ms/step - loss: 1.2624 - tp: 36.0000 - fp: 182.0000 - tn: 344.0000 - fn: 23.0000 - accuracy: 0.6496 - precision: 0.1651 - recall: 0.6102 - auc: 0.7023 - prc: 0.1859 - val_loss: 0.6811 - val_tp: 9.0000 - val_fp: 86.0000 - val_tn: 142.0000 - val_fn: 15.0000 - val_accuracy: 0.5992 - val_precision: 0.0947 - val_recall: 0.3750 - val_auc: 0.5278 - val_prc: 0.1122\n",
      "Epoch 10/20\n",
      "147/147 [==============================] - 4s 25ms/step - loss: 1.2417 - tp: 38.0000 - fp: 171.0000 - tn: 355.0000 - fn: 21.0000 - accuracy: 0.6718 - precision: 0.1818 - recall: 0.6441 - auc: 0.7204 - prc: 0.1994 - val_loss: 0.6745 - val_tp: 9.0000 - val_fp: 82.0000 - val_tn: 146.0000 - val_fn: 15.0000 - val_accuracy: 0.6151 - val_precision: 0.0989 - val_recall: 0.3750 - val_auc: 0.5308 - val_prc: 0.1121\n",
      "Epoch 11/20\n",
      "147/147 [==============================] - 4s 24ms/step - loss: 1.2221 - tp: 39.0000 - fp: 164.0000 - tn: 362.0000 - fn: 20.0000 - accuracy: 0.6855 - precision: 0.1921 - recall: 0.6610 - auc: 0.7356 - prc: 0.2120 - val_loss: 0.6683 - val_tp: 9.0000 - val_fp: 78.0000 - val_tn: 150.0000 - val_fn: 15.0000 - val_accuracy: 0.6310 - val_precision: 0.1034 - val_recall: 0.3750 - val_auc: 0.5308 - val_prc: 0.1116\n",
      "Epoch 12/20\n",
      "147/147 [==============================] - 3s 21ms/step - loss: 1.2035 - tp: 40.0000 - fp: 161.0000 - tn: 365.0000 - fn: 19.0000 - accuracy: 0.6923 - precision: 0.1990 - recall: 0.6780 - auc: 0.7504 - prc: 0.2251 - val_loss: 0.6624 - val_tp: 9.0000 - val_fp: 78.0000 - val_tn: 150.0000 - val_fn: 15.0000 - val_accuracy: 0.6310 - val_precision: 0.1034 - val_recall: 0.3750 - val_auc: 0.5339 - val_prc: 0.1119\n",
      "Epoch 13/20\n",
      "147/147 [==============================] - 3s 21ms/step - loss: 1.1857 - tp: 40.0000 - fp: 156.0000 - tn: 370.0000 - fn: 19.0000 - accuracy: 0.7009 - precision: 0.2041 - recall: 0.6780 - auc: 0.7637 - prc: 0.2385 - val_loss: 0.6567 - val_tp: 9.0000 - val_fp: 78.0000 - val_tn: 150.0000 - val_fn: 15.0000 - val_accuracy: 0.6310 - val_precision: 0.1034 - val_recall: 0.3750 - val_auc: 0.5351 - val_prc: 0.1102\n",
      "Epoch 14/20\n",
      "147/147 [==============================] - 3s 21ms/step - loss: 1.1685 - tp: 41.0000 - fp: 155.0000 - tn: 371.0000 - fn: 18.0000 - accuracy: 0.7043 - precision: 0.2092 - recall: 0.6949 - auc: 0.7769 - prc: 0.2516 - val_loss: 0.6512 - val_tp: 9.0000 - val_fp: 78.0000 - val_tn: 150.0000 - val_fn: 15.0000 - val_accuracy: 0.6310 - val_precision: 0.1034 - val_recall: 0.3750 - val_auc: 0.5377 - val_prc: 0.1098\n",
      "Epoch 15/20\n",
      "147/147 [==============================] - 3s 21ms/step - loss: 1.1521 - tp: 41.0000 - fp: 153.0000 - tn: 373.0000 - fn: 18.0000 - accuracy: 0.7077 - precision: 0.2113 - recall: 0.6949 - auc: 0.7883 - prc: 0.2639 - val_loss: 0.6460 - val_tp: 9.0000 - val_fp: 75.0000 - val_tn: 153.0000 - val_fn: 15.0000 - val_accuracy: 0.6429 - val_precision: 0.1071 - val_recall: 0.3750 - val_auc: 0.5376 - val_prc: 0.1094\n",
      "Epoch 16/20\n",
      "147/147 [==============================] - 3s 20ms/step - loss: 1.1362 - tp: 43.0000 - fp: 148.0000 - tn: 378.0000 - fn: 16.0000 - accuracy: 0.7197 - precision: 0.2251 - recall: 0.7288 - auc: 0.7985 - prc: 0.2759 - val_loss: 0.6409 - val_tp: 9.0000 - val_fp: 74.0000 - val_tn: 154.0000 - val_fn: 15.0000 - val_accuracy: 0.6468 - val_precision: 0.1084 - val_recall: 0.3750 - val_auc: 0.5388 - val_prc: 0.1091\n",
      "Epoch 17/20\n",
      "147/147 [==============================] - 3s 21ms/step - loss: 1.1208 - tp: 44.0000 - fp: 146.0000 - tn: 380.0000 - fn: 15.0000 - accuracy: 0.7248 - precision: 0.2316 - recall: 0.7458 - auc: 0.8089 - prc: 0.2899 - val_loss: 0.6360 - val_tp: 9.0000 - val_fp: 72.0000 - val_tn: 156.0000 - val_fn: 15.0000 - val_accuracy: 0.6548 - val_precision: 0.1111 - val_recall: 0.3750 - val_auc: 0.5403 - val_prc: 0.1095\n",
      "Epoch 18/20\n",
      "147/147 [==============================] - 4s 24ms/step - loss: 1.1059 - tp: 45.0000 - fp: 142.0000 - tn: 384.0000 - fn: 14.0000 - accuracy: 0.7333 - precision: 0.2406 - recall: 0.7627 - auc: 0.8173 - prc: 0.3018 - val_loss: 0.6313 - val_tp: 9.0000 - val_fp: 71.0000 - val_tn: 157.0000 - val_fn: 15.0000 - val_accuracy: 0.6587 - val_precision: 0.1125 - val_recall: 0.3750 - val_auc: 0.5411 - val_prc: 0.1095\n",
      "Epoch 19/20\n",
      "147/147 [==============================] - 3s 21ms/step - loss: 1.0915 - tp: 45.0000 - fp: 143.0000 - tn: 383.0000 - fn: 14.0000 - accuracy: 0.7316 - precision: 0.2394 - recall: 0.7627 - auc: 0.8259 - prc: 0.3129 - val_loss: 0.6267 - val_tp: 9.0000 - val_fp: 71.0000 - val_tn: 157.0000 - val_fn: 15.0000 - val_accuracy: 0.6587 - val_precision: 0.1125 - val_recall: 0.3750 - val_auc: 0.5419 - val_prc: 0.1101\n",
      "Epoch 20/20\n",
      "147/147 [==============================] - 3s 21ms/step - loss: 1.0774 - tp: 45.0000 - fp: 138.0000 - tn: 388.0000 - fn: 14.0000 - accuracy: 0.7402 - precision: 0.2459 - recall: 0.7627 - auc: 0.8343 - prc: 0.3248 - val_loss: 0.6222 - val_tp: 9.0000 - val_fp: 69.0000 - val_tn: 159.0000 - val_fn: 15.0000 - val_accuracy: 0.6667 - val_precision: 0.1154 - val_recall: 0.3750 - val_auc: 0.5413 - val_prc: 0.1098\n"
     ]
    }
   ],
   "source": [
    "history_image = model_image.fit(train_dataset,\n",
    "                                   validation_data=validation_dataset,\n",
    "                                   batch_size = BATCH_SIZE,\n",
    "                                   class_weight = class_weights,\n",
    "                                   epochs=20\n",
    "                                  )"
   ]
  },
  {
   "cell_type": "markdown",
   "id": "b614ed24",
   "metadata": {
    "id": "b614ed24"
   },
   "source": [
    "# Clinical Model"
   ]
  },
  {
   "cell_type": "markdown",
   "id": "f1cb96c3",
   "metadata": {
    "id": "f1cb96c3"
   },
   "source": [
    "## Train and Validation data"
   ]
  },
  {
   "cell_type": "code",
   "execution_count": null,
   "id": "0900f068",
   "metadata": {
    "id": "0900f068"
   },
   "outputs": [],
   "source": [
    "clinical_train = train_df[['Recurrence event(s)', 'Date of Birth (Days)',\n",
    "       'Menopause (at diagnosis)', 'Staging(Tumor Size)', 'Staging(Nodes)',\n",
    "       'PR', 'HER2', 'Tumor Grade Tubule', 'Tumor Grade Mitotic',\n",
    "       'Tumor Grade Nuclear', 'Mol Subtype_Triple Negative',\n",
    "       'Race and Ethnicity_Hispanic', 'Race and Ethnicity_Asian']]\n",
    "\n",
    "clinical_test = test_df[['Recurrence event(s)', 'Date of Birth (Days)',\n",
    "       'Menopause (at diagnosis)', 'Staging(Tumor Size)', 'Staging(Nodes)',\n",
    "       'PR', 'HER2', 'Tumor Grade Tubule', 'Tumor Grade Mitotic',\n",
    "       'Tumor Grade Nuclear', 'Mol Subtype_Triple Negative',\n",
    "       'Race and Ethnicity_Hispanic', 'Race and Ethnicity_Asian']]"
   ]
  },
  {
   "cell_type": "code",
   "execution_count": null,
   "id": "9a1c31c6",
   "metadata": {
    "colab": {
     "base_uri": "https://localhost:8080/",
     "height": 268
    },
    "id": "9a1c31c6",
    "outputId": "934b78d3-e018-4322-d91c-77b92729605f"
   },
   "outputs": [
    {
     "data": {
      "text/html": [
       "\n",
       "  <div id=\"df-b0568096-4e75-4f29-9b43-0ac828a4879b\">\n",
       "    <div class=\"colab-df-container\">\n",
       "      <div>\n",
       "<style scoped>\n",
       "    .dataframe tbody tr th:only-of-type {\n",
       "        vertical-align: middle;\n",
       "    }\n",
       "\n",
       "    .dataframe tbody tr th {\n",
       "        vertical-align: top;\n",
       "    }\n",
       "\n",
       "    .dataframe thead th {\n",
       "        text-align: right;\n",
       "    }\n",
       "</style>\n",
       "<table border=\"1\" class=\"dataframe\">\n",
       "  <thead>\n",
       "    <tr style=\"text-align: right;\">\n",
       "      <th></th>\n",
       "      <th>Recurrence event(s)</th>\n",
       "      <th>Date of Birth (Days)</th>\n",
       "      <th>Menopause (at diagnosis)</th>\n",
       "      <th>Staging(Tumor Size)</th>\n",
       "      <th>Staging(Nodes)</th>\n",
       "      <th>PR</th>\n",
       "      <th>HER2</th>\n",
       "      <th>Tumor Grade Tubule</th>\n",
       "      <th>Tumor Grade Mitotic</th>\n",
       "      <th>Tumor Grade Nuclear</th>\n",
       "      <th>Mol Subtype_Triple Negative</th>\n",
       "      <th>Race and Ethnicity_Hispanic</th>\n",
       "      <th>Race and Ethnicity_Asian</th>\n",
       "    </tr>\n",
       "  </thead>\n",
       "  <tbody>\n",
       "    <tr>\n",
       "      <th>234</th>\n",
       "      <td>0</td>\n",
       "      <td>16563</td>\n",
       "      <td>0</td>\n",
       "      <td>3.0</td>\n",
       "      <td>1.0</td>\n",
       "      <td>0</td>\n",
       "      <td>1</td>\n",
       "      <td>3</td>\n",
       "      <td>1</td>\n",
       "      <td>2</td>\n",
       "      <td>0</td>\n",
       "      <td>0</td>\n",
       "      <td>0</td>\n",
       "    </tr>\n",
       "    <tr>\n",
       "      <th>220</th>\n",
       "      <td>0</td>\n",
       "      <td>16603</td>\n",
       "      <td>0</td>\n",
       "      <td>4.0</td>\n",
       "      <td>0.0</td>\n",
       "      <td>1</td>\n",
       "      <td>1</td>\n",
       "      <td>2</td>\n",
       "      <td>1</td>\n",
       "      <td>3</td>\n",
       "      <td>0</td>\n",
       "      <td>0</td>\n",
       "      <td>1</td>\n",
       "    </tr>\n",
       "    <tr>\n",
       "      <th>316</th>\n",
       "      <td>0</td>\n",
       "      <td>26526</td>\n",
       "      <td>1</td>\n",
       "      <td>1.0</td>\n",
       "      <td>0.0</td>\n",
       "      <td>1</td>\n",
       "      <td>0</td>\n",
       "      <td>2</td>\n",
       "      <td>2</td>\n",
       "      <td>2</td>\n",
       "      <td>0</td>\n",
       "      <td>0</td>\n",
       "      <td>0</td>\n",
       "    </tr>\n",
       "    <tr>\n",
       "      <th>333</th>\n",
       "      <td>0</td>\n",
       "      <td>19192</td>\n",
       "      <td>1</td>\n",
       "      <td>1.0</td>\n",
       "      <td>0.0</td>\n",
       "      <td>0</td>\n",
       "      <td>1</td>\n",
       "      <td>3</td>\n",
       "      <td>3</td>\n",
       "      <td>3</td>\n",
       "      <td>0</td>\n",
       "      <td>0</td>\n",
       "      <td>0</td>\n",
       "    </tr>\n",
       "    <tr>\n",
       "      <th>132</th>\n",
       "      <td>0</td>\n",
       "      <td>23629</td>\n",
       "      <td>1</td>\n",
       "      <td>3.0</td>\n",
       "      <td>0.0</td>\n",
       "      <td>1</td>\n",
       "      <td>0</td>\n",
       "      <td>3</td>\n",
       "      <td>1</td>\n",
       "      <td>2</td>\n",
       "      <td>0</td>\n",
       "      <td>0</td>\n",
       "      <td>0</td>\n",
       "    </tr>\n",
       "  </tbody>\n",
       "</table>\n",
       "</div>\n",
       "      <button class=\"colab-df-convert\" onclick=\"convertToInteractive('df-b0568096-4e75-4f29-9b43-0ac828a4879b')\"\n",
       "              title=\"Convert this dataframe to an interactive table.\"\n",
       "              style=\"display:none;\">\n",
       "        \n",
       "  <svg xmlns=\"http://www.w3.org/2000/svg\" height=\"24px\"viewBox=\"0 0 24 24\"\n",
       "       width=\"24px\">\n",
       "    <path d=\"M0 0h24v24H0V0z\" fill=\"none\"/>\n",
       "    <path d=\"M18.56 5.44l.94 2.06.94-2.06 2.06-.94-2.06-.94-.94-2.06-.94 2.06-2.06.94zm-11 1L8.5 8.5l.94-2.06 2.06-.94-2.06-.94L8.5 2.5l-.94 2.06-2.06.94zm10 10l.94 2.06.94-2.06 2.06-.94-2.06-.94-.94-2.06-.94 2.06-2.06.94z\"/><path d=\"M17.41 7.96l-1.37-1.37c-.4-.4-.92-.59-1.43-.59-.52 0-1.04.2-1.43.59L10.3 9.45l-7.72 7.72c-.78.78-.78 2.05 0 2.83L4 21.41c.39.39.9.59 1.41.59.51 0 1.02-.2 1.41-.59l7.78-7.78 2.81-2.81c.8-.78.8-2.07 0-2.86zM5.41 20L4 18.59l7.72-7.72 1.47 1.35L5.41 20z\"/>\n",
       "  </svg>\n",
       "      </button>\n",
       "      \n",
       "  <style>\n",
       "    .colab-df-container {\n",
       "      display:flex;\n",
       "      flex-wrap:wrap;\n",
       "      gap: 12px;\n",
       "    }\n",
       "\n",
       "    .colab-df-convert {\n",
       "      background-color: #E8F0FE;\n",
       "      border: none;\n",
       "      border-radius: 50%;\n",
       "      cursor: pointer;\n",
       "      display: none;\n",
       "      fill: #1967D2;\n",
       "      height: 32px;\n",
       "      padding: 0 0 0 0;\n",
       "      width: 32px;\n",
       "    }\n",
       "\n",
       "    .colab-df-convert:hover {\n",
       "      background-color: #E2EBFA;\n",
       "      box-shadow: 0px 1px 2px rgba(60, 64, 67, 0.3), 0px 1px 3px 1px rgba(60, 64, 67, 0.15);\n",
       "      fill: #174EA6;\n",
       "    }\n",
       "\n",
       "    [theme=dark] .colab-df-convert {\n",
       "      background-color: #3B4455;\n",
       "      fill: #D2E3FC;\n",
       "    }\n",
       "\n",
       "    [theme=dark] .colab-df-convert:hover {\n",
       "      background-color: #434B5C;\n",
       "      box-shadow: 0px 1px 3px 1px rgba(0, 0, 0, 0.15);\n",
       "      filter: drop-shadow(0px 1px 2px rgba(0, 0, 0, 0.3));\n",
       "      fill: #FFFFFF;\n",
       "    }\n",
       "  </style>\n",
       "\n",
       "      <script>\n",
       "        const buttonEl =\n",
       "          document.querySelector('#df-b0568096-4e75-4f29-9b43-0ac828a4879b button.colab-df-convert');\n",
       "        buttonEl.style.display =\n",
       "          google.colab.kernel.accessAllowed ? 'block' : 'none';\n",
       "\n",
       "        async function convertToInteractive(key) {\n",
       "          const element = document.querySelector('#df-b0568096-4e75-4f29-9b43-0ac828a4879b');\n",
       "          const dataTable =\n",
       "            await google.colab.kernel.invokeFunction('convertToInteractive',\n",
       "                                                     [key], {});\n",
       "          if (!dataTable) return;\n",
       "\n",
       "          const docLinkHtml = 'Like what you see? Visit the ' +\n",
       "            '<a target=\"_blank\" href=https://colab.research.google.com/notebooks/data_table.ipynb>data table notebook</a>'\n",
       "            + ' to learn more about interactive tables.';\n",
       "          element.innerHTML = '';\n",
       "          dataTable['output_type'] = 'display_data';\n",
       "          await google.colab.output.renderOutput(dataTable, element);\n",
       "          const docLink = document.createElement('div');\n",
       "          docLink.innerHTML = docLinkHtml;\n",
       "          element.appendChild(docLink);\n",
       "        }\n",
       "      </script>\n",
       "    </div>\n",
       "  </div>\n",
       "  "
      ],
      "text/plain": [
       "     Recurrence event(s)  Date of Birth (Days)  Menopause (at diagnosis)  \\\n",
       "234                    0                 16563                         0   \n",
       "220                    0                 16603                         0   \n",
       "316                    0                 26526                         1   \n",
       "333                    0                 19192                         1   \n",
       "132                    0                 23629                         1   \n",
       "\n",
       "     Staging(Tumor Size)  Staging(Nodes)  PR  HER2  Tumor Grade Tubule  \\\n",
       "234                  3.0             1.0   0     1                   3   \n",
       "220                  4.0             0.0   1     1                   2   \n",
       "316                  1.0             0.0   1     0                   2   \n",
       "333                  1.0             0.0   0     1                   3   \n",
       "132                  3.0             0.0   1     0                   3   \n",
       "\n",
       "     Tumor Grade Mitotic  Tumor Grade Nuclear  Mol Subtype_Triple Negative  \\\n",
       "234                    1                    2                            0   \n",
       "220                    1                    3                            0   \n",
       "316                    2                    2                            0   \n",
       "333                    3                    3                            0   \n",
       "132                    1                    2                            0   \n",
       "\n",
       "     Race and Ethnicity_Hispanic  Race and Ethnicity_Asian  \n",
       "234                            0                         0  \n",
       "220                            0                         1  \n",
       "316                            0                         0  \n",
       "333                            0                         0  \n",
       "132                            0                         0  "
      ]
     },
     "execution_count": 42,
     "metadata": {},
     "output_type": "execute_result"
    }
   ],
   "source": [
    "clinical_train.head()"
   ]
  },
  {
   "cell_type": "code",
   "execution_count": null,
   "id": "b5f4b806",
   "metadata": {
    "colab": {
     "base_uri": "https://localhost:8080/"
    },
    "id": "b5f4b806",
    "outputId": "86ca1cd0-eea7-4f6c-c20f-c8d7da67a780"
   },
   "outputs": [
    {
     "name": "stdout",
     "output_type": "stream",
     "text": [
      "585\n",
      "252\n"
     ]
    }
   ],
   "source": [
    "print(len(clinical_train))\n",
    "print(len(clinical_test))"
   ]
  },
  {
   "cell_type": "code",
   "execution_count": null,
   "id": "8aaf26c2",
   "metadata": {
    "id": "8aaf26c2"
   },
   "outputs": [],
   "source": [
    "def test_train_dataset(train_df, test_df, label):\n",
    "\n",
    "    print(train_df.columns)\n",
    "    \n",
    "    # Form np arrays of labels and features.\n",
    "    y_train = np.array(train_df.pop(label))\n",
    "    y_test = np.array(test_df.pop(label))\n",
    "\n",
    "    X_train = np.array(train_df)\n",
    "    X_test = np.array(test_df)\n",
    "    \n",
    "    return X_train, X_test, y_train, y_test"
   ]
  },
  {
   "cell_type": "code",
   "execution_count": null,
   "id": "47e6fcb0",
   "metadata": {
    "colab": {
     "base_uri": "https://localhost:8080/"
    },
    "id": "47e6fcb0",
    "outputId": "a099a2e7-7cf4-4032-aaa7-91259b76f350"
   },
   "outputs": [
    {
     "name": "stdout",
     "output_type": "stream",
     "text": [
      "Index(['Recurrence event(s)', 'Date of Birth (Days)',\n",
      "       'Menopause (at diagnosis)', 'Staging(Tumor Size)', 'Staging(Nodes)',\n",
      "       'PR', 'HER2', 'Tumor Grade Tubule', 'Tumor Grade Mitotic',\n",
      "       'Tumor Grade Nuclear', 'Mol Subtype_Triple Negative',\n",
      "       'Race and Ethnicity_Hispanic', 'Race and Ethnicity_Asian'],\n",
      "      dtype='object')\n"
     ]
    }
   ],
   "source": [
    "X_train_clinical, X_test_clinical, y_train_clinical, y_test_clinical = test_train_dataset(clinical_train, clinical_test, 'Recurrence event(s)')"
   ]
  },
  {
   "cell_type": "code",
   "execution_count": null,
   "id": "319b8939",
   "metadata": {
    "id": "319b8939"
   },
   "outputs": [],
   "source": [
    "scaler = preprocessing.StandardScaler()\n",
    "\n",
    "X_train_clinical = scaler.fit_transform(X_train_clinical)\n",
    "X_test_clinical = scaler.transform(X_test_clinical)"
   ]
  },
  {
   "cell_type": "markdown",
   "id": "a339ae75",
   "metadata": {
    "id": "a339ae75"
   },
   "source": [
    "## Class Weights"
   ]
  },
  {
   "cell_type": "code",
   "execution_count": null,
   "id": "d6a66735",
   "metadata": {
    "colab": {
     "base_uri": "https://localhost:8080/"
    },
    "id": "d6a66735",
    "outputId": "07140388-ce8e-4ce5-9adf-98667e45a93b"
   },
   "outputs": [
    {
     "name": "stdout",
     "output_type": "stream",
     "text": [
      "Counter({0: 526, 1: 59})\n",
      "{0: 1.1121673003802282, 1: 9.915254237288135}\n"
     ]
    }
   ],
   "source": [
    "org_size = collections.Counter(y_train_clinical) \n",
    "\n",
    "n_classes= 2 \n",
    "n_sample0= int(org_size.get(0))\n",
    "n_sample1= int(org_size.get(1))\n",
    "n_samples= n_sample0 + n_sample1\n",
    "    \n",
    "\n",
    "#Weights for class 0 (no response):\n",
    "w0=  n_samples/(n_classes*n_sample0) \n",
    "\n",
    "#Weights for class 1 (complete or partial response):\n",
    "w1= n_samples/(n_classes*n_sample1)\n",
    "\n",
    "class_weights = {0:w0*2, 1: w1*2}\n",
    "print(org_size)\n",
    "print(class_weights)"
   ]
  },
  {
   "cell_type": "markdown",
   "id": "2YFHAc4x4sOE",
   "metadata": {
    "id": "2YFHAc4x4sOE"
   },
   "source": [
    "#Simple Convoloutional Neural Network"
   ]
  },
  {
   "cell_type": "code",
   "execution_count": null,
   "id": "6d4k7XSX5EuG",
   "metadata": {
    "colab": {
     "base_uri": "https://localhost:8080/"
    },
    "id": "6d4k7XSX5EuG",
    "outputId": "f3e0128b-d64a-4e70-afdc-ef5c744bd56e"
   },
   "outputs": [
    {
     "name": "stdout",
     "output_type": "stream",
     "text": [
      "12\n"
     ]
    }
   ],
   "source": [
    "input_shape = X_train_clinical.shape[1]\n",
    "print(input_shape)"
   ]
  },
  {
   "cell_type": "code",
   "execution_count": null,
   "id": "dEMziIb34rc-",
   "metadata": {
    "id": "dEMziIb34rc-"
   },
   "outputs": [],
   "source": [
    "img_input = Input(shape =( input_shape,))\n",
    "\n",
    "x =Dense(64, activation = \"relu\")(img_input)\n",
    "x = Dense(128, activation = \"relu\")(x)\n",
    "x = Dense(512, activation = \"relu\")(x)\n",
    "x = Dropout(0.4)(x)\n",
    "x = Dense(64, activation = \"relu\")(x)\n",
    "x=Dropout(0.2)(x)\n",
    "predictions = Dense(1, activation = \"sigmoid\")(x)\n",
    "\n",
    "model_clinical = Model(inputs = img_input, outputs = predictions)"
   ]
  },
  {
   "cell_type": "code",
   "execution_count": null,
   "id": "1O6np0-Q5reH",
   "metadata": {
    "id": "1O6np0-Q5reH"
   },
   "outputs": [],
   "source": [
    "model_clinical.compile(optimizer = tf.optimizers.Adam(learning_rate = 0.001),\n",
    "                    loss = \"binary_crossentropy\",\n",
    "                    metrics = METRICS)\n",
    "\n",
    "early_stop = keras.callbacks.EarlyStopping(monitor = \"val_auc\", patience = 10, restore_best_weights = True)"
   ]
  },
  {
   "cell_type": "code",
   "execution_count": null,
   "id": "sVji6c5n5_au",
   "metadata": {
    "colab": {
     "base_uri": "https://localhost:8080/"
    },
    "id": "sVji6c5n5_au",
    "outputId": "87c51cac-4c79-4195-882b-ada806c633d7"
   },
   "outputs": [
    {
     "name": "stdout",
     "output_type": "stream",
     "text": [
      "Epoch 1/80\n",
      "147/147 - 6s - loss: 0.7700 - tp: 73.0000 - fp: 85.0000 - tn: 695.0000 - fn: 8.0000 - accuracy: 0.8920 - precision: 0.4620 - recall: 0.9012 - auc: 0.9546 - prc: 0.7801 - val_loss: 2.1237 - val_tp: 5.0000 - val_fp: 39.0000 - val_tn: 189.0000 - val_fn: 19.0000 - val_accuracy: 0.7698 - val_precision: 0.1136 - val_recall: 0.2083 - val_auc: 0.4900 - val_prc: 0.1016 - 6s/epoch - 41ms/step\n",
      "Epoch 2/80\n",
      "147/147 - 2s - loss: 0.4049 - tp: 55.0000 - fp: 58.0000 - tn: 468.0000 - fn: 4.0000 - accuracy: 0.8940 - precision: 0.4867 - recall: 0.9322 - auc: 0.9754 - prc: 0.8520 - val_loss: 2.1151 - val_tp: 4.0000 - val_fp: 43.0000 - val_tn: 185.0000 - val_fn: 20.0000 - val_accuracy: 0.7500 - val_precision: 0.0851 - val_recall: 0.1667 - val_auc: 0.4868 - val_prc: 0.0956 - 2s/epoch - 13ms/step\n",
      "Epoch 3/80\n",
      "147/147 - 2s - loss: 0.3324 - tp: 56.0000 - fp: 52.0000 - tn: 474.0000 - fn: 3.0000 - accuracy: 0.9060 - precision: 0.5185 - recall: 0.9492 - auc: 0.9790 - prc: 0.8592 - val_loss: 2.2459 - val_tp: 2.0000 - val_fp: 32.0000 - val_tn: 196.0000 - val_fn: 22.0000 - val_accuracy: 0.7857 - val_precision: 0.0588 - val_recall: 0.0833 - val_auc: 0.4800 - val_prc: 0.0886 - 2s/epoch - 14ms/step\n",
      "Epoch 4/80\n",
      "147/147 - 2s - loss: 0.3817 - tp: 56.0000 - fp: 58.0000 - tn: 468.0000 - fn: 3.0000 - accuracy: 0.8957 - precision: 0.4912 - recall: 0.9492 - auc: 0.9752 - prc: 0.8511 - val_loss: 2.0382 - val_tp: 5.0000 - val_fp: 46.0000 - val_tn: 182.0000 - val_fn: 19.0000 - val_accuracy: 0.7421 - val_precision: 0.0980 - val_recall: 0.2083 - val_auc: 0.5007 - val_prc: 0.1089 - 2s/epoch - 12ms/step\n",
      "Epoch 5/80\n",
      "147/147 - 2s - loss: 0.3718 - tp: 58.0000 - fp: 76.0000 - tn: 450.0000 - fn: 1.0000 - accuracy: 0.8684 - precision: 0.4328 - recall: 0.9831 - auc: 0.9763 - prc: 0.8548 - val_loss: 2.5268 - val_tp: 6.0000 - val_fp: 55.0000 - val_tn: 173.0000 - val_fn: 18.0000 - val_accuracy: 0.7103 - val_precision: 0.0984 - val_recall: 0.2500 - val_auc: 0.5052 - val_prc: 0.0980 - 2s/epoch - 12ms/step\n",
      "Epoch 6/80\n",
      "147/147 - 2s - loss: 0.3945 - tp: 57.0000 - fp: 68.0000 - tn: 458.0000 - fn: 2.0000 - accuracy: 0.8803 - precision: 0.4560 - recall: 0.9661 - auc: 0.9693 - prc: 0.8095 - val_loss: 2.4607 - val_tp: 3.0000 - val_fp: 27.0000 - val_tn: 201.0000 - val_fn: 21.0000 - val_accuracy: 0.8095 - val_precision: 0.1000 - val_recall: 0.1250 - val_auc: 0.4895 - val_prc: 0.1044 - 2s/epoch - 12ms/step\n",
      "Epoch 7/80\n",
      "147/147 - 2s - loss: 0.5224 - tp: 56.0000 - fp: 108.0000 - tn: 418.0000 - fn: 3.0000 - accuracy: 0.8103 - precision: 0.3415 - recall: 0.9492 - auc: 0.9602 - prc: 0.7671 - val_loss: 1.7758 - val_tp: 8.0000 - val_fp: 56.0000 - val_tn: 172.0000 - val_fn: 16.0000 - val_accuracy: 0.7143 - val_precision: 0.1250 - val_recall: 0.3333 - val_auc: 0.5401 - val_prc: 0.1298 - 2s/epoch - 15ms/step\n",
      "Epoch 8/80\n",
      "147/147 - 2s - loss: 0.3810 - tp: 57.0000 - fp: 76.0000 - tn: 450.0000 - fn: 2.0000 - accuracy: 0.8667 - precision: 0.4286 - recall: 0.9661 - auc: 0.9750 - prc: 0.8444 - val_loss: 1.9902 - val_tp: 5.0000 - val_fp: 35.0000 - val_tn: 193.0000 - val_fn: 19.0000 - val_accuracy: 0.7857 - val_precision: 0.1250 - val_recall: 0.2083 - val_auc: 0.5342 - val_prc: 0.1147 - 2s/epoch - 15ms/step\n",
      "Epoch 9/80\n",
      "147/147 - 2s - loss: 0.3859 - tp: 56.0000 - fp: 68.0000 - tn: 458.0000 - fn: 3.0000 - accuracy: 0.8786 - precision: 0.4516 - recall: 0.9492 - auc: 0.9775 - prc: 0.8606 - val_loss: 1.7090 - val_tp: 6.0000 - val_fp: 37.0000 - val_tn: 191.0000 - val_fn: 18.0000 - val_accuracy: 0.7817 - val_precision: 0.1395 - val_recall: 0.2500 - val_auc: 0.5306 - val_prc: 0.1224 - 2s/epoch - 11ms/step\n",
      "Epoch 10/80\n",
      "147/147 - 2s - loss: 0.3183 - tp: 58.0000 - fp: 67.0000 - tn: 459.0000 - fn: 1.0000 - accuracy: 0.8838 - precision: 0.4640 - recall: 0.9831 - auc: 0.9814 - prc: 0.8821 - val_loss: 2.0877 - val_tp: 5.0000 - val_fp: 30.0000 - val_tn: 198.0000 - val_fn: 19.0000 - val_accuracy: 0.8056 - val_precision: 0.1429 - val_recall: 0.2083 - val_auc: 0.5210 - val_prc: 0.1135 - 2s/epoch - 14ms/step\n",
      "Epoch 11/80\n",
      "147/147 - 2s - loss: 0.3270 - tp: 57.0000 - fp: 61.0000 - tn: 465.0000 - fn: 2.0000 - accuracy: 0.8923 - precision: 0.4831 - recall: 0.9661 - auc: 0.9793 - prc: 0.8631 - val_loss: 1.9245 - val_tp: 6.0000 - val_fp: 36.0000 - val_tn: 192.0000 - val_fn: 18.0000 - val_accuracy: 0.7857 - val_precision: 0.1429 - val_recall: 0.2500 - val_auc: 0.5366 - val_prc: 0.1127 - 2s/epoch - 14ms/step\n",
      "Epoch 12/80\n",
      "147/147 - 2s - loss: 0.3304 - tp: 58.0000 - fp: 69.0000 - tn: 457.0000 - fn: 1.0000 - accuracy: 0.8803 - precision: 0.4567 - recall: 0.9831 - auc: 0.9790 - prc: 0.8434 - val_loss: 2.5083 - val_tp: 5.0000 - val_fp: 38.0000 - val_tn: 190.0000 - val_fn: 19.0000 - val_accuracy: 0.7738 - val_precision: 0.1163 - val_recall: 0.2083 - val_auc: 0.5321 - val_prc: 0.1217 - 2s/epoch - 14ms/step\n",
      "Epoch 13/80\n",
      "147/147 - 2s - loss: 0.3246 - tp: 57.0000 - fp: 55.0000 - tn: 471.0000 - fn: 2.0000 - accuracy: 0.9026 - precision: 0.5089 - recall: 0.9661 - auc: 0.9787 - prc: 0.8703 - val_loss: 2.3005 - val_tp: 4.0000 - val_fp: 32.0000 - val_tn: 196.0000 - val_fn: 20.0000 - val_accuracy: 0.7937 - val_precision: 0.1111 - val_recall: 0.1667 - val_auc: 0.4922 - val_prc: 0.0986 - 2s/epoch - 14ms/step\n",
      "Epoch 14/80\n",
      "147/147 - 2s - loss: 0.3659 - tp: 56.0000 - fp: 75.0000 - tn: 451.0000 - fn: 3.0000 - accuracy: 0.8667 - precision: 0.4275 - recall: 0.9492 - auc: 0.9740 - prc: 0.8578 - val_loss: 2.2245 - val_tp: 5.0000 - val_fp: 46.0000 - val_tn: 182.0000 - val_fn: 19.0000 - val_accuracy: 0.7421 - val_precision: 0.0980 - val_recall: 0.2083 - val_auc: 0.5085 - val_prc: 0.1022 - 2s/epoch - 14ms/step\n",
      "Epoch 15/80\n",
      "147/147 - 2s - loss: 0.3188 - tp: 58.0000 - fp: 70.0000 - tn: 456.0000 - fn: 1.0000 - accuracy: 0.8786 - precision: 0.4531 - recall: 0.9831 - auc: 0.9814 - prc: 0.8862 - val_loss: 2.9833 - val_tp: 5.0000 - val_fp: 42.0000 - val_tn: 186.0000 - val_fn: 19.0000 - val_accuracy: 0.7579 - val_precision: 0.1064 - val_recall: 0.2083 - val_auc: 0.4885 - val_prc: 0.1004 - 2s/epoch - 14ms/step\n",
      "Epoch 16/80\n",
      "147/147 - 2s - loss: 0.4253 - tp: 57.0000 - fp: 71.0000 - tn: 455.0000 - fn: 2.0000 - accuracy: 0.8752 - precision: 0.4453 - recall: 0.9661 - auc: 0.9738 - prc: 0.7769 - val_loss: 1.8985 - val_tp: 6.0000 - val_fp: 40.0000 - val_tn: 188.0000 - val_fn: 18.0000 - val_accuracy: 0.7698 - val_precision: 0.1304 - val_recall: 0.2500 - val_auc: 0.5282 - val_prc: 0.1103 - 2s/epoch - 12ms/step\n",
      "Epoch 17/80\n",
      "147/147 - 2s - loss: 0.3417 - tp: 58.0000 - fp: 73.0000 - tn: 453.0000 - fn: 1.0000 - accuracy: 0.8735 - precision: 0.4427 - recall: 0.9831 - auc: 0.9776 - prc: 0.8535 - val_loss: 2.3652 - val_tp: 6.0000 - val_fp: 37.0000 - val_tn: 191.0000 - val_fn: 18.0000 - val_accuracy: 0.7817 - val_precision: 0.1395 - val_recall: 0.2500 - val_auc: 0.5376 - val_prc: 0.1148 - 2s/epoch - 15ms/step\n"
     ]
    }
   ],
   "source": [
    "clinical_history = model_clinical.fit(X_train_clinical,\n",
    "                             y_train_clinical,\n",
    "                             batch_size = BATCH_SIZE,\n",
    "                             validation_data = (X_test_clinical, y_test_clinical),\n",
    "                             class_weight = class_weights,\n",
    "                             callbacks= [early_stop],\n",
    "                             verbose = 2,\n",
    "                             epochs = 80)"
   ]
  },
  {
   "cell_type": "markdown",
   "id": "bfa17abe",
   "metadata": {
    "id": "bfa17abe"
   },
   "source": [
    "## Hyperparameter Tuning Version"
   ]
  },
  {
   "cell_type": "code",
   "execution_count": null,
   "id": "7ca8a87f",
   "metadata": {
    "colab": {
     "base_uri": "https://localhost:8080/"
    },
    "id": "7ca8a87f",
    "outputId": "f838d93c-ad8d-4e56-dcd4-3cf5add3cdb8"
   },
   "outputs": [
    {
     "name": "stdout",
     "output_type": "stream",
     "text": [
      "12\n"
     ]
    }
   ],
   "source": [
    "input_shape = X_train_clinical.shape[1]\n",
    "print(input_shape)"
   ]
  },
  {
   "cell_type": "code",
   "execution_count": null,
   "id": "ce9f7a7a",
   "metadata": {
    "id": "ce9f7a7a"
   },
   "outputs": [],
   "source": [
    "def model_builder(hp):\n",
    "    \n",
    "    img_input = Input(shape=(input_shape, ))\n",
    "\n",
    "    hp_input_units = hp.Int('input_units', min_value=32, max_value=512, step=32)\n",
    "    \n",
    "    x = Dense((hp_input_units), activation = \"relu\")(img_input)\n",
    "    \n",
    "    for i in range(hp.Int(\"num_layers\", min_value = 1, max_value = 4)):\n",
    "        x = Dense(hp.Int(f'dense_{i}_units', min_value=32, max_value=512, \n",
    "                         step=32), activation = \"relu\")(x)\n",
    "        x = Dropout(hp.Float(f\"dropout_{i}\", min_value =0, max_value =0.5, step = 0.1))(x)\n",
    "        \n",
    "    predictions = Dense(1, activation = \"sigmoid\")(x)\n",
    "\n",
    "    model = Model(inputs = img_input, outputs = predictions)\n",
    "    \n",
    "    hp_learning_rate = hp.Choice('learning_rate', values=[1e-2, 1e-3, 1e-4])\n",
    "\n",
    "    model.compile(optimizer=tf.optimizers.Adam(learning_rate = hp_learning_rate),\n",
    "              loss='binary_crossentropy',\n",
    "              metrics= METRICS) \n",
    "    \n",
    "    return model"
   ]
  },
  {
   "cell_type": "code",
   "execution_count": null,
   "id": "6816dc41",
   "metadata": {
    "id": "6816dc41"
   },
   "outputs": [],
   "source": [
    "checkpoint_cb = keras.callbacks.ModelCheckpoint(\n",
    "    \"clinical_classification.h5\", save_best_only=True\n",
    ")\n",
    "\n",
    "early_stop = keras.callbacks.EarlyStopping(monitor=\"val_auc\",\n",
    "                                           patience=15, \n",
    "                                           restore_best_weights =True)"
   ]
  },
  {
   "cell_type": "code",
   "execution_count": null,
   "id": "8Q_DiNe9GhtX",
   "metadata": {
    "id": "8Q_DiNe9GhtX"
   },
   "outputs": [],
   "source": [
    "tuner_bayes = kt.BayesianOptimization(\n",
    "    model_builder,\n",
    "    objective=kt.Objective('val_auc', direction='max'),\n",
    "    overwrite=True,\n",
    "    max_trials=80,\n",
    "    directory = \"trails\",\n",
    "    project_name=\"trials_reccurence_bayes\"\n",
    "    )"
   ]
  },
  {
   "cell_type": "code",
   "execution_count": null,
   "id": "yIo4jmaMQBaN",
   "metadata": {
    "colab": {
     "base_uri": "https://localhost:8080/"
    },
    "id": "yIo4jmaMQBaN",
    "outputId": "d1d51b77-1663-4c01-96c2-bb786394a640"
   },
   "outputs": [
    {
     "name": "stdout",
     "output_type": "stream",
     "text": [
      "Trial 80 Complete [00h 00m 25s]\n",
      "val_auc: 0.5988669991493225\n",
      "\n",
      "Best val_auc So Far: 0.659904956817627\n",
      "Total elapsed time: 00h 59m 18s\n",
      "INFO:tensorflow:Oracle triggered exit\n"
     ]
    },
    {
     "name": "stderr",
     "output_type": "stream",
     "text": [
      "INFO:tensorflow:Oracle triggered exit\n"
     ]
    }
   ],
   "source": [
    "tuner_bayes.search(X_train_clinical,\n",
    "             y_train_clinical,\n",
    "             batch_size= BATCH_SIZE,\n",
    "             validation_data = (X_test_clinical, y_test_clinical), \n",
    "             class_weight =class_weights,\n",
    "             callbacks=[checkpoint_cb, early_stop],\n",
    "             verbose = 1,\n",
    "             epochs=20)"
   ]
  },
  {
   "cell_type": "code",
   "execution_count": null,
   "id": "Qia4UaHeQFWr",
   "metadata": {
    "colab": {
     "base_uri": "https://localhost:8080/"
    },
    "id": "Qia4UaHeQFWr",
    "outputId": "56837170-ccf6-4e74-e7f2-43321b8c708c"
   },
   "outputs": [
    {
     "name": "stdout",
     "output_type": "stream",
     "text": [
      "{'input_units': 512, 'num_layers': 1, 'dense_0_units': 512, 'dropout_0': 0.0, 'learning_rate': 0.01, 'dense_1_units': 512, 'dropout_1': 0.5, 'dense_2_units': 32, 'dropout_2': 0.5, 'dense_3_units': 32, 'dropout_3': 0.0}\n"
     ]
    }
   ],
   "source": [
    "best_hps=tuner_bayes.get_best_hyperparameters(1)[0]\n",
    "print(best_hps.values)"
   ]
  },
  {
   "cell_type": "code",
   "execution_count": null,
   "id": "83c57e0d",
   "metadata": {
    "colab": {
     "base_uri": "https://localhost:8080/"
    },
    "id": "83c57e0d",
    "outputId": "ddbc9aee-1554-487e-ce16-b2f9376bd6f7"
   },
   "outputs": [
    {
     "name": "stdout",
     "output_type": "stream",
     "text": [
      "Epoch 1/80\n",
      "147/147 [==============================] - 3s 13ms/step - loss: 1.8269 - tp: 45.0000 - fp: 298.0000 - tn: 456.0000 - fn: 38.0000 - accuracy: 0.5986 - precision: 0.1312 - recall: 0.5422 - auc: 0.5952 - prc: 0.1468 - val_loss: 0.9605 - val_tp: 19.0000 - val_fp: 166.0000 - val_tn: 62.0000 - val_fn: 5.0000 - val_accuracy: 0.3214 - val_precision: 0.1027 - val_recall: 0.7917 - val_auc: 0.5182 - val_prc: 0.0997\n",
      "Epoch 2/80\n",
      "147/147 [==============================] - 1s 7ms/step - loss: 1.5609 - tp: 42.0000 - fp: 243.0000 - tn: 283.0000 - fn: 17.0000 - accuracy: 0.5556 - precision: 0.1474 - recall: 0.7119 - auc: 0.6593 - prc: 0.1629 - val_loss: 0.7834 - val_tp: 11.0000 - val_fp: 86.0000 - val_tn: 142.0000 - val_fn: 13.0000 - val_accuracy: 0.6071 - val_precision: 0.1134 - val_recall: 0.4583 - val_auc: 0.5712 - val_prc: 0.1188\n",
      "Epoch 3/80\n",
      "147/147 [==============================] - 1s 8ms/step - loss: 1.5656 - tp: 38.0000 - fp: 231.0000 - tn: 295.0000 - fn: 21.0000 - accuracy: 0.5692 - precision: 0.1413 - recall: 0.6441 - auc: 0.6575 - prc: 0.1843 - val_loss: 0.7109 - val_tp: 7.0000 - val_fp: 51.0000 - val_tn: 177.0000 - val_fn: 17.0000 - val_accuracy: 0.7302 - val_precision: 0.1207 - val_recall: 0.2917 - val_auc: 0.5572 - val_prc: 0.1105\n",
      "Epoch 4/80\n",
      "147/147 [==============================] - 1s 7ms/step - loss: 2.6996 - tp: 33.0000 - fp: 223.0000 - tn: 303.0000 - fn: 26.0000 - accuracy: 0.5744 - precision: 0.1289 - recall: 0.5593 - auc: 0.5887 - prc: 0.1324 - val_loss: 1.3568 - val_tp: 4.0000 - val_fp: 47.0000 - val_tn: 181.0000 - val_fn: 20.0000 - val_accuracy: 0.7341 - val_precision: 0.0784 - val_recall: 0.1667 - val_auc: 0.5036 - val_prc: 0.0916\n",
      "Epoch 5/80\n",
      "147/147 [==============================] - 1s 8ms/step - loss: 2.4057 - tp: 35.0000 - fp: 225.0000 - tn: 301.0000 - fn: 24.0000 - accuracy: 0.5744 - precision: 0.1346 - recall: 0.5932 - auc: 0.6110 - prc: 0.1425 - val_loss: 3.6902 - val_tp: 24.0000 - val_fp: 228.0000 - val_tn: 0.0000e+00 - val_fn: 0.0000e+00 - val_accuracy: 0.0952 - val_precision: 0.0952 - val_recall: 1.0000 - val_auc: 0.5528 - val_prc: 0.1193\n",
      "Epoch 6/80\n",
      "147/147 [==============================] - 1s 7ms/step - loss: 1.8594 - tp: 40.0000 - fp: 263.0000 - tn: 263.0000 - fn: 19.0000 - accuracy: 0.5179 - precision: 0.1320 - recall: 0.6780 - auc: 0.6323 - prc: 0.1587 - val_loss: 0.8936 - val_tp: 16.0000 - val_fp: 132.0000 - val_tn: 96.0000 - val_fn: 8.0000 - val_accuracy: 0.4444 - val_precision: 0.1081 - val_recall: 0.6667 - val_auc: 0.5261 - val_prc: 0.1044\n",
      "Epoch 7/80\n",
      "147/147 [==============================] - 1s 8ms/step - loss: 1.5507 - tp: 44.0000 - fp: 239.0000 - tn: 287.0000 - fn: 15.0000 - accuracy: 0.5658 - precision: 0.1555 - recall: 0.7458 - auc: 0.7354 - prc: 0.2641 - val_loss: 2.2650 - val_tp: 17.0000 - val_fp: 138.0000 - val_tn: 90.0000 - val_fn: 7.0000 - val_accuracy: 0.4246 - val_precision: 0.1097 - val_recall: 0.7083 - val_auc: 0.5744 - val_prc: 0.1210\n",
      "Epoch 8/80\n",
      "147/147 [==============================] - 1s 8ms/step - loss: 2.1844 - tp: 39.0000 - fp: 247.0000 - tn: 279.0000 - fn: 20.0000 - accuracy: 0.5436 - precision: 0.1364 - recall: 0.6610 - auc: 0.6274 - prc: 0.1532 - val_loss: 1.4591 - val_tp: 17.0000 - val_fp: 123.0000 - val_tn: 105.0000 - val_fn: 7.0000 - val_accuracy: 0.4841 - val_precision: 0.1214 - val_recall: 0.7083 - val_auc: 0.6070 - val_prc: 0.1435\n",
      "Epoch 9/80\n",
      "147/147 [==============================] - 1s 8ms/step - loss: 2.5259 - tp: 37.0000 - fp: 188.0000 - tn: 338.0000 - fn: 22.0000 - accuracy: 0.6410 - precision: 0.1644 - recall: 0.6271 - auc: 0.6722 - prc: 0.2272 - val_loss: 1.3427 - val_tp: 16.0000 - val_fp: 129.0000 - val_tn: 99.0000 - val_fn: 8.0000 - val_accuracy: 0.4563 - val_precision: 0.1103 - val_recall: 0.6667 - val_auc: 0.5661 - val_prc: 0.1266\n",
      "Epoch 10/80\n",
      "147/147 [==============================] - 1s 7ms/step - loss: 1.8024 - tp: 43.0000 - fp: 233.0000 - tn: 293.0000 - fn: 16.0000 - accuracy: 0.5744 - precision: 0.1558 - recall: 0.7288 - auc: 0.6868 - prc: 0.2213 - val_loss: 1.0057 - val_tp: 14.0000 - val_fp: 115.0000 - val_tn: 113.0000 - val_fn: 10.0000 - val_accuracy: 0.5040 - val_precision: 0.1085 - val_recall: 0.5833 - val_auc: 0.5439 - val_prc: 0.1043\n",
      "Epoch 11/80\n",
      "147/147 [==============================] - 1s 7ms/step - loss: 1.8013 - tp: 47.0000 - fp: 242.0000 - tn: 284.0000 - fn: 12.0000 - accuracy: 0.5658 - precision: 0.1626 - recall: 0.7966 - auc: 0.7358 - prc: 0.2634 - val_loss: 1.7313 - val_tp: 24.0000 - val_fp: 212.0000 - val_tn: 16.0000 - val_fn: 0.0000e+00 - val_accuracy: 0.1587 - val_precision: 0.1017 - val_recall: 1.0000 - val_auc: 0.5485 - val_prc: 0.1101\n",
      "Epoch 12/80\n",
      "147/147 [==============================] - 1s 8ms/step - loss: 1.6247 - tp: 45.0000 - fp: 279.0000 - tn: 247.0000 - fn: 14.0000 - accuracy: 0.4991 - precision: 0.1389 - recall: 0.7627 - auc: 0.6967 - prc: 0.2574 - val_loss: 0.8437 - val_tp: 6.0000 - val_fp: 60.0000 - val_tn: 168.0000 - val_fn: 18.0000 - val_accuracy: 0.6905 - val_precision: 0.0909 - val_recall: 0.2500 - val_auc: 0.5596 - val_prc: 0.1173\n",
      "Epoch 13/80\n",
      "147/147 [==============================] - 1s 8ms/step - loss: 1.5694 - tp: 40.0000 - fp: 214.0000 - tn: 312.0000 - fn: 19.0000 - accuracy: 0.6017 - precision: 0.1575 - recall: 0.6780 - auc: 0.7053 - prc: 0.2594 - val_loss: 0.8961 - val_tp: 5.0000 - val_fp: 50.0000 - val_tn: 178.0000 - val_fn: 19.0000 - val_accuracy: 0.7262 - val_precision: 0.0909 - val_recall: 0.2083 - val_auc: 0.4674 - val_prc: 0.1030\n",
      "Epoch 14/80\n",
      "147/147 [==============================] - 1s 7ms/step - loss: 2.8196 - tp: 39.0000 - fp: 252.0000 - tn: 274.0000 - fn: 20.0000 - accuracy: 0.5350 - precision: 0.1340 - recall: 0.6610 - auc: 0.6370 - prc: 0.1808 - val_loss: 0.9729 - val_tp: 17.0000 - val_fp: 160.0000 - val_tn: 68.0000 - val_fn: 7.0000 - val_accuracy: 0.3373 - val_precision: 0.0960 - val_recall: 0.7083 - val_auc: 0.4622 - val_prc: 0.1341\n",
      "Epoch 15/80\n",
      "147/147 [==============================] - 1s 8ms/step - loss: 1.6121 - tp: 35.0000 - fp: 197.0000 - tn: 329.0000 - fn: 24.0000 - accuracy: 0.6222 - precision: 0.1509 - recall: 0.5932 - auc: 0.6856 - prc: 0.2380 - val_loss: 1.0756 - val_tp: 7.0000 - val_fp: 72.0000 - val_tn: 156.0000 - val_fn: 17.0000 - val_accuracy: 0.6468 - val_precision: 0.0886 - val_recall: 0.2917 - val_auc: 0.4648 - val_prc: 0.0948\n",
      "Epoch 16/80\n",
      "147/147 [==============================] - 1s 8ms/step - loss: 2.3116 - tp: 35.0000 - fp: 157.0000 - tn: 369.0000 - fn: 24.0000 - accuracy: 0.6906 - precision: 0.1823 - recall: 0.5932 - auc: 0.7004 - prc: 0.2362 - val_loss: 1.4236 - val_tp: 18.0000 - val_fp: 161.0000 - val_tn: 67.0000 - val_fn: 6.0000 - val_accuracy: 0.3373 - val_precision: 0.1006 - val_recall: 0.7500 - val_auc: 0.5558 - val_prc: 0.1298\n",
      "Epoch 17/80\n",
      "147/147 [==============================] - 1s 8ms/step - loss: 2.7201 - tp: 40.0000 - fp: 258.0000 - tn: 268.0000 - fn: 19.0000 - accuracy: 0.5265 - precision: 0.1342 - recall: 0.6780 - auc: 0.6830 - prc: 0.2385 - val_loss: 1.0589 - val_tp: 10.0000 - val_fp: 104.0000 - val_tn: 124.0000 - val_fn: 14.0000 - val_accuracy: 0.5317 - val_precision: 0.0877 - val_recall: 0.4167 - val_auc: 0.5597 - val_prc: 0.1427\n",
      "Epoch 18/80\n",
      "147/147 [==============================] - 1s 8ms/step - loss: 1.2795 - tp: 43.0000 - fp: 201.0000 - tn: 325.0000 - fn: 16.0000 - accuracy: 0.6291 - precision: 0.1762 - recall: 0.7288 - auc: 0.7815 - prc: 0.3777 - val_loss: 1.2331 - val_tp: 12.0000 - val_fp: 111.0000 - val_tn: 117.0000 - val_fn: 12.0000 - val_accuracy: 0.5119 - val_precision: 0.0976 - val_recall: 0.5000 - val_auc: 0.5211 - val_prc: 0.1226\n",
      "Epoch 19/80\n",
      "147/147 [==============================] - 1s 8ms/step - loss: 1.7505 - tp: 44.0000 - fp: 157.0000 - tn: 369.0000 - fn: 15.0000 - accuracy: 0.7060 - precision: 0.2189 - recall: 0.7458 - auc: 0.7685 - prc: 0.3211 - val_loss: 2.3703 - val_tp: 8.0000 - val_fp: 70.0000 - val_tn: 158.0000 - val_fn: 16.0000 - val_accuracy: 0.6587 - val_precision: 0.1026 - val_recall: 0.3333 - val_auc: 0.5792 - val_prc: 0.1301\n",
      "Epoch 20/80\n",
      "147/147 [==============================] - 1s 8ms/step - loss: 1.8902 - tp: 39.0000 - fp: 154.0000 - tn: 372.0000 - fn: 20.0000 - accuracy: 0.7026 - precision: 0.2021 - recall: 0.6610 - auc: 0.7455 - prc: 0.2891 - val_loss: 1.5280 - val_tp: 12.0000 - val_fp: 110.0000 - val_tn: 118.0000 - val_fn: 12.0000 - val_accuracy: 0.5159 - val_precision: 0.0984 - val_recall: 0.5000 - val_auc: 0.5238 - val_prc: 0.1167\n",
      "Epoch 21/80\n",
      "147/147 [==============================] - 1s 7ms/step - loss: 1.6744 - tp: 39.0000 - fp: 203.0000 - tn: 323.0000 - fn: 20.0000 - accuracy: 0.6188 - precision: 0.1612 - recall: 0.6610 - auc: 0.7303 - prc: 0.3240 - val_loss: 1.5889 - val_tp: 5.0000 - val_fp: 46.0000 - val_tn: 182.0000 - val_fn: 19.0000 - val_accuracy: 0.7421 - val_precision: 0.0980 - val_recall: 0.2083 - val_auc: 0.5079 - val_prc: 0.1138\n",
      "Epoch 22/80\n",
      "147/147 [==============================] - 1s 8ms/step - loss: 1.3911 - tp: 38.0000 - fp: 106.0000 - tn: 420.0000 - fn: 21.0000 - accuracy: 0.7829 - precision: 0.2639 - recall: 0.6441 - auc: 0.7969 - prc: 0.3481 - val_loss: 1.7208 - val_tp: 8.0000 - val_fp: 44.0000 - val_tn: 184.0000 - val_fn: 16.0000 - val_accuracy: 0.7619 - val_precision: 0.1538 - val_recall: 0.3333 - val_auc: 0.5405 - val_prc: 0.1208\n",
      "Epoch 23/80\n",
      "147/147 [==============================] - 1s 8ms/step - loss: 1.7079 - tp: 36.0000 - fp: 129.0000 - tn: 397.0000 - fn: 23.0000 - accuracy: 0.7402 - precision: 0.2182 - recall: 0.6102 - auc: 0.7700 - prc: 0.3632 - val_loss: 1.7152 - val_tp: 16.0000 - val_fp: 161.0000 - val_tn: 67.0000 - val_fn: 8.0000 - val_accuracy: 0.3294 - val_precision: 0.0904 - val_recall: 0.6667 - val_auc: 0.5387 - val_prc: 0.1199\n"
     ]
    }
   ],
   "source": [
    "bestHP = tuner_bayes.get_best_hyperparameters(num_trials=1)[0]\n",
    "\n",
    "model_clinical = tuner_bayes.hypermodel.build(bestHP)\n",
    "\n",
    "history = model_clinical.fit(X_train_clinical,\n",
    "              y_train_clinical,\n",
    "              batch_size= BATCH_SIZE,\n",
    "              validation_data = (X_test_clinical, y_test_clinical), \n",
    "              class_weight =class_weights,\n",
    "              callbacks=[early_stop],\n",
    "              verbose = 1,\n",
    "              epochs=80)"
   ]
  },
  {
   "cell_type": "markdown",
   "id": "c8139428",
   "metadata": {
    "id": "c8139428"
   },
   "source": [
    "# Model Evaluation"
   ]
  },
  {
   "cell_type": "code",
   "execution_count": null,
   "id": "ba8bda2c",
   "metadata": {
    "id": "ba8bda2c"
   },
   "outputs": [],
   "source": [
    "# Save the weights\n",
    "model_clinical.save_weights('./checkpoints/clinical')\n",
    "\n",
    "# Create a new model instance\n",
    "model_clinical = create_model()\n",
    "\n",
    "# Restore the weights\n",
    "model_clinical.load_weights('./checkpoints/clinical')"
   ]
  },
  {
   "cell_type": "code",
   "execution_count": null,
   "id": "f9eb6ea1",
   "metadata": {
    "id": "f9eb6ea1"
   },
   "outputs": [],
   "source": [
    "# Save the weights\n",
    "model_image.save_weights('./checkpoints/clinical')\n",
    "\n",
    "# Create a new model instance\n",
    "model_image= create_model()\n",
    "\n",
    "# Restore the weights\n",
    "model_image.load_weights('./checkpoints/clinical')"
   ]
  },
  {
   "cell_type": "code",
   "execution_count": null,
   "id": "6389fce6",
   "metadata": {
    "id": "6389fce6"
   },
   "outputs": [],
   "source": [
    "def plot_metrics(history, list_of_metrics):\n",
    "    \n",
    "    rows = int(np.ceil(len(list_of_metrics)/2))\n",
    "    columns = 2\n",
    "    \n",
    "    fig, ax = plt.subplots(rows, columns, figsize=(20, 10))\n",
    "    ax = ax.ravel()\n",
    "\n",
    "    for i, metric in enumerate(list_of_metrics):\n",
    "        ax[i].plot(history.history[metric])\n",
    "        ax[i].plot(history.history[\"val_\" + metric])\n",
    "        ax[i].set_title(\"Model {}\".format(metric))\n",
    "        ax[i].set_xlabel(\"epochs\")\n",
    "        ax[i].set_ylabel(metric)\n",
    "        ax[i].legend([\"train\", \"val\"])"
   ]
  },
  {
   "cell_type": "code",
   "execution_count": null,
   "id": "b7b261a9",
   "metadata": {
    "colab": {
     "base_uri": "https://localhost:8080/",
     "height": 621
    },
    "id": "b7b261a9",
    "outputId": "7811135f-5aa2-460b-abd0-274d7605fe65"
   },
   "outputs": [
    {
     "data": {
      "image/png": "[encoded data removed]",
      "text/plain": [
       "<Figure size 1440x720 with 4 Axes>"
      ]
     },
     "metadata": {
      "needs_background": "light"
     },
     "output_type": "display_data"
    }
   ],
   "source": [
    "plot_metrics(image_history, [\"accuracy\", \"loss\", \"auc\"])"
   ]
  },
  {
   "cell_type": "code",
   "execution_count": null,
   "id": "75a4f127",
   "metadata": {
    "colab": {
     "base_uri": "https://localhost:8080/",
     "height": 621
    },
    "id": "75a4f127",
    "outputId": "4d91b955-1a59-4165-fde2-47f8b975c158"
   },
   "outputs": [
    {
     "data": {
      "image/png": "[encoded data removed]",
      "text/plain": [
       "<Figure size 1440x720 with 4 Axes>"
      ]
     },
     "metadata": {
      "needs_background": "light"
     },
     "output_type": "display_data"
    }
   ],
   "source": [
    "plot_metrics(history, [\"accuracy\", \"loss\", \"auc\"])"
   ]
  },
  {
   "cell_type": "code",
   "execution_count": null,
   "id": "d5e5cff9",
   "metadata": {
    "id": "d5e5cff9"
   },
   "outputs": [],
   "source": [
    "def plot_cm(labels, predictions, p=0.5):\n",
    "    \n",
    "    cm = confusion_matrix(labels, predictions > p)\n",
    "    plt.figure(figsize=(5,5))\n",
    "    sns.heatmap(cm, annot=True, fmt=\"d\")\n",
    "    plt.title('Confusion matrix')\n",
    "    plt.ylabel('Actual label')\n",
    "    plt.xlabel('Predicted label')\n",
    "    "
   ]
  },
  {
   "cell_type": "code",
   "execution_count": null,
   "id": "34420fff",
   "metadata": {
    "colab": {
     "base_uri": "https://localhost:8080/",
     "height": 350
    },
    "id": "34420fff",
    "outputId": "c871b175-f042-428b-a464-454cbb39a460"
   },
   "outputs": [
    {
     "data": {
      "image/png": "[encoded data removed]",
      "text/plain": [
       "<Figure size 360x360 with 2 Axes>"
      ]
     },
     "metadata": {
      "needs_background": "light"
     },
     "output_type": "display_data"
    }
   ],
   "source": [
    "test_predictions_baseline = model_image.predict(validation_dataset, batch_size=BATCH_SIZE)\n",
    "plot_cm(y_test_image, test_predictions_baseline)"
   ]
  },
  {
   "cell_type": "code",
   "execution_count": null,
   "id": "3903257b",
   "metadata": {
    "colab": {
     "base_uri": "https://localhost:8080/",
     "height": 350
    },
    "id": "3903257b",
    "outputId": "f8d1d371-443a-4eb4-c634-02561eddfca1"
   },
   "outputs": [
    {
     "data": {
      "image/png": "[encoded data removed]",
      "text/plain": [
       "<Figure size 360x360 with 2 Axes>"
      ]
     },
     "metadata": {
      "needs_background": "light"
     },
     "output_type": "display_data"
    }
   ],
   "source": [
    "def plot_cm(labels, predictions, p=0.5):\n",
    "    \n",
    "    cm = confusion_matrix(labels, predictions > p)\n",
    "    plt.figure(figsize=(5,5))\n",
    "    sns.heatmap(cm, annot=True, fmt=\"d\")\n",
    "    plt.title('Confusion matrix')\n",
    "    plt.ylabel('Actual label')\n",
    "    plt.xlabel('Predicted label')\n",
    "    \n",
    "test_predictions_baseline = model_clinical.predict(X_test_clinical, batch_size=BATCH_SIZE)\n",
    "plot_cm(y_test_clinical, test_predictions_baseline)"
   ]
  },
  {
   "cell_type": "code",
   "execution_count": null,
   "id": "d020f15a",
   "metadata": {
    "id": "d020f15a"
   },
   "outputs": [],
   "source": [
    "def plot_roc(name, labels, predictions, **kwargs):\n",
    "      \n",
    "    fp, tp, _ = roc_curve(labels, predictions)\n",
    "\n",
    "    plt.plot(100*fp, 100*tp, label=name, linewidth=2, **kwargs)\n",
    "    plt.xlabel('False positives [%]')\n",
    "    plt.ylabel('True positives [%]')\n",
    "    ax = plt.gca()\n",
    "    ax.set_aspect('equal')"
   ]
  },
  {
   "cell_type": "code",
   "execution_count": null,
   "id": "d4b98dd4",
   "metadata": {
    "colab": {
     "base_uri": "https://localhost:8080/",
     "height": 296
    },
    "id": "d4b98dd4",
    "outputId": "65d62d73-34e0-457a-895c-b5558fdbf355"
   },
   "outputs": [
    {
     "data": {
      "text/plain": [
       "<matplotlib.legend.Legend at 0x7f9d25764550>"
      ]
     },
     "execution_count": 124,
     "metadata": {},
     "output_type": "execute_result"
    },
    {
     "data": {
      "image/png": "[encoded data removed]",
      "text/plain": [
       "<Figure size 432x288 with 1 Axes>"
      ]
     },
     "metadata": {
      "needs_background": "light"
     },
     "output_type": "display_data"
    }
   ],
   "source": [
    "train_predictions_baseline = model_image.predict(train_dataset, batch_size=BATCH_SIZE)\n",
    "test_predictions_baseline = model_image.predict(validation_dataset, batch_size=BATCH_SIZE)\n",
    "\n",
    "plot_roc(\"Train Baseline\", y_train_image, train_predictions_baseline)\n",
    "plot_roc(\"Test Baseline\", y_test_image, test_predictions_baseline, linestyle='--')\n",
    "plt.legend(loc='lower right')"
   ]
  },
  {
   "cell_type": "code",
   "execution_count": null,
   "id": "126d6f2e",
   "metadata": {
    "colab": {
     "base_uri": "https://localhost:8080/",
     "height": 296
    },
    "id": "126d6f2e",
    "outputId": "a11caaca-8ece-4655-f6db-f1acaf776835"
   },
   "outputs": [
    {
     "data": {
      "text/plain": [
       "<matplotlib.legend.Legend at 0x7f9d2553cc10>"
      ]
     },
     "execution_count": 125,
     "metadata": {},
     "output_type": "execute_result"
    },
    {
     "data": {
      "image/png": "[encoded data removed]",
      "text/plain": [
       "<Figure size 432x288 with 1 Axes>"
      ]
     },
     "metadata": {
      "needs_background": "light"
     },
     "output_type": "display_data"
    }
   ],
   "source": [
    "train_predictions_baseline = model_clinical.predict(X_train_clinical, batch_size=BATCH_SIZE)\n",
    "test_predictions_baseline = model_clinical.predict(X_test_clinical, batch_size=BATCH_SIZE)\n",
    "\n",
    "plot_roc(\"Train Baseline\", y_train_clinical, train_predictions_baseline)\n",
    "plot_roc(\"Test Baseline\", y_test_clinical, test_predictions_baseline, linestyle='--')\n",
    "plt.legend(loc='lower right')"
   ]
  },
  {
   "cell_type": "code",
   "execution_count": null,
   "id": "1e586ada",
   "metadata": {
    "colab": {
     "base_uri": "https://localhost:8080/"
    },
    "id": "1e586ada",
    "outputId": "a768ab2f-abde-4a43-f0f8-26e1dd3e8e6e"
   },
   "outputs": [
    {
     "name": "stdout",
     "output_type": "stream",
     "text": [
      "loss :  0.6222262978553772\n",
      "tp :  9.0\n",
      "fp :  69.0\n",
      "tn :  159.0\n",
      "fn :  15.0\n",
      "accuracy :  0.6666666865348816\n",
      "precision :  0.11538461595773697\n",
      "recall :  0.375\n",
      "auc :  0.5413011312484741\n",
      "prc :  0.10982160270214081\n"
     ]
    }
   ],
   "source": [
    "baseline_results = model_image.evaluate(validation_dataset,batch_size=BATCH_SIZE, verbose=0)\n",
    "for name, value in zip(model_image.metrics_names, baseline_results):\n",
    "    print(name, ': ', value)"
   ]
  },
  {
   "cell_type": "code",
   "execution_count": null,
   "id": "1dfd4171",
   "metadata": {
    "colab": {
     "base_uri": "https://localhost:8080/"
    },
    "id": "1dfd4171",
    "outputId": "b8dfb017-2863-4208-bc23-54db8f3562bc"
   },
   "outputs": [
    {
     "name": "stdout",
     "output_type": "stream",
     "text": [
      "loss :  1.775846242904663\n",
      "tp :  8.0\n",
      "fp :  56.0\n",
      "tn :  172.0\n",
      "fn :  16.0\n",
      "accuracy :  0.7142857313156128\n",
      "precision :  0.125\n",
      "recall :  0.3333333432674408\n",
      "auc :  0.5401133298873901\n",
      "prc :  0.12980154156684875\n"
     ]
    }
   ],
   "source": [
    "baseline_results = model_clinical.evaluate(X_test_clinical, y_test_clinical,\n",
    "                                  batch_size=BATCH_SIZE, verbose=0)\n",
    "for name, value in zip(model_clinical.metrics_names, baseline_results):\n",
    "    print(name, ': ', value)"
   ]
  },
  {
   "cell_type": "markdown",
   "id": "a460158c",
   "metadata": {
    "id": "a460158c"
   },
   "source": [
    "# Joint Fusion"
   ]
  },
  {
   "cell_type": "code",
   "execution_count": null,
   "id": "765cf1f8",
   "metadata": {
    "colab": {
     "base_uri": "https://localhost:8080/"
    },
    "id": "765cf1f8",
    "outputId": "63d2d1e7-9a0a-44fc-f163-226618db450e"
   },
   "outputs": [
    {
     "name": "stdout",
     "output_type": "stream",
     "text": [
      "Actual : 0\n",
      "This model is 100.00 percent confident that this patient will have no recurrence\n",
      "This model is 0.00 percent confident that this patient will have recurrence\n"
     ]
    }
   ],
   "source": [
    "#model.load_weights(\"clinical_classification.h5\")\n",
    "\n",
    "prediction = model_clinical.predict(np.expand_dims(X_test_clinical[0], axis=0))[0]\n",
    "print(\"Actual :\", y_test_clinical[0])\n",
    "scores = [1 - prediction[0], prediction[0]]\n",
    "\n",
    "class_names = [\"no recurrence\", \"recurrence\"]\n",
    "for score, name in zip(scores, class_names):\n",
    "    print(\n",
    "        \"This model is %.2f percent confident that this patient will have %s\"\n",
    "        % ((100 * score), name)\n",
    "    )"
   ]
  },
  {
   "cell_type": "code",
   "execution_count": null,
   "id": "8bb790c7",
   "metadata": {
    "colab": {
     "base_uri": "https://localhost:8080/",
     "height": 316
    },
    "id": "8bb790c7",
    "outputId": "e262d17e-f0b9-4c52-fe4d-55eb7f1f5226"
   },
   "outputs": [
    {
     "name": "stdout",
     "output_type": "stream",
     "text": [
      "this image is 56.34 confident of no recurrence\n",
      "this image is 43.66 confident of recurrence\n"
     ]
    },
    {
     "data": {
      "image/png": "[encoded data removed]",
      "text/plain": [
       "<Figure size 432x288 with 1 Axes>"
      ]
     },
     "metadata": {
      "needs_background": "light"
     },
     "output_type": "display_data"
    }
   ],
   "source": [
    "class_names = [\"no recurrence\", \"recurrence\"]\n",
    "for image , label in validation_dataset.take(1):\n",
    "    image = image.numpy()\n",
    "    label = label.numpy()\n",
    "    image = image[0]\n",
    "    plt.imshow(image.squeeze())\n",
    "    plt.title(str(label[0]))\n",
    "    \n",
    "prediction = model_image.predict(validation_dataset.take(1))[0]\n",
    "scores = [1-prediction, prediction]\n",
    "\n",
    "for score, name in zip(scores, class_names):\n",
    "    print(\"this image is %.2f confident of %s\" % ((100*score), name))"
   ]
  },
  {
   "cell_type": "code",
   "execution_count": null,
   "id": "a888ad60",
   "metadata": {
    "id": "a888ad60",
    "outputId": "a5bce326-1289-4ce3-b8b0-15838fe0d44a"
   },
   "outputs": [
    {
     "name": "stdout",
     "output_type": "stream",
     "text": [
      "252\n",
      "Counter({0: 228, 1: 24})\n"
     ]
    }
   ],
   "source": [
    "print(len(y_test_clinical))\n",
    "print(collections.Counter(y_test_clinical) )"
   ]
  },
  {
   "cell_type": "code",
   "execution_count": null,
   "id": "da066259",
   "metadata": {
    "colab": {
     "base_uri": "https://localhost:8080/"
    },
    "id": "da066259",
    "outputId": "3b174491-de30-4fb6-973c-6342a7b22daa"
   },
   "outputs": [
    {
     "name": "stdout",
     "output_type": "stream",
     "text": [
      "Actual : 0 0.0\n",
      "[0.24254654] [3.6348197e-08]\n",
      "[0.12127329]\n",
      "Actual : 0 0.0\n",
      "[0.24254654] [0.02361567]\n",
      "[0.13308111]\n",
      "Actual : 0 0.0\n",
      "[0.24254654] [3.147541e-08]\n",
      "[0.12127329]\n",
      "Actual : 0 0.0\n",
      "[0.24254654] [0.99993896]\n",
      "[0.62124276]\n",
      "Actual : 0 0.0\n",
      "[0.24254654] [0.00810526]\n",
      "[0.1253259]\n",
      "Actual : 0 0.0\n",
      "[0.24254654] [3.8017435e-13]\n",
      "[0.12127327]\n",
      "Actual : 0 0.0\n",
      "[0.24254654] [9.538326e-05]\n",
      "[0.12132096]\n",
      "Actual : 0 0.0\n",
      "[0.24254654] [0.8457387]\n",
      "[0.5441426]\n",
      "Actual : 0 0.0\n",
      "[0.24254654] [0.5760571]\n",
      "[0.40930182]\n",
      "Actual : 0 0.0\n",
      "[0.24254654] [0.00487739]\n",
      "[0.12371197]\n",
      "Actual : 1 1.0\n",
      "[0.24254654] [0.00852872]\n",
      "[0.12553763]\n",
      "Actual : 0 0.0\n",
      "[0.24254654] [6.0157645e-06]\n",
      "[0.12127628]\n",
      "Actual : 0 0.0\n",
      "[0.24254654] [2.0722055e-06]\n",
      "[0.12127431]\n",
      "Actual : 0 0.0\n",
      "[0.24254654] [1.0222487e-06]\n",
      "[0.12127379]\n",
      "Actual : 0 0.0\n",
      "[0.24254654] [3.3670273e-07]\n",
      "[0.12127344]\n",
      "Actual : 0 0.0\n",
      "[0.24254654] [1.3196464e-13]\n",
      "[0.12127327]\n",
      "Actual : 0 0.0\n",
      "[0.24254654] [0.9985996]\n",
      "[0.62057304]\n",
      "Actual : 0 0.0\n",
      "[0.24254654] [0.02131758]\n",
      "[0.13193206]\n",
      "Actual : 0 0.0\n",
      "[0.24254654] [0.01625584]\n",
      "[0.12940119]\n",
      "Actual : 0 0.0\n",
      "[0.24254654] [0.31044605]\n",
      "[0.2764963]\n",
      "Actual : 0 0.0\n",
      "[0.24254654] [0.00496277]\n",
      "[0.12375466]\n",
      "Actual : 0 0.0\n",
      "[0.24254654] [0.0044775]\n",
      "[0.12351202]\n",
      "Actual : 0 0.0\n",
      "[0.24254654] [2.0242358e-06]\n",
      "[0.12127429]\n",
      "Actual : 0 0.0\n",
      "[0.24254654] [9.739706e-05]\n",
      "[0.12132197]\n",
      "Actual : 0 0.0\n",
      "[0.24254654] [5.2192263e-05]\n",
      "[0.12129937]\n",
      "Actual : 1 1.0\n",
      "[0.24254654] [0.9727017]\n",
      "[0.6076241]\n",
      "Actual : 0 0.0\n",
      "[0.24254654] [0.2715168]\n",
      "[0.25703168]\n",
      "Actual : 1 1.0\n",
      "[0.24254654] [0.999171]\n",
      "[0.6208588]\n",
      "Actual : 0 0.0\n",
      "[0.24254654] [0.00012057]\n",
      "[0.12133355]\n",
      "Actual : 0 0.0\n",
      "[0.24254654] [0.59099007]\n",
      "[0.4167683]\n",
      "Actual : 0 0.0\n",
      "[0.24254654] [0.98723]\n",
      "[0.61488825]\n",
      "Actual : 0 0.0\n",
      "[0.24254654] [0.00013449]\n",
      "[0.12134051]\n",
      "Actual : 0 0.0\n",
      "[0.24254654] [0.8785117]\n",
      "[0.5605291]\n",
      "Actual : 0 0.0\n",
      "[0.24254654] [9.542156e-07]\n",
      "[0.12127375]\n",
      "Actual : 0 0.0\n",
      "[0.24254654] [1.2989705e-07]\n",
      "[0.12127334]\n",
      "Actual : 0 0.0\n",
      "[0.24254654] [0.086344]\n",
      "[0.16444527]\n",
      "Actual : 0 0.0\n",
      "[0.24254654] [0.10687176]\n",
      "[0.17470916]\n",
      "Actual : 0 0.0\n",
      "[0.24254654] [0.8961838]\n",
      "[0.56936514]\n",
      "Actual : 0 0.0\n",
      "[0.24254654] [0.00404818]\n",
      "[0.12329736]\n",
      "Actual : 0 0.0\n",
      "[0.24254654] [0.5518712]\n",
      "[0.39720887]\n",
      "Actual : 0 0.0\n",
      "[0.24254654] [0.0221389]\n",
      "[0.13234273]\n",
      "Actual : 0 0.0\n",
      "[0.24254654] [1.0422941e-05]\n",
      "[0.12127848]\n",
      "Actual : 0 0.0\n",
      "[0.24254654] [3.0626077e-22]\n",
      "[0.12127327]\n",
      "Actual : 0 0.0\n",
      "[0.24254654] [0.00776889]\n",
      "[0.12515771]\n",
      "Actual : 0 0.0\n",
      "[0.24254654] [1.5870278e-18]\n",
      "[0.12127327]\n",
      "Actual : 0 0.0\n",
      "[0.24254654] [0.23029046]\n",
      "[0.2364185]\n",
      "Actual : 0 0.0\n",
      "[0.24254654] [0.25346315]\n",
      "[0.24800485]\n",
      "Actual : 0 0.0\n",
      "[0.24254654] [0.69344896]\n",
      "[0.46799776]\n",
      "Actual : 0 0.0\n",
      "[0.24254654] [4.688329e-06]\n",
      "[0.12127562]\n",
      "Actual : 0 0.0\n",
      "[0.24254654] [0.00112379]\n",
      "[0.12183516]\n",
      "Actual : 0 0.0\n",
      "[0.24254654] [0.42530993]\n",
      "[0.33392823]\n",
      "Actual : 0 0.0\n",
      "[0.24254654] [0.00022153]\n",
      "[0.12138403]\n",
      "Actual : 0 0.0\n",
      "[0.24254654] [0.0024626]\n",
      "[0.12250457]\n",
      "Actual : 1 1.0\n",
      "[0.24254654] [0.0004864]\n",
      "[0.12151647]\n",
      "Actual : 0 0.0\n",
      "[0.24254654] [2.4811172e-05]\n",
      "[0.12128568]\n",
      "Actual : 0 0.0\n",
      "[0.24254654] [0.52006453]\n",
      "[0.38130555]\n",
      "Actual : 0 0.0\n",
      "[0.24254654] [0.9834167]\n",
      "[0.6129816]\n",
      "Actual : 0 0.0\n",
      "[0.24254654] [0.00873727]\n",
      "[0.12564191]\n",
      "Actual : 0 0.0\n",
      "[0.24254654] [0.99653035]\n",
      "[0.6195384]\n",
      "Actual : 0 0.0\n",
      "[0.24254654] [0.00013146]\n",
      "[0.121339]\n",
      "Actual : 1 1.0\n",
      "[0.24254654] [0.9262437]\n",
      "[0.5843951]\n",
      "Actual : 0 0.0\n",
      "[0.24254654] [0.8318056]\n",
      "[0.5371761]\n",
      "Actual : 0 0.0\n",
      "[0.24254654] [0.01289844]\n",
      "[0.12772249]\n",
      "Actual : 0 0.0\n",
      "[0.24254654] [0.08111342]\n",
      "[0.16182998]\n",
      "Actual : 0 0.0\n",
      "[0.24254654] [2.9108003e-15]\n",
      "[0.12127327]\n",
      "Actual : 0 0.0\n",
      "[0.24254654] [0.01154664]\n",
      "[0.1270466]\n",
      "Actual : 0 0.0\n",
      "[0.24254654] [0.8941228]\n",
      "[0.56833464]\n",
      "Actual : 0 0.0\n",
      "[0.24254654] [5.1648293e-08]\n",
      "[0.12127329]\n",
      "Actual : 0 0.0\n",
      "[0.24254654] [0.015396]\n",
      "[0.12897126]\n",
      "Actual : 0 0.0\n",
      "[0.24254654] [0.01497486]\n",
      "[0.12876071]\n",
      "Actual : 0 0.0\n",
      "[0.24254654] [0.8001955]\n",
      "[0.521371]\n",
      "Actual : 0 0.0\n",
      "[0.24254654] [0.84461117]\n",
      "[0.54357886]\n",
      "Actual : 0 0.0\n",
      "[0.24254654] [0.6346164]\n",
      "[0.43858147]\n",
      "Actual : 0 0.0\n",
      "[0.24254654] [8.556849e-08]\n",
      "[0.12127332]\n",
      "Actual : 0 0.0\n",
      "[0.24254654] [0.00127165]\n",
      "[0.1219091]\n",
      "Actual : 0 0.0\n",
      "[0.24254654] [3.7895573e-10]\n",
      "[0.12127327]\n",
      "Actual : 0 0.0\n",
      "[0.24254654] [0.00040421]\n",
      "[0.12147538]\n",
      "Actual : 1 1.0\n",
      "[0.24254654] [0.01257601]\n",
      "[0.12756127]\n",
      "Actual : 0 0.0\n",
      "[0.24254654] [0.00859211]\n",
      "[0.12556933]\n",
      "Actual : 0 0.0\n",
      "[0.24254654] [5.341715e-11]\n",
      "[0.12127327]\n",
      "Actual : 0 0.0\n",
      "[0.24254654] [0.995387]\n",
      "[0.61896676]\n",
      "Actual : 0 0.0\n",
      "[0.24254654] [0.9763387]\n",
      "[0.6094426]\n",
      "Actual : 0 0.0\n",
      "[0.24254654] [0.5439481]\n",
      "[0.39324734]\n",
      "Actual : 0 0.0\n",
      "[0.24254654] [0.51843023]\n",
      "[0.3804884]\n",
      "Actual : 1 1.0\n",
      "[0.24254654] [0.98358756]\n",
      "[0.61306703]\n",
      "Actual : 0 0.0\n",
      "[0.24254654] [0.003504]\n",
      "[0.12302528]\n",
      "Actual : 0 0.0\n",
      "[0.24254654] [8.8489424e-11]\n",
      "[0.12127327]\n",
      "Actual : 1 1.0\n",
      "[0.24254654] [7.896607e-22]\n",
      "[0.12127327]\n",
      "Actual : 0 0.0\n",
      "[0.24254654] [3.518133e-08]\n",
      "[0.12127329]\n",
      "Actual : 0 0.0\n",
      "[0.24254654] [0.5115649]\n",
      "[0.37705573]\n",
      "Actual : 0 0.0\n",
      "[0.24254654] [2.4613933e-35]\n",
      "[0.12127327]\n",
      "Actual : 0 0.0\n",
      "[0.24254654] [1.9097174e-08]\n",
      "[0.12127328]\n",
      "Actual : 0 0.0\n",
      "[0.24254654] [2.7442354e-11]\n",
      "[0.12127327]\n",
      "Actual : 0 0.0\n",
      "[0.24254654] [2.191452e-05]\n",
      "[0.12128423]\n",
      "Actual : 0 0.0\n",
      "[0.24254654] [1.7548002e-06]\n",
      "[0.12127415]\n",
      "Actual : 0 0.0\n",
      "[0.24254654] [0.00083949]\n",
      "[0.12169302]\n",
      "Actual : 0 0.0\n",
      "[0.24254654] [6.9141106e-09]\n",
      "[0.12127327]\n",
      "Actual : 0 0.0\n",
      "[0.24254654] [1.5968973e-06]\n",
      "[0.12127407]\n",
      "Actual : 0 0.0\n",
      "[0.24254654] [0.5087903]\n",
      "[0.37566844]\n",
      "Actual : 0 0.0\n",
      "[0.24254654] [0.98594785]\n",
      "[0.6142472]\n",
      "Actual : 0 0.0\n",
      "[0.24254654] [0.00749507]\n",
      "[0.1250208]\n",
      "Actual : 0 0.0\n",
      "[0.24254654] [4.2210408e-13]\n",
      "[0.12127327]\n",
      "Actual : 1 1.0\n",
      "[0.24254654] [0.93386847]\n",
      "[0.5882075]\n",
      "Actual : 0 0.0\n",
      "[0.24254654] [0.00204581]\n",
      "[0.12229618]\n",
      "Actual : 0 0.0\n",
      "[0.24254654] [0.08659802]\n",
      "[0.16457228]\n",
      "Actual : 0 0.0\n",
      "[0.24254654] [1.2543679e-14]\n",
      "[0.12127327]\n",
      "Actual : 0 0.0\n",
      "[0.24254654] [0.647615]\n",
      "[0.4450808]\n",
      "Actual : 0 0.0\n",
      "[0.24254654] [6.15961e-06]\n",
      "[0.12127635]\n",
      "Actual : 0 0.0\n",
      "[0.24254654] [3.0284787e-05]\n",
      "[0.12128841]\n",
      "Actual : 0 0.0\n",
      "[0.24254654] [0.00016342]\n",
      "[0.12135498]\n",
      "Actual : 0 0.0\n",
      "[0.24254654] [8.653486e-16]\n",
      "[0.12127327]\n",
      "Actual : 0 0.0\n",
      "[0.24254654] [1.3297711e-06]\n",
      "[0.12127393]\n",
      "Actual : 0 0.0\n",
      "[0.24254654] [0.5096264]\n",
      "[0.37608647]\n",
      "Actual : 0 0.0\n",
      "[0.24254654] [0.9180183]\n",
      "[0.5802824]\n",
      "Actual : 0 0.0\n",
      "[0.24254654] [0.9601265]\n",
      "[0.60133654]\n",
      "Actual : 0 0.0\n",
      "[0.24254654] [9.804952e-13]\n",
      "[0.12127327]\n",
      "Actual : 0 0.0\n",
      "[0.24254654] [1.1311818e-05]\n",
      "[0.12127893]\n",
      "Actual : 0 0.0\n",
      "[0.24254654] [0.6724779]\n",
      "[0.45751223]\n",
      "Actual : 0 0.0\n",
      "[0.24254654] [0.00013531]\n",
      "[0.12134092]\n",
      "Actual : 0 0.0\n",
      "[0.24254654] [0.00063335]\n",
      "[0.12158995]\n",
      "Actual : 0 0.0\n",
      "[0.24254654] [1.8588194e-06]\n",
      "[0.1212742]\n",
      "Actual : 0 0.0\n",
      "[0.24254654] [1.2423552e-18]\n",
      "[0.12127327]\n",
      "Actual : 1 1.0\n",
      "[0.24254654] [0.9458137]\n",
      "[0.5941801]\n",
      "Actual : 0 0.0\n",
      "[0.24254654] [8.0248947e-07]\n",
      "[0.12127367]\n",
      "Actual : 0 0.0\n",
      "[0.24254654] [0.00018869]\n",
      "[0.12136762]\n",
      "Actual : 0 0.0\n",
      "[0.24254654] [4.0189436e-05]\n",
      "[0.12129337]\n",
      "Actual : 0 0.0\n",
      "[0.24254654] [2.238737e-08]\n",
      "[0.12127329]\n",
      "Actual : 0 0.0\n",
      "[0.24254654] [0.32622993]\n",
      "[0.28438824]\n",
      "Actual : 0 0.0\n",
      "[0.24254654] [6.1309795e-15]\n",
      "[0.12127327]\n",
      "Actual : 0 0.0\n",
      "[0.24254654] [0.00013285]\n",
      "[0.1213397]\n",
      "Actual : 0 0.0\n",
      "[0.24254654] [0.86017483]\n",
      "[0.55136067]\n",
      "Actual : 0 0.0\n",
      "[0.24254654] [8.150619e-05]\n",
      "[0.12131403]\n",
      "Actual : 0 0.0\n",
      "[0.24254654] [0.00032466]\n",
      "[0.1214356]\n",
      "Actual : 0 0.0\n",
      "[0.24254654] [0.10600236]\n",
      "[0.17427444]\n",
      "Actual : 0 0.0\n",
      "[0.24254654] [6.637067e-07]\n",
      "[0.12127361]\n",
      "Actual : 0 0.0\n",
      "[0.24254654] [0.68913466]\n",
      "[0.4658406]\n",
      "Actual : 1 1.0\n",
      "[0.24254654] [0.52102184]\n",
      "[0.3817842]\n",
      "Actual : 1 1.0\n",
      "[0.24254654] [0.0002237]\n",
      "[0.12138512]\n",
      "Actual : 0 0.0\n",
      "[0.24254654] [6.7771275e-11]\n",
      "[0.12127327]\n",
      "Actual : 0 0.0\n",
      "[0.24254654] [0.5252121]\n",
      "[0.38387933]\n",
      "Actual : 0 0.0\n",
      "[0.24254654] [0.7765123]\n",
      "[0.5095294]\n",
      "Actual : 1 1.0\n",
      "[0.24254654] [3.9150714e-07]\n",
      "[0.12127347]\n",
      "Actual : 0 0.0\n",
      "[0.24254654] [2.0266715e-10]\n",
      "[0.12127327]\n",
      "Actual : 0 0.0\n",
      "[0.24254654] [8.007629e-15]\n",
      "[0.12127327]\n",
      "Actual : 1 1.0\n",
      "[0.24254654] [5.4406586e-32]\n",
      "[0.12127327]\n",
      "Actual : 0 0.0\n",
      "[0.24254654] [3.6133797e-18]\n",
      "[0.12127327]\n",
      "Actual : 0 0.0\n",
      "[0.24254654] [0.51360965]\n",
      "[0.3780781]\n",
      "Actual : 0 0.0\n",
      "[0.24254654] [8.446465e-06]\n",
      "[0.1212775]\n",
      "Actual : 0 0.0\n",
      "[0.24254654] [0.83314353]\n",
      "[0.537845]\n",
      "Actual : 0 0.0\n",
      "[0.24254654] [0.00450369]\n",
      "[0.12352512]\n",
      "Actual : 1 1.0\n",
      "[0.24254654] [1.6664778e-10]\n",
      "[0.12127327]\n",
      "Actual : 0 0.0\n",
      "[0.24254654] [0.80205023]\n",
      "[0.5222984]\n",
      "Actual : 0 0.0\n",
      "[0.24254654] [5.097413e-14]\n",
      "[0.12127327]\n",
      "Actual : 0 0.0\n",
      "[0.24254654] [5.385619e-06]\n",
      "[0.12127596]\n",
      "Actual : 0 0.0\n",
      "[0.24254654] [0.8772484]\n",
      "[0.5598975]\n",
      "Actual : 0 0.0\n",
      "[0.24254654] [2.389061e-05]\n",
      "[0.12128522]\n",
      "Actual : 0 0.0\n",
      "[0.24254654] [0.6327157]\n",
      "[0.43763113]\n",
      "Actual : 0 0.0\n",
      "[0.24254654] [0.6238735]\n",
      "[0.43321002]\n",
      "Actual : 0 0.0\n",
      "[0.24254654] [9.792502e-21]\n",
      "[0.12127327]\n",
      "Actual : 0 0.0\n",
      "[0.24254654] [0.00887264]\n",
      "[0.1257096]\n",
      "Actual : 0 0.0\n",
      "[0.24254654] [0.93585914]\n",
      "[0.5892028]\n",
      "Actual : 0 0.0\n",
      "[0.24254654] [0.00134475]\n",
      "[0.12194565]\n",
      "Actual : 0 0.0\n",
      "[0.24254654] [0.01881921]\n",
      "[0.13068287]\n",
      "Actual : 0 0.0\n",
      "[0.24254654] [0.17218313]\n",
      "[0.20736483]\n",
      "Actual : 1 1.0\n",
      "[0.24254654] [6.2825834e-20]\n",
      "[0.12127327]\n",
      "Actual : 0 0.0\n",
      "[0.24254654] [0.00259982]\n",
      "[0.12257318]\n",
      "Actual : 0 0.0\n",
      "[0.24254654] [0.00088714]\n",
      "[0.12171684]\n",
      "Actual : 0 0.0\n",
      "[0.24254654] [0.78500533]\n",
      "[0.51377594]\n",
      "Actual : 0 0.0\n",
      "[0.24254654] [0.67011225]\n",
      "[0.4563294]\n",
      "Actual : 0 0.0\n",
      "[0.24254654] [0.69635427]\n",
      "[0.4694504]\n",
      "Actual : 0 0.0\n",
      "[0.24254654] [1.4410103e-31]\n",
      "[0.12127327]\n",
      "Actual : 0 0.0\n",
      "[0.24254654] [2.3562774e-05]\n",
      "[0.12128505]\n",
      "Actual : 0 0.0\n",
      "[0.24254654] [9.598702e-05]\n",
      "[0.12132127]\n",
      "Actual : 0 0.0\n",
      "[0.24254654] [2.4249947e-16]\n",
      "[0.12127327]\n",
      "Actual : 0 0.0\n",
      "[0.24254654] [2.1846742e-09]\n",
      "[0.12127327]\n",
      "Actual : 0 0.0\n",
      "[0.24254654] [0.8157465]\n",
      "[0.5291465]\n",
      "Actual : 0 0.0\n",
      "[0.24254654] [5.0096774e-06]\n",
      "[0.12127578]\n",
      "Actual : 0 0.0\n",
      "[0.24254654] [1.3408302e-23]\n",
      "[0.12127327]\n",
      "Actual : 0 0.0\n",
      "[0.24254654] [0.3001507]\n",
      "[0.27134863]\n",
      "Actual : 0 0.0\n",
      "[0.24254654] [7.4323054e-08]\n",
      "[0.12127331]\n",
      "Actual : 0 0.0\n",
      "[0.24254654] [2.0895775e-06]\n",
      "[0.12127431]\n",
      "Actual : 0 0.0\n",
      "[0.24254654] [0.03040303]\n",
      "[0.13647479]\n",
      "Actual : 0 0.0\n",
      "[0.24254654] [0.00082877]\n",
      "[0.12168766]\n",
      "Actual : 0 0.0\n",
      "[0.24254654] [0.00025456]\n",
      "[0.12140055]\n",
      "Actual : 0 0.0\n",
      "[0.24254654] [6.799342e-08]\n",
      "[0.12127331]\n",
      "Actual : 0 0.0\n",
      "[0.24254654] [1.0030937e-17]\n",
      "[0.12127327]\n",
      "Actual : 0 0.0\n",
      "[0.24254654] [0.9663548]\n",
      "[0.60445064]\n",
      "Actual : 0 0.0\n",
      "[0.24254654] [0.00235239]\n",
      "[0.12244947]\n",
      "Actual : 0 0.0\n",
      "[0.24254654] [2.1863067e-05]\n",
      "[0.1212842]\n",
      "Actual : 0 0.0\n",
      "[0.24254654] [5.2698923e-08]\n",
      "[0.1212733]\n",
      "Actual : 0 0.0\n",
      "[0.24254654] [0.00029766]\n",
      "[0.1214221]\n",
      "Actual : 1 1.0\n",
      "[0.24254654] [0.50774145]\n",
      "[0.375144]\n",
      "Actual : 0 0.0\n",
      "[0.24254654] [4.2263324e-07]\n",
      "[0.12127348]\n",
      "Actual : 0 0.0\n",
      "[0.24254654] [2.9154413e-14]\n",
      "[0.12127327]\n",
      "Actual : 0 0.0\n",
      "[0.24254654] [4.4259846e-20]\n",
      "[0.12127327]\n",
      "Actual : 0 0.0\n",
      "[0.24254654] [1.8187134e-11]\n",
      "[0.12127327]\n",
      "Actual : 0 0.0\n",
      "[0.24254654] [0.8166401]\n",
      "[0.5295933]\n",
      "Actual : 0 0.0\n",
      "[0.24254654] [8.348021e-06]\n",
      "[0.12127744]\n",
      "Actual : 1 1.0\n",
      "[0.24254654] [3.663733e-08]\n",
      "[0.12127329]\n",
      "Actual : 0 0.0\n",
      "[0.24254654] [0.7333938]\n",
      "[0.48797017]\n",
      "Actual : 0 0.0\n",
      "[0.24254654] [0.00017659]\n",
      "[0.12136157]\n",
      "Actual : 0 0.0\n",
      "[0.24254654] [0.00013591]\n",
      "[0.12134123]\n",
      "Actual : 0 0.0\n",
      "[0.24254654] [0.00099613]\n",
      "[0.12177134]\n",
      "Actual : 0 0.0\n",
      "[0.24254654] [8.394456e-05]\n",
      "[0.12131524]\n",
      "Actual : 0 0.0\n",
      "[0.24254654] [0.754352]\n",
      "[0.49844927]\n",
      "Actual : 0 0.0\n",
      "[0.24254654] [0.00615551]\n",
      "[0.12435103]\n",
      "Actual : 0 0.0\n",
      "[0.24254654] [0.37188834]\n",
      "[0.30721745]\n",
      "Actual : 0 0.0\n",
      "[0.24254654] [2.910978e-07]\n",
      "[0.12127342]\n",
      "Actual : 0 0.0\n",
      "[0.24254654] [1.4612451e-06]\n",
      "[0.121274]\n",
      "Actual : 0 0.0\n",
      "[0.24254654] [0.00052036]\n",
      "[0.12153345]\n",
      "Actual : 0 0.0\n",
      "[0.24254654] [4.7136307e-08]\n",
      "[0.12127329]\n",
      "Actual : 0 0.0\n",
      "[0.24254654] [0.00167106]\n",
      "[0.1221088]\n",
      "Actual : 0 0.0\n",
      "[0.24254654] [1.7461435e-18]\n",
      "[0.12127327]\n",
      "Actual : 0 0.0\n",
      "[0.24254654] [0.00221202]\n",
      "[0.12237928]\n",
      "Actual : 0 0.0\n",
      "[0.24254654] [0.94761497]\n",
      "[0.59508073]\n",
      "Actual : 0 0.0\n",
      "[0.24254654] [0.9666485]\n",
      "[0.6045975]\n",
      "Actual : 0 0.0\n",
      "[0.24254654] [0.02266254]\n",
      "[0.13260454]\n",
      "Actual : 0 0.0\n",
      "[0.24254654] [1.2522112e-05]\n",
      "[0.12127953]\n",
      "Actual : 1 1.0\n",
      "[0.24254654] [0.00070589]\n",
      "[0.12162622]\n",
      "Actual : 0 0.0\n",
      "[0.24254654] [9.946609e-05]\n",
      "[0.121323]\n",
      "Actual : 0 0.0\n",
      "[0.24254654] [1.8312404e-08]\n",
      "[0.12127328]\n",
      "Actual : 0 0.0\n",
      "[0.24254654] [1.815712e-22]\n",
      "[0.12127327]\n",
      "Actual : 1 1.0\n",
      "[0.24254654] [8.752333e-09]\n",
      "[0.12127328]\n",
      "Actual : 0 0.0\n",
      "[0.24254654] [0.02099682]\n",
      "[0.13177168]\n",
      "Actual : 0 0.0\n",
      "[0.24254654] [0.49510247]\n",
      "[0.3688245]\n",
      "Actual : 0 0.0\n",
      "[0.24254654] [0.4611654]\n",
      "[0.35185596]\n",
      "Actual : 1 1.0\n",
      "[0.24254654] [3.3586387e-06]\n",
      "[0.12127495]\n",
      "Actual : 0 0.0\n",
      "[0.24254654] [3.703281e-08]\n",
      "[0.12127329]\n",
      "Actual : 0 0.0\n",
      "[0.24254654] [0.98346275]\n",
      "[0.6130046]\n",
      "Actual : 0 0.0\n",
      "[0.24254654] [0.03260531]\n",
      "[0.13757592]\n",
      "Actual : 0 0.0\n",
      "[0.24254654] [0.01880694]\n",
      "[0.13067675]\n",
      "Actual : 0 0.0\n",
      "[0.24254654] [0.00012216]\n",
      "[0.12133435]\n",
      "Actual : 0 0.0\n",
      "[0.24254654] [3.6288416e-23]\n",
      "[0.12127327]\n",
      "Actual : 0 0.0\n",
      "[0.24254654] [9.4051194e-07]\n",
      "[0.12127374]\n",
      "Actual : 0 0.0\n",
      "[0.24254654] [1.159441e-22]\n",
      "[0.12127327]\n",
      "Actual : 0 0.0\n",
      "[0.24254654] [1.0543267e-07]\n",
      "[0.12127332]\n",
      "Actual : 0 0.0\n",
      "[0.24254654] [1.4594862e-06]\n",
      "[0.121274]\n",
      "Actual : 0 0.0\n",
      "[0.24254654] [9.2053594e-11]\n",
      "[0.12127327]\n",
      "Actual : 0 0.0\n",
      "[0.24254654] [4.5916836e-14]\n",
      "[0.12127327]\n",
      "Actual : 0 0.0\n",
      "[0.24254654] [0.6912849]\n",
      "[0.46691573]\n",
      "Actual : 1 1.0\n",
      "[0.24254654] [0.00753129]\n",
      "[0.12503892]\n",
      "Actual : 0 0.0\n",
      "[0.24254654] [4.0710237e-11]\n",
      "[0.12127327]\n",
      "Actual : 0 0.0\n",
      "[0.24254654] [1.2115181e-05]\n",
      "[0.12127933]\n",
      "Actual : 1 1.0\n",
      "[0.24254654] [9.841779e-11]\n",
      "[0.12127327]\n",
      "Actual : 0 0.0\n",
      "[0.24254654] [1.2900004e-15]\n",
      "[0.12127327]\n",
      "Actual : 0 0.0\n",
      "[0.24254654] [0.9479419]\n",
      "[0.5952442]\n",
      "Actual : 0 0.0\n",
      "[0.24254654] [0.5609041]\n",
      "[0.40172532]\n",
      "Actual : 0 0.0\n",
      "[0.24254654] [2.0795412e-07]\n",
      "[0.12127338]\n",
      "Actual : 0 0.0\n",
      "[0.24254654] [0.6796982]\n",
      "[0.4611224]\n",
      "Actual : 0 0.0\n",
      "[0.24254654] [1.3846479e-05]\n",
      "[0.12128019]\n",
      "Actual : 1 1.0\n",
      "[0.24254654] [0.00011398]\n",
      "[0.12133026]\n",
      "Actual : 0 0.0\n",
      "[0.24254654] [0.00033033]\n",
      "[0.12143844]\n"
     ]
    }
   ],
   "source": [
    "true_positives = []\n",
    "true_negatives = []\n",
    "false_positives = []\n",
    "false_negatives = []\n",
    "\n",
    "fusion_values = []\n",
    "\n",
    "def process(image):\n",
    "    image = tf.cast(image, tf.float32) /255.\n",
    "    return image\n",
    "#\n",
    "def process_mobilenet(images):\n",
    "    images = tf.expand_dims(images, -1)\n",
    "    images = tf.image.resize(images,[224,224])\n",
    "    images = tf.image.grayscale_to_rgb(images)\n",
    "    images = tf.keras.applications.mobilenet_v2.preprocess_input (images)\n",
    "    return image\n",
    "\n",
    "\n",
    "for index in range(0, len(y_test_clinical)):\n",
    "    prediction_image = model_image.predict(np.expand_dims(process_mobilenet(X_test_image[index]), axis=0))[0]\n",
    "\n",
    "    #prediction_image = model_image.predict(np.expand_dims(process(X_test_image[index]), axis=0))[0]\n",
    "    prediction_clinical = model_clinical.predict(np.expand_dims(X_test_clinical[index], axis = 0))[0]\n",
    "\n",
    "    print(\"Actual :\", y_test_clinical[index], y_test_image[index])\n",
    "    print(prediction_image, prediction_clinical)\n",
    "\n",
    "    fusion = (0.5*prediction_image)+(0.5*prediction_clinical)\n",
    "    fusion_values.append(fusion[0])\n",
    "    print(fusion)\n",
    "\n",
    "    if np.around(fusion) == 1 and y_test_clinical[index] == 1:\n",
    "        true_positives.append(fusion)\n",
    "    elif np.around(fusion) == 1 and y_test_clinical[index] == 0:\n",
    "        false_positives.append(fusion)\n",
    "    elif np.around(fusion) == 0 and y_test_clinical[index] == 0:\n",
    "        true_negatives.append(fusion)\n",
    "    elif np.around(fusion) == 0 and y_test_clinical[index] == 1:\n",
    "        false_negatives.append(fusion)\n",
    "    else:\n",
    "        print(\"error\")   \n",
    "\n"
   ]
  },
  {
   "cell_type": "markdown",
   "id": "34910aba",
   "metadata": {
    "id": "34910aba"
   },
   "source": [
    "# Calculations \n",
    "\n",
    "* Accuracy = correct guesses/ total number of values\n",
    "* Precision = TruePositives / (TruePositives + FalsePositives)\n",
    "* Recall = TruePositives / (TruePositives + FalseNegatives)\n",
    "* F1 Score = 2 * (Precision * Recall) / (Precision + Recall)"
   ]
  },
  {
   "cell_type": "code",
   "execution_count": null,
   "id": "9e59064c",
   "metadata": {
    "colab": {
     "base_uri": "https://localhost:8080/"
    },
    "id": "9e59064c",
    "outputId": "ce0b58fc-a997-4ab4-a3fc-c3d97790905d"
   },
   "outputs": [
    {
     "name": "stdout",
     "output_type": "stream",
     "text": [
      "6\n",
      "197\n",
      "31\n",
      "18\n"
     ]
    }
   ],
   "source": [
    "print(len(true_positives))\n",
    "print(len(true_negatives))\n",
    "print(len(false_positives))\n",
    "print(len(false_negatives))"
   ]
  },
  {
   "cell_type": "code",
   "execution_count": null,
   "id": "85ef2ead",
   "metadata": {
    "colab": {
     "base_uri": "https://localhost:8080/"
    },
    "id": "85ef2ead",
    "outputId": "87a0e2f1-cba6-441f-aa8f-9bdc2591991a"
   },
   "outputs": [
    {
     "name": "stdout",
     "output_type": "stream",
     "text": [
      "accuracy:  0.8055555555555556\n",
      "precision:  0.16216216216216217\n",
      "recall:  0.25\n",
      "f1:  0.19672131147540983\n"
     ]
    }
   ],
   "source": [
    "def metrics(tp, tn, fp, fn):\n",
    "    accuracy = (tp+tn)/(tp +tn +fp +fn)\n",
    "    precision = tp / (tp +fp)\n",
    "    recall = tp / (tp+fn)\n",
    "    f1 = 2* (precision * recall)/ (precision + recall)\n",
    "    print(\"accuracy: \", accuracy)\n",
    "    print(\"precision: \", precision)\n",
    "    print(\"recall: \", recall)\n",
    "    print(\"f1: \", f1)\n",
    "\n",
    "metrics(len(true_positives), len(true_negatives), len(false_positives), len(false_negatives))"
   ]
  }
 ],
 "metadata": {
  "accelerator": "GPU",
  "colab": {
   "collapsed_sections": [],
   "name": "Recurrence joint model- 2D.ipynb",
   "provenance": []
  },
  "gpuClass": "standard",
  "kernelspec": {
   "display_name": "Python 3 (ipykernel)",
   "language": "python",
   "name": "python3"
  },
  "language_info": {
   "codemirror_mode": {
    "name": "ipython",
    "version": 3
   },
   "file_extension": ".py",
   "mimetype": "text/x-python",
   "name": "python",
   "nbconvert_exporter": "python",
   "pygments_lexer": "ipython3",
   "version": "3.9.7"
  }
 },
 "nbformat": 4,
 "nbformat_minor": 5
}
